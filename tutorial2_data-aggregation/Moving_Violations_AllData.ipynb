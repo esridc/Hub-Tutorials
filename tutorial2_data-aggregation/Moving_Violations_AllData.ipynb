{
 "cells": [
  {
   "cell_type": "markdown",
   "metadata": {},
   "source": [
    "# Steps to publish DC Moving Violations data (2009-2017) as a feature service"
   ]
  },
  {
   "cell_type": "markdown",
   "metadata": {},
   "source": [
    "__Requirements:__\n",
    "> 1. ArcGIS pro (v 1.4 or higher)\n",
    "> 2. 'arcgis' package installed with ArcGIS Pro (follow [instructions](https://developers.arcgis.com/python/guide/install-and-set-up/) under Step 2 (Install using ArcGIS Pro)"
   ]
  },
  {
   "cell_type": "markdown",
   "metadata": {},
   "source": [
    "Once installed, locate the proenv.bat within '\\ArcGIS\\Pro\\bin\\python\\scripts\\', launch terminal/command prompt and execute the following command\n",
    "\n",
    "__`path_to_this_file\\proenv.bat`__\n",
    "\n",
    "Then launch a jupyter notebook instance. This ensures that Python and the ArcGIS API for Python that is integrated with ArcGIS Pro is used to implement the rest of this notebook that follows."
   ]
  },
  {
   "cell_type": "code",
   "execution_count": 1,
   "metadata": {
    "collapsed": true
   },
   "outputs": [],
   "source": [
    "import arcpy\n",
    "import pandas as pd"
   ]
  },
  {
   "cell_type": "code",
   "execution_count": 2,
   "metadata": {},
   "outputs": [],
   "source": [
    "from arcgis.features import FeatureLayer\n",
    "from arcgis.gis import *\n",
    "gis = GIS(\"http://dcdev.maps.arcgis.com/\", \"username\", \"password\")"
   ]
  },
  {
   "cell_type": "code",
   "execution_count": 3,
   "metadata": {
    "collapsed": true
   },
   "outputs": [],
   "source": [
    "p1 = 'http://maps2.dcgis.dc.gov/dcgis/rest/services/DCGIS_DATA/Violations_Moving_'\n",
    "p2 = '/MapServer/'"
   ]
  },
  {
   "cell_type": "code",
   "execution_count": 4,
   "metadata": {},
   "outputs": [
    {
     "name": "stderr",
     "output_type": "stream",
     "text": [
      "Invalid or missing input parameters.\n"
     ]
    },
    {
     "name": "stdout",
     "output_type": "stream",
     "text": [
      "No data available for 2017 1\n"
     ]
    },
    {
     "name": "stderr",
     "output_type": "stream",
     "text": [
      "Invalid or missing input parameters.\n"
     ]
    },
    {
     "name": "stdout",
     "output_type": "stream",
     "text": [
      "No data available for 2017 2\n"
     ]
    },
    {
     "name": "stderr",
     "output_type": "stream",
     "text": [
      "Invalid or missing input parameters.\n"
     ]
    },
    {
     "name": "stdout",
     "output_type": "stream",
     "text": [
      "No data available for 2017 3\n"
     ]
    },
    {
     "name": "stderr",
     "output_type": "stream",
     "text": [
      "Invalid or missing input parameters.\n"
     ]
    },
    {
     "name": "stdout",
     "output_type": "stream",
     "text": [
      "No data available for 2017 4\n"
     ]
    },
    {
     "name": "stderr",
     "output_type": "stream",
     "text": [
      "Invalid or missing input parameters.\n"
     ]
    },
    {
     "name": "stdout",
     "output_type": "stream",
     "text": [
      "No data available for 2017 5\n"
     ]
    },
    {
     "name": "stderr",
     "output_type": "stream",
     "text": [
      "Invalid or missing input parameters.\n"
     ]
    },
    {
     "name": "stdout",
     "output_type": "stream",
     "text": [
      "No data available for 2017 6\n"
     ]
    },
    {
     "name": "stderr",
     "output_type": "stream",
     "text": [
      "Invalid or missing input parameters.\n"
     ]
    },
    {
     "name": "stdout",
     "output_type": "stream",
     "text": [
      "No data available for 2017 7\n"
     ]
    },
    {
     "name": "stderr",
     "output_type": "stream",
     "text": [
      "Invalid or missing input parameters.\n"
     ]
    },
    {
     "name": "stdout",
     "output_type": "stream",
     "text": [
      "No data available for 2017 8\n"
     ]
    },
    {
     "name": "stderr",
     "output_type": "stream",
     "text": [
      "Invalid or missing input parameters.\n"
     ]
    },
    {
     "name": "stdout",
     "output_type": "stream",
     "text": [
      "No data available for 2017 9\n"
     ]
    },
    {
     "name": "stderr",
     "output_type": "stream",
     "text": [
      "Invalid or missing input parameters.\n"
     ]
    },
    {
     "name": "stdout",
     "output_type": "stream",
     "text": [
      "No data available for 2017 10\n"
     ]
    },
    {
     "name": "stderr",
     "output_type": "stream",
     "text": [
      "Invalid or missing input parameters.\n"
     ]
    },
    {
     "name": "stdout",
     "output_type": "stream",
     "text": [
      "No data available for 2017 11\n"
     ]
    }
   ],
   "source": [
    "all_months = pd.DataFrame()\n",
    "years = ['2009', '2010', '2011', '2012', '2013', '2014', '2015', '2016', '2017']\n",
    "\n",
    "for i in years:\n",
    "    for j in range(0,12):\n",
    "        #builds url to extract data for specific month from Jan-June\n",
    "        url = p1 + str(i) + p2 + str(j)\n",
    "        try:\n",
    "            data_layer = FeatureLayer(url)\n",
    "            #Extracts all data for specific month\n",
    "            month_features = data_layer.query()\n",
    "            #Converts it to a pandas dataframe\n",
    "            month_data = month_features.df\n",
    "            #Add the new month below the existing data in all_months\n",
    "            all_months = pd.concat([all_months, month_data])\n",
    "        except:\n",
    "            print('No data available for '+i,j)"
   ]
  },
  {
   "cell_type": "code",
   "execution_count": 5,
   "metadata": {},
   "outputs": [
    {
     "data": {
      "text/plain": [
       "(5720352, 29)"
      ]
     },
     "execution_count": 5,
     "metadata": {},
     "output_type": "execute_result"
    }
   ],
   "source": [
    "all_months.shape"
   ]
  },
  {
   "cell_type": "code",
   "execution_count": 6,
   "metadata": {},
   "outputs": [
    {
     "data": {
      "text/plain": [
       "ACCIDENTINDICATOR     object\n",
       "ADDRESS_ID             int64\n",
       "AGENCYID             float64\n",
       "BODYSTYLE             object\n",
       "DISPOSITIONCODE      float64\n",
       "DISPOSITIONDATE      float64\n",
       "DISPOSITIONTYPE       object\n",
       "FINEAMT              float64\n",
       "ISSUETIME            float64\n",
       "LOCATION              object\n",
       "OBJECTID               int64\n",
       "PENALTY1             float64\n",
       "PENALTY2              object\n",
       "PENALTY3              object\n",
       "PENALTY4              object\n",
       "PENALTY5              object\n",
       "ROW_                   int64\n",
       "ROW_ID                object\n",
       "RPMULTOWNERNO         object\n",
       "RPPLATESTATE          object\n",
       "SHAPE                 object\n",
       "STREETSEGID          float64\n",
       "TICKETISSUEDATE        int64\n",
       "TICKETTYPE            object\n",
       "TOTALPAID            float64\n",
       "VIOLATIONCODE         object\n",
       "VIOLATIONDESC         object\n",
       "XCOORD               float64\n",
       "YCOORD               float64\n",
       "dtype: object"
      ]
     },
     "execution_count": 6,
     "metadata": {},
     "output_type": "execute_result"
    }
   ],
   "source": [
    "all_months.dtypes"
   ]
  },
  {
   "cell_type": "code",
   "execution_count": 7,
   "metadata": {
    "collapsed": true
   },
   "outputs": [],
   "source": [
    "#Renaming columns to suit ArcGIS online requirements\n",
    "all_months.rename(columns={'XCOORD': 'x', 'YCOORD': 'y'}, inplace=True)"
   ]
  },
  {
   "cell_type": "code",
   "execution_count": 8,
   "metadata": {
    "collapsed": true
   },
   "outputs": [],
   "source": [
    "#Indexing the entire dataframe\n",
    "all_months.reset_index(inplace=True)"
   ]
  },
  {
   "cell_type": "markdown",
   "metadata": {},
   "source": [
    "Here, the column type of `TICKETISSUEDATE` will have to be changed to String type, else the API doesn't allow publishing the data."
   ]
  },
  {
   "cell_type": "code",
   "execution_count": 9,
   "metadata": {
    "collapsed": true
   },
   "outputs": [],
   "source": [
    "all_months['TICKETISSUEDATE'] = all_months['TICKETISSUEDATE'].astype(str)"
   ]
  },
  {
   "cell_type": "code",
   "execution_count": 10,
   "metadata": {},
   "outputs": [
    {
     "data": {
      "text/plain": [
       "datetime.time(16, 8, 1, 211862)"
      ]
     },
     "execution_count": 10,
     "metadata": {},
     "output_type": "execute_result"
    }
   ],
   "source": [
    "import datetime\n",
    "datetime.datetime.now().time()"
   ]
  },
  {
   "cell_type": "code",
   "execution_count": 11,
   "metadata": {
    "collapsed": true
   },
   "outputs": [],
   "source": [
    "#Publishing the data\n",
    "mv_layer = gis.content.import_data(all_months, title='AllMovingViolations_Aug31')"
   ]
  },
  {
   "cell_type": "code",
   "execution_count": 12,
   "metadata": {},
   "outputs": [
    {
     "data": {
      "text/plain": [
       "datetime.time(17, 12, 31, 718630)"
      ]
     },
     "execution_count": 12,
     "metadata": {},
     "output_type": "execute_result"
    }
   ],
   "source": [
    "datetime.datetime.now().time()"
   ]
  },
  {
   "cell_type": "code",
   "execution_count": 13,
   "metadata": {},
   "outputs": [
    {
     "data": {
      "text/html": [
       "<div class=\"item_container\" style=\"height: auto; overflow: hidden; border: 1px solid #cfcfcf; border-radius: 2px; background: #f6fafa; line-height: 1.21429em; padding: 10px;\">\n",
       "                    <div class=\"item_left\" style=\"width: 210px; float: left;\">\n",
       "                       <a href='http://dcdev.maps.arcgis.com//home/item.html?id=7a2cad65fd7a42c9a25fe421a5f9460e' target='_blank'>\n",
       "                        <img src='http://static.arcgis.com/images/desktopapp.png' class=\"itemThumbnail\">\n",
       "                       </a>\n",
       "                    </div>\n",
       "\n",
       "                    <div class=\"item_right\"     style=\"float: none; width: auto; overflow: hidden;\">\n",
       "                        <a href='http://dcdev.maps.arcgis.com//home/item.html?id=7a2cad65fd7a42c9a25fe421a5f9460e' target='_blank'><b>AllMovingViolations_Aug31</b>\n",
       "                        </a>\n",
       "                        <br/><img src='http://dcdev.maps.arcgis.com//home/js/jsapi/esri/css/images/item_type_icons/layers16.png' style=\"vertical-align:middle;\">File Geodatabase by mmajumdar_dcdev\n",
       "                        <br/>Last Modified: August 31, 2017\n",
       "                        <br/>0 comments, 0 views\n",
       "                    </div>\n",
       "                </div>\n",
       "                "
      ],
      "text/plain": [
       "<Item title:\"AllMovingViolations_Aug31\" type:File Geodatabase owner:mmajumdar_dcdev>"
      ]
     },
     "execution_count": 13,
     "metadata": {},
     "output_type": "execute_result"
    }
   ],
   "source": [
    "#Verifying it\n",
    "search_result = gis.content.search(\"AllMovingViolations_Aug31\")\n",
    "search_result[0]"
   ]
  }
 ],
 "metadata": {
  "kernelspec": {
   "display_name": "Python 3",
   "language": "python",
   "name": "python3"
  },
  "language_info": {
   "codemirror_mode": {
    "name": "ipython",
    "version": 3
   },
   "file_extension": ".py",
   "mimetype": "text/x-python",
   "name": "python",
   "nbconvert_exporter": "python",
   "pygments_lexer": "ipython3",
   "version": "3.5.4"
  }
 },
 "nbformat": 4,
 "nbformat_minor": 2
}
