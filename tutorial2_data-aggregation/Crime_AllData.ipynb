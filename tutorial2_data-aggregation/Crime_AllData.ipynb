{
 "cells": [
  {
   "cell_type": "markdown",
   "metadata": {},
   "source": [
    "# Steps to publish DC Crime data (2008-2017) as a feature service"
   ]
  },
  {
   "cell_type": "markdown",
   "metadata": {},
   "source": [
    "__Requirements:__\n",
    "> 1. ArcGIS pro (v 1.4 or higher)\n",
    "> 2. 'arcgis' package installed with ArcGIS Pro (follow [instructions](https://developers.arcgis.com/python/guide/install-and-set-up/) under Step 2 (Install using ArcGIS Pro)"
   ]
  },
  {
   "cell_type": "markdown",
   "metadata": {},
   "source": [
    "Once installed, locate the proenv.bat within '\\ArcGIS\\Pro\\bin\\python\\scripts\\', launch terminal/command prompt and execute the following command\n",
    "\n",
    "__`path_to_this_file\\proenv.bat`__\n",
    "\n",
    "Then launch a jupyter notebook instance. This ensures that Python and the ArcGIS API for Python that is integrated with ArcGIS Pro is used to implement the rest of this notebook that follows."
   ]
  },
  {
   "cell_type": "code",
   "execution_count": 1,
   "metadata": {
    "collapsed": true
   },
   "outputs": [],
   "source": [
    "import arcpy\n",
    "import pandas as pd"
   ]
  },
  {
   "cell_type": "code",
   "execution_count": 2,
   "metadata": {
    "collapsed": true
   },
   "outputs": [],
   "source": [
    "from arcgis.features import FeatureLayer\n",
    "from arcgis.gis import *\n",
    "gis = GIS(\"http://dcdev.maps.arcgis.com/\", \"username\", \"password\")"
   ]
  },
  {
   "cell_type": "code",
   "execution_count": 3,
   "metadata": {
    "collapsed": true
   },
   "outputs": [],
   "source": [
    "#Server location for all DC Crime data\n",
    "url1 = 'https://maps2.dcgis.dc.gov/dcgis/rest/services/FEEDS/MPD/MapServer/'"
   ]
  },
  {
   "cell_type": "code",
   "execution_count": 4,
   "metadata": {},
   "outputs": [],
   "source": [
    "#Looping through to combine data of all years\n",
    "all_crime = pd.DataFrame()\n",
    "years = ['32', '33', '34', '35', '11', '10', '9', '27', '26', '38']\n",
    "for i in years:\n",
    "    url = url1 + i\n",
    "    try:\n",
    "        data_layer = FeatureLayer(url)\n",
    "        #Extracts all data for specific year\n",
    "        year_features = data_layer.query()\n",
    "        #Converts it to a pandas dataframe\n",
    "        year_data = year_features.df\n",
    "        #Add the new month below the existing data in all_crime\n",
    "        all_crime = pd.concat([all_crime, year_data])\n",
    "    except:\n",
    "        print(i)"
   ]
  },
  {
   "cell_type": "code",
   "execution_count": 5,
   "metadata": {},
   "outputs": [
    {
     "data": {
      "text/plain": [
       "(336850, 25)"
      ]
     },
     "execution_count": 5,
     "metadata": {},
     "output_type": "execute_result"
    }
   ],
   "source": [
    "all_crime.shape"
   ]
  },
  {
   "cell_type": "code",
   "execution_count": 6,
   "metadata": {},
   "outputs": [
    {
     "data": {
      "text/html": [
       "<div>\n",
       "<style>\n",
       "    .dataframe thead tr:only-child th {\n",
       "        text-align: right;\n",
       "    }\n",
       "\n",
       "    .dataframe thead th {\n",
       "        text-align: left;\n",
       "    }\n",
       "\n",
       "    .dataframe tbody tr th {\n",
       "        vertical-align: top;\n",
       "    }\n",
       "</style>\n",
       "<table border=\"1\" class=\"dataframe\">\n",
       "  <thead>\n",
       "    <tr style=\"text-align: right;\">\n",
       "      <th></th>\n",
       "      <th>ANC</th>\n",
       "      <th>BID</th>\n",
       "      <th>BLOCK</th>\n",
       "      <th>BLOCK_GROUP</th>\n",
       "      <th>CCN</th>\n",
       "      <th>CENSUS_TRACT</th>\n",
       "      <th>DISTRICT</th>\n",
       "      <th>END_DATE</th>\n",
       "      <th>LATITUDE</th>\n",
       "      <th>LONGITUDE</th>\n",
       "      <th>...</th>\n",
       "      <th>REPORT_DAT</th>\n",
       "      <th>SHIFT</th>\n",
       "      <th>START_DATE</th>\n",
       "      <th>VOTING_PRECINCT</th>\n",
       "      <th>WARD</th>\n",
       "      <th>XBLOCK</th>\n",
       "      <th>XCOORD</th>\n",
       "      <th>YBLOCK</th>\n",
       "      <th>YCOORD</th>\n",
       "      <th>SHAPE</th>\n",
       "    </tr>\n",
       "  </thead>\n",
       "  <tbody>\n",
       "    <tr>\n",
       "      <th>0</th>\n",
       "      <td>7D</td>\n",
       "      <td>None</td>\n",
       "      <td>1900 - 2199 BLOCK OF EAST CAPITOL STREET</td>\n",
       "      <td>006804 1</td>\n",
       "      <td>08114924</td>\n",
       "      <td>006804</td>\n",
       "      <td>1</td>\n",
       "      <td>1.218755e+12</td>\n",
       "      <td>38.890104</td>\n",
       "      <td>-76.975437</td>\n",
       "      <td>...</td>\n",
       "      <td>1218754800000</td>\n",
       "      <td>EVENING</td>\n",
       "      <td>1.218752e+12</td>\n",
       "      <td>Precinct 80</td>\n",
       "      <td>7</td>\n",
       "      <td>402131.000000</td>\n",
       "      <td>402347.350</td>\n",
       "      <td>135807.00000</td>\n",
       "      <td>135781.36</td>\n",
       "      <td>{'x': 402131, 'y': 135807}</td>\n",
       "    </tr>\n",
       "    <tr>\n",
       "      <th>1</th>\n",
       "      <td>8E</td>\n",
       "      <td>None</td>\n",
       "      <td>900 - 999 BLOCK OF BARNABY STREET SE</td>\n",
       "      <td>009801 1</td>\n",
       "      <td>08114963</td>\n",
       "      <td>009801</td>\n",
       "      <td>7</td>\n",
       "      <td>1.218672e+12</td>\n",
       "      <td>38.832904</td>\n",
       "      <td>-76.990195</td>\n",
       "      <td>...</td>\n",
       "      <td>1218761400000</td>\n",
       "      <td>MIDNIGHT</td>\n",
       "      <td>1.218756e+12</td>\n",
       "      <td>Precinct 121</td>\n",
       "      <td>8</td>\n",
       "      <td>400851.299167</td>\n",
       "      <td>400851.299</td>\n",
       "      <td>129457.20047</td>\n",
       "      <td>129457.20</td>\n",
       "      <td>{'x': 400851.2991999984, 'y': 129457.20050000027}</td>\n",
       "    </tr>\n",
       "    <tr>\n",
       "      <th>2</th>\n",
       "      <td>2B</td>\n",
       "      <td>None</td>\n",
       "      <td>1620 - 1699 BLOCK OF 15TH STREET NW</td>\n",
       "      <td>005201 2</td>\n",
       "      <td>08114980</td>\n",
       "      <td>005201</td>\n",
       "      <td>3</td>\n",
       "      <td>1.218755e+12</td>\n",
       "      <td>38.912235</td>\n",
       "      <td>-77.034556</td>\n",
       "      <td>...</td>\n",
       "      <td>1218763320000</td>\n",
       "      <td>MIDNIGHT</td>\n",
       "      <td>1.218677e+12</td>\n",
       "      <td>Precinct 16</td>\n",
       "      <td>2</td>\n",
       "      <td>397003.000000</td>\n",
       "      <td>396978.830</td>\n",
       "      <td>138264.00000</td>\n",
       "      <td>138283.08</td>\n",
       "      <td>{'x': 397003, 'y': 138264}</td>\n",
       "    </tr>\n",
       "    <tr>\n",
       "      <th>3</th>\n",
       "      <td>7F</td>\n",
       "      <td>None</td>\n",
       "      <td>3826 - 3999 BLOCK OF BLAINE STREET NE</td>\n",
       "      <td>009603 2</td>\n",
       "      <td>08114985</td>\n",
       "      <td>009603</td>\n",
       "      <td>6</td>\n",
       "      <td>1.218760e+12</td>\n",
       "      <td>38.891888</td>\n",
       "      <td>-76.948809</td>\n",
       "      <td>...</td>\n",
       "      <td>1218771900000</td>\n",
       "      <td>MIDNIGHT</td>\n",
       "      <td>1.218760e+12</td>\n",
       "      <td>Precinct 102</td>\n",
       "      <td>7</td>\n",
       "      <td>404441.000000</td>\n",
       "      <td>404452.740</td>\n",
       "      <td>136006.00000</td>\n",
       "      <td>136027.68</td>\n",
       "      <td>{'x': 404441, 'y': 136006}</td>\n",
       "    </tr>\n",
       "    <tr>\n",
       "      <th>4</th>\n",
       "      <td>4C</td>\n",
       "      <td>None</td>\n",
       "      <td>1300  - 1399 BLOCK OF GALLATIN STREET NW</td>\n",
       "      <td>002002 3</td>\n",
       "      <td>08114995</td>\n",
       "      <td>002002</td>\n",
       "      <td>4</td>\n",
       "      <td>1.218766e+12</td>\n",
       "      <td>38.951872</td>\n",
       "      <td>-77.031564</td>\n",
       "      <td>...</td>\n",
       "      <td>1218768300000</td>\n",
       "      <td>MIDNIGHT</td>\n",
       "      <td>1.218766e+12</td>\n",
       "      <td>Precinct 54</td>\n",
       "      <td>4</td>\n",
       "      <td>397264.000000</td>\n",
       "      <td>397404.160</td>\n",
       "      <td>142664.00000</td>\n",
       "      <td>142640.72</td>\n",
       "      <td>{'x': 397264, 'y': 142664}</td>\n",
       "    </tr>\n",
       "  </tbody>\n",
       "</table>\n",
       "<p>5 rows × 25 columns</p>\n",
       "</div>"
      ],
      "text/plain": [
       "  ANC   BID                                     BLOCK BLOCK_GROUP       CCN  \\\n",
       "0  7D  None  1900 - 2199 BLOCK OF EAST CAPITOL STREET    006804 1  08114924   \n",
       "1  8E  None      900 - 999 BLOCK OF BARNABY STREET SE    009801 1  08114963   \n",
       "2  2B  None       1620 - 1699 BLOCK OF 15TH STREET NW    005201 2  08114980   \n",
       "3  7F  None     3826 - 3999 BLOCK OF BLAINE STREET NE    009603 2  08114985   \n",
       "4  4C  None  1300  - 1399 BLOCK OF GALLATIN STREET NW    002002 3  08114995   \n",
       "\n",
       "  CENSUS_TRACT DISTRICT      END_DATE   LATITUDE  LONGITUDE  \\\n",
       "0       006804        1  1.218755e+12  38.890104 -76.975437   \n",
       "1       009801        7  1.218672e+12  38.832904 -76.990195   \n",
       "2       005201        3  1.218755e+12  38.912235 -77.034556   \n",
       "3       009603        6  1.218760e+12  38.891888 -76.948809   \n",
       "4       002002        4  1.218766e+12  38.951872 -77.031564   \n",
       "\n",
       "                         ...                             REPORT_DAT     SHIFT  \\\n",
       "0                        ...                          1218754800000   EVENING   \n",
       "1                        ...                          1218761400000  MIDNIGHT   \n",
       "2                        ...                          1218763320000  MIDNIGHT   \n",
       "3                        ...                          1218771900000  MIDNIGHT   \n",
       "4                        ...                          1218768300000  MIDNIGHT   \n",
       "\n",
       "     START_DATE VOTING_PRECINCT WARD         XBLOCK      XCOORD        YBLOCK  \\\n",
       "0  1.218752e+12     Precinct 80    7  402131.000000  402347.350  135807.00000   \n",
       "1  1.218756e+12    Precinct 121    8  400851.299167  400851.299  129457.20047   \n",
       "2  1.218677e+12     Precinct 16    2  397003.000000  396978.830  138264.00000   \n",
       "3  1.218760e+12    Precinct 102    7  404441.000000  404452.740  136006.00000   \n",
       "4  1.218766e+12     Precinct 54    4  397264.000000  397404.160  142664.00000   \n",
       "\n",
       "      YCOORD                                              SHAPE  \n",
       "0  135781.36                         {'x': 402131, 'y': 135807}  \n",
       "1  129457.20  {'x': 400851.2991999984, 'y': 129457.20050000027}  \n",
       "2  138283.08                         {'x': 397003, 'y': 138264}  \n",
       "3  136027.68                         {'x': 404441, 'y': 136006}  \n",
       "4  142640.72                         {'x': 397264, 'y': 142664}  \n",
       "\n",
       "[5 rows x 25 columns]"
      ]
     },
     "execution_count": 6,
     "metadata": {},
     "output_type": "execute_result"
    }
   ],
   "source": [
    "all_crime.head()"
   ]
  },
  {
   "cell_type": "code",
   "execution_count": 7,
   "metadata": {
    "collapsed": true
   },
   "outputs": [],
   "source": [
    "#Renaming columns to suit ArcGIS online requirements\n",
    "all_crime.rename(columns={'XCOORD': 'x', 'YCOORD': 'y'}, inplace=True)"
   ]
  },
  {
   "cell_type": "code",
   "execution_count": 8,
   "metadata": {
    "collapsed": true
   },
   "outputs": [],
   "source": [
    "#Indexing the entire dataframe\n",
    "all_crime.reset_index(inplace=True)"
   ]
  },
  {
   "cell_type": "code",
   "execution_count": 9,
   "metadata": {},
   "outputs": [
    {
     "data": {
      "text/plain": [
       "index                     int64\n",
       "ANC                      object\n",
       "BID                      object\n",
       "BLOCK                    object\n",
       "BLOCK_GROUP              object\n",
       "CCN                      object\n",
       "CENSUS_TRACT             object\n",
       "DISTRICT                 object\n",
       "END_DATE                float64\n",
       "LATITUDE                float64\n",
       "LONGITUDE               float64\n",
       "METHOD                   object\n",
       "NEIGHBORHOOD_CLUSTER     object\n",
       "OBJECTID                  int64\n",
       "OFFENSE                  object\n",
       "PSA                      object\n",
       "REPORT_DAT                int64\n",
       "SHIFT                    object\n",
       "START_DATE              float64\n",
       "VOTING_PRECINCT          object\n",
       "WARD                     object\n",
       "XBLOCK                  float64\n",
       "x                       float64\n",
       "YBLOCK                  float64\n",
       "y                       float64\n",
       "SHAPE                    object\n",
       "dtype: object"
      ]
     },
     "execution_count": 9,
     "metadata": {},
     "output_type": "execute_result"
    }
   ],
   "source": [
    "#Displaying data types of every column\n",
    "all_crime.dtypes"
   ]
  },
  {
   "cell_type": "markdown",
   "metadata": {},
   "source": [
    "Here, the column type of `REPORT_DAT` will have to be changed to String type, else the API doesn't allow publishing the data."
   ]
  },
  {
   "cell_type": "code",
   "execution_count": 11,
   "metadata": {
    "collapsed": true
   },
   "outputs": [],
   "source": [
    "all_crime['REPORT_DAT'] = all_crime['REPORT_DAT'].astype(str)"
   ]
  },
  {
   "cell_type": "code",
   "execution_count": 12,
   "metadata": {},
   "outputs": [
    {
     "data": {
      "text/html": [
       "<div>\n",
       "<style>\n",
       "    .dataframe thead tr:only-child th {\n",
       "        text-align: right;\n",
       "    }\n",
       "\n",
       "    .dataframe thead th {\n",
       "        text-align: left;\n",
       "    }\n",
       "\n",
       "    .dataframe tbody tr th {\n",
       "        vertical-align: top;\n",
       "    }\n",
       "</style>\n",
       "<table border=\"1\" class=\"dataframe\">\n",
       "  <thead>\n",
       "    <tr style=\"text-align: right;\">\n",
       "      <th></th>\n",
       "      <th>index</th>\n",
       "      <th>ANC</th>\n",
       "      <th>BID</th>\n",
       "      <th>BLOCK</th>\n",
       "      <th>BLOCK_GROUP</th>\n",
       "      <th>CCN</th>\n",
       "      <th>CENSUS_TRACT</th>\n",
       "      <th>DISTRICT</th>\n",
       "      <th>END_DATE</th>\n",
       "      <th>LATITUDE</th>\n",
       "      <th>...</th>\n",
       "      <th>REPORT_DAT</th>\n",
       "      <th>SHIFT</th>\n",
       "      <th>START_DATE</th>\n",
       "      <th>VOTING_PRECINCT</th>\n",
       "      <th>WARD</th>\n",
       "      <th>XBLOCK</th>\n",
       "      <th>x</th>\n",
       "      <th>YBLOCK</th>\n",
       "      <th>y</th>\n",
       "      <th>SHAPE</th>\n",
       "    </tr>\n",
       "  </thead>\n",
       "  <tbody>\n",
       "    <tr>\n",
       "      <th>0</th>\n",
       "      <td>0</td>\n",
       "      <td>7D</td>\n",
       "      <td>None</td>\n",
       "      <td>1900 - 2199 BLOCK OF EAST CAPITOL STREET</td>\n",
       "      <td>006804 1</td>\n",
       "      <td>08114924</td>\n",
       "      <td>006804</td>\n",
       "      <td>1</td>\n",
       "      <td>1.218755e+12</td>\n",
       "      <td>38.890104</td>\n",
       "      <td>...</td>\n",
       "      <td>1218754800000</td>\n",
       "      <td>EVENING</td>\n",
       "      <td>1.218752e+12</td>\n",
       "      <td>Precinct 80</td>\n",
       "      <td>7</td>\n",
       "      <td>402131.000000</td>\n",
       "      <td>402347.350</td>\n",
       "      <td>135807.00000</td>\n",
       "      <td>135781.36</td>\n",
       "      <td>{'x': 402131, 'y': 135807}</td>\n",
       "    </tr>\n",
       "    <tr>\n",
       "      <th>1</th>\n",
       "      <td>1</td>\n",
       "      <td>8E</td>\n",
       "      <td>None</td>\n",
       "      <td>900 - 999 BLOCK OF BARNABY STREET SE</td>\n",
       "      <td>009801 1</td>\n",
       "      <td>08114963</td>\n",
       "      <td>009801</td>\n",
       "      <td>7</td>\n",
       "      <td>1.218672e+12</td>\n",
       "      <td>38.832904</td>\n",
       "      <td>...</td>\n",
       "      <td>1218761400000</td>\n",
       "      <td>MIDNIGHT</td>\n",
       "      <td>1.218756e+12</td>\n",
       "      <td>Precinct 121</td>\n",
       "      <td>8</td>\n",
       "      <td>400851.299167</td>\n",
       "      <td>400851.299</td>\n",
       "      <td>129457.20047</td>\n",
       "      <td>129457.20</td>\n",
       "      <td>{'x': 400851.2991999984, 'y': 129457.20050000027}</td>\n",
       "    </tr>\n",
       "    <tr>\n",
       "      <th>2</th>\n",
       "      <td>2</td>\n",
       "      <td>2B</td>\n",
       "      <td>None</td>\n",
       "      <td>1620 - 1699 BLOCK OF 15TH STREET NW</td>\n",
       "      <td>005201 2</td>\n",
       "      <td>08114980</td>\n",
       "      <td>005201</td>\n",
       "      <td>3</td>\n",
       "      <td>1.218755e+12</td>\n",
       "      <td>38.912235</td>\n",
       "      <td>...</td>\n",
       "      <td>1218763320000</td>\n",
       "      <td>MIDNIGHT</td>\n",
       "      <td>1.218677e+12</td>\n",
       "      <td>Precinct 16</td>\n",
       "      <td>2</td>\n",
       "      <td>397003.000000</td>\n",
       "      <td>396978.830</td>\n",
       "      <td>138264.00000</td>\n",
       "      <td>138283.08</td>\n",
       "      <td>{'x': 397003, 'y': 138264}</td>\n",
       "    </tr>\n",
       "    <tr>\n",
       "      <th>3</th>\n",
       "      <td>3</td>\n",
       "      <td>7F</td>\n",
       "      <td>None</td>\n",
       "      <td>3826 - 3999 BLOCK OF BLAINE STREET NE</td>\n",
       "      <td>009603 2</td>\n",
       "      <td>08114985</td>\n",
       "      <td>009603</td>\n",
       "      <td>6</td>\n",
       "      <td>1.218760e+12</td>\n",
       "      <td>38.891888</td>\n",
       "      <td>...</td>\n",
       "      <td>1218771900000</td>\n",
       "      <td>MIDNIGHT</td>\n",
       "      <td>1.218760e+12</td>\n",
       "      <td>Precinct 102</td>\n",
       "      <td>7</td>\n",
       "      <td>404441.000000</td>\n",
       "      <td>404452.740</td>\n",
       "      <td>136006.00000</td>\n",
       "      <td>136027.68</td>\n",
       "      <td>{'x': 404441, 'y': 136006}</td>\n",
       "    </tr>\n",
       "    <tr>\n",
       "      <th>4</th>\n",
       "      <td>4</td>\n",
       "      <td>4C</td>\n",
       "      <td>None</td>\n",
       "      <td>1300  - 1399 BLOCK OF GALLATIN STREET NW</td>\n",
       "      <td>002002 3</td>\n",
       "      <td>08114995</td>\n",
       "      <td>002002</td>\n",
       "      <td>4</td>\n",
       "      <td>1.218766e+12</td>\n",
       "      <td>38.951872</td>\n",
       "      <td>...</td>\n",
       "      <td>1218768300000</td>\n",
       "      <td>MIDNIGHT</td>\n",
       "      <td>1.218766e+12</td>\n",
       "      <td>Precinct 54</td>\n",
       "      <td>4</td>\n",
       "      <td>397264.000000</td>\n",
       "      <td>397404.160</td>\n",
       "      <td>142664.00000</td>\n",
       "      <td>142640.72</td>\n",
       "      <td>{'x': 397264, 'y': 142664}</td>\n",
       "    </tr>\n",
       "  </tbody>\n",
       "</table>\n",
       "<p>5 rows × 26 columns</p>\n",
       "</div>"
      ],
      "text/plain": [
       "   index ANC   BID                                     BLOCK BLOCK_GROUP  \\\n",
       "0      0  7D  None  1900 - 2199 BLOCK OF EAST CAPITOL STREET    006804 1   \n",
       "1      1  8E  None      900 - 999 BLOCK OF BARNABY STREET SE    009801 1   \n",
       "2      2  2B  None       1620 - 1699 BLOCK OF 15TH STREET NW    005201 2   \n",
       "3      3  7F  None     3826 - 3999 BLOCK OF BLAINE STREET NE    009603 2   \n",
       "4      4  4C  None  1300  - 1399 BLOCK OF GALLATIN STREET NW    002002 3   \n",
       "\n",
       "        CCN CENSUS_TRACT DISTRICT      END_DATE   LATITUDE  \\\n",
       "0  08114924       006804        1  1.218755e+12  38.890104   \n",
       "1  08114963       009801        7  1.218672e+12  38.832904   \n",
       "2  08114980       005201        3  1.218755e+12  38.912235   \n",
       "3  08114985       009603        6  1.218760e+12  38.891888   \n",
       "4  08114995       002002        4  1.218766e+12  38.951872   \n",
       "\n",
       "                         ...                             REPORT_DAT     SHIFT  \\\n",
       "0                        ...                          1218754800000   EVENING   \n",
       "1                        ...                          1218761400000  MIDNIGHT   \n",
       "2                        ...                          1218763320000  MIDNIGHT   \n",
       "3                        ...                          1218771900000  MIDNIGHT   \n",
       "4                        ...                          1218768300000  MIDNIGHT   \n",
       "\n",
       "     START_DATE  VOTING_PRECINCT WARD         XBLOCK           x  \\\n",
       "0  1.218752e+12      Precinct 80    7  402131.000000  402347.350   \n",
       "1  1.218756e+12     Precinct 121    8  400851.299167  400851.299   \n",
       "2  1.218677e+12      Precinct 16    2  397003.000000  396978.830   \n",
       "3  1.218760e+12     Precinct 102    7  404441.000000  404452.740   \n",
       "4  1.218766e+12      Precinct 54    4  397264.000000  397404.160   \n",
       "\n",
       "         YBLOCK          y                                              SHAPE  \n",
       "0  135807.00000  135781.36                         {'x': 402131, 'y': 135807}  \n",
       "1  129457.20047  129457.20  {'x': 400851.2991999984, 'y': 129457.20050000027}  \n",
       "2  138264.00000  138283.08                         {'x': 397003, 'y': 138264}  \n",
       "3  136006.00000  136027.68                         {'x': 404441, 'y': 136006}  \n",
       "4  142664.00000  142640.72                         {'x': 397264, 'y': 142664}  \n",
       "\n",
       "[5 rows x 26 columns]"
      ]
     },
     "execution_count": 12,
     "metadata": {},
     "output_type": "execute_result"
    }
   ],
   "source": [
    "all_crime.head()"
   ]
  },
  {
   "cell_type": "code",
   "execution_count": 13,
   "metadata": {
    "collapsed": true
   },
   "outputs": [],
   "source": [
    "#Publishing the data\n",
    "crime_layer = gis.content.import_data(all_crime, title='AllCrime_Aug31')"
   ]
  },
  {
   "cell_type": "code",
   "execution_count": 14,
   "metadata": {},
   "outputs": [
    {
     "data": {
      "text/html": [
       "<div class=\"item_container\" style=\"height: auto; overflow: hidden; border: 1px solid #cfcfcf; border-radius: 2px; background: #f6fafa; line-height: 1.21429em; padding: 10px;\">\n",
       "                    <div class=\"item_left\" style=\"width: 210px; float: left;\">\n",
       "                       <a href='http://dcdev.maps.arcgis.com//home/item.html?id=745f4dd2b91f418389d022e4257adba9' target='_blank'>\n",
       "                        <img src='data:image/png;base64,R0lGODlhBQAFAID/AMDAwAAAACH5BAEAAAAALAAAAAAFAAUAQAIEhI+pWAA7' width='200' height='133' class=\"itemThumbnail\">\n",
       "                       </a>\n",
       "                    </div>\n",
       "\n",
       "                    <div class=\"item_right\"     style=\"float: none; width: auto; overflow: hidden;\">\n",
       "                        <a href='http://dcdev.maps.arcgis.com//home/item.html?id=745f4dd2b91f418389d022e4257adba9' target='_blank'><b>AllCrime_Aug31</b>\n",
       "                        </a>\n",
       "                        <br/><img src='http://dcdev.maps.arcgis.com//home/js/jsapi/esri/css/images/item_type_icons/featureshosted16.png' style=\"vertical-align:middle;\">Feature Layer Collection by mmajumdar_dcdev\n",
       "                        <br/>Last Modified: August 31, 2017\n",
       "                        <br/>0 comments, 1 views\n",
       "                    </div>\n",
       "                </div>\n",
       "                "
      ],
      "text/plain": [
       "<Item title:\"AllCrime_Aug31\" type:Feature Layer Collection owner:mmajumdar_dcdev>"
      ]
     },
     "execution_count": 14,
     "metadata": {},
     "output_type": "execute_result"
    }
   ],
   "source": [
    "#Verifying it\n",
    "search_result = gis.content.search(\"AllCrime_Aug31\")\n",
    "search_result[0]"
   ]
  },
  {
   "cell_type": "code",
   "execution_count": null,
   "metadata": {
    "collapsed": true
   },
   "outputs": [],
   "source": []
  }
 ],
 "metadata": {
  "kernelspec": {
   "display_name": "Python 3",
   "language": "python",
   "name": "python3"
  },
  "language_info": {
   "codemirror_mode": {
    "name": "ipython",
    "version": 3
   },
   "file_extension": ".py",
   "mimetype": "text/x-python",
   "name": "python",
   "nbconvert_exporter": "python",
   "pygments_lexer": "ipython3",
   "version": "3.5.4"
  }
 },
 "nbformat": 4,
 "nbformat_minor": 2
}
