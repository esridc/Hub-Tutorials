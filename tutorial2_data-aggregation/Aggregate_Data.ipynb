{
 "cells": [
  {
   "cell_type": "code",
   "execution_count": 12,
   "metadata": {
    "collapsed": true
   },
   "outputs": [],
   "source": [
    "from arcgis.features import FeatureLayer\n",
    "from arcgis.gis import GIS"
   ]
  },
  {
   "cell_type": "code",
   "execution_count": 13,
   "metadata": {
    "collapsed": true
   },
   "outputs": [],
   "source": [
    "moving_violations_source = 'http://maps2.dcgis.dc.gov/dcgis/rest/services/DCGIS_DATA/Violations_Moving_2016/MapServer/'"
   ]
  },
  {
   "cell_type": "markdown",
   "metadata": {},
   "source": [
    "This is the location for all the individual month datasets for the Moving Violations data for the year 2016.\n",
    " \n",
    "To extract the data, for a particular month we look within the folder number for that month\n",
    "\n",
    "For instance\n",
    "\n",
    "* Data for January 2016, can be extracted using the URL `http://maps2.dcgis.dc.gov/dcgis/rest/services/DCGIS_DATA/Violations_Moving_2016/MapServer/`__`0`__\n",
    "\n",
    "* Data for February 2016, can be extracted using the URL `http://maps2.dcgis.dc.gov/dcgis/rest/services/DCGIS_DATA/Violations_Moving_2016/MapServer/`__`1`__\n",
    "\n",
    "and so on.."
   ]
  },
  {
   "cell_type": "markdown",
   "metadata": {},
   "source": [
    "Here, we demonstrate extracting data for the months of January-June 2016, and then aggregating them all in a single dataset.\n",
    "\n",
    "If data for January can be found within foder 0, data for June can be found within data 5. To verify, we observe the number within parenthesis for the month we are looking up in the URL stored in `moving_violations_source`.\n",
    "\n",
    "We then extract, convert and combine this data within a loop"
   ]
  },
  {
   "cell_type": "code",
   "execution_count": 19,
   "metadata": {
    "collapsed": true
   },
   "outputs": [],
   "source": [
    "import pandas as pd\n",
    "all_months = pd.DataFrame()"
   ]
  },
  {
   "cell_type": "code",
   "execution_count": 20,
   "metadata": {},
   "outputs": [],
   "source": [
    "for i in range(0,6):\n",
    "    #builds url to extract data for specific month from Jan-June\n",
    "    url = moving_violations_source + str(i)\n",
    "    data_layer = FeatureLayer(url)\n",
    "    #Extracts all data for specific month\n",
    "    month_features = data_layer.query()\n",
    "    #Converts it to a pandas dataframe\n",
    "    month_data = month_features.df\n",
    "    all_months = pd.concat([all_months, month_data])"
   ]
  },
  {
   "cell_type": "code",
   "execution_count": 22,
   "metadata": {},
   "outputs": [
    {
     "data": {
      "text/plain": [
       "(532884, 19)"
      ]
     },
     "execution_count": 22,
     "metadata": {},
     "output_type": "execute_result"
    }
   ],
   "source": [
    "all_months.shape"
   ]
  },
  {
   "cell_type": "code",
   "execution_count": 24,
   "metadata": {},
   "outputs": [
    {
     "data": {
      "text/plain": [
       "(83371, 19)"
      ]
     },
     "execution_count": 24,
     "metadata": {},
     "output_type": "execute_result"
    }
   ],
   "source": [
    "month_data.shape"
   ]
  },
  {
   "cell_type": "code",
   "execution_count": 23,
   "metadata": {},
   "outputs": [
    {
     "data": {
      "text/html": [
       "<div>\n",
       "<style>\n",
       "    .dataframe thead tr:only-child th {\n",
       "        text-align: right;\n",
       "    }\n",
       "\n",
       "    .dataframe thead th {\n",
       "        text-align: left;\n",
       "    }\n",
       "\n",
       "    .dataframe tbody tr th {\n",
       "        vertical-align: top;\n",
       "    }\n",
       "</style>\n",
       "<table border=\"1\" class=\"dataframe\">\n",
       "  <thead>\n",
       "    <tr style=\"text-align: right;\">\n",
       "      <th></th>\n",
       "      <th>ACCIDENTINDICATOR</th>\n",
       "      <th>ADDRESS_ID</th>\n",
       "      <th>AGENCYID</th>\n",
       "      <th>FINEAMT</th>\n",
       "      <th>LOCATION</th>\n",
       "      <th>OBJECTID</th>\n",
       "      <th>PENALTY1</th>\n",
       "      <th>PENALTY2</th>\n",
       "      <th>ROW_</th>\n",
       "      <th>ROW_ID</th>\n",
       "      <th>STREETSEGID</th>\n",
       "      <th>TICKETISSUEDATE</th>\n",
       "      <th>TICKETTYPE</th>\n",
       "      <th>TOTALPAID</th>\n",
       "      <th>VIOLATIONCODE</th>\n",
       "      <th>VIOLATIONDESC</th>\n",
       "      <th>XCOORD</th>\n",
       "      <th>YCOORD</th>\n",
       "      <th>SHAPE</th>\n",
       "    </tr>\n",
       "  </thead>\n",
       "  <tbody>\n",
       "    <tr>\n",
       "      <th>0</th>\n",
       "      <td>NO</td>\n",
       "      <td>805065</td>\n",
       "      <td>25</td>\n",
       "      <td>100</td>\n",
       "      <td>2200 BLK K ST NW W/B</td>\n",
       "      <td>11844743</td>\n",
       "      <td>0</td>\n",
       "      <td>0</td>\n",
       "      <td>6991794</td>\n",
       "      <td>None</td>\n",
       "      <td>4361.0</td>\n",
       "      <td>1451606400000</td>\n",
       "      <td>PHOTO</td>\n",
       "      <td>100.0</td>\n",
       "      <td>T119</td>\n",
       "      <td>SPEED 11-15 MPH OVER THE SPEED LIMIT</td>\n",
       "      <td>395664.920000</td>\n",
       "      <td>137186.890000</td>\n",
       "      <td>{'x': 395664.92, 'y': 137186.89}</td>\n",
       "    </tr>\n",
       "    <tr>\n",
       "      <th>1</th>\n",
       "      <td>NO</td>\n",
       "      <td>303037</td>\n",
       "      <td>25</td>\n",
       "      <td>100</td>\n",
       "      <td>100 BLK IRVING ST NW W/B</td>\n",
       "      <td>11844744</td>\n",
       "      <td>100</td>\n",
       "      <td>0</td>\n",
       "      <td>6991795</td>\n",
       "      <td>None</td>\n",
       "      <td>6350.0</td>\n",
       "      <td>1451606400000</td>\n",
       "      <td>PHOTO</td>\n",
       "      <td>200.0</td>\n",
       "      <td>T119</td>\n",
       "      <td>SPEED 11-15 MPH OVER THE SPEED LIMIT</td>\n",
       "      <td>398820.990000</td>\n",
       "      <td>140084.440000</td>\n",
       "      <td>{'x': 398820.99, 'y': 140084.44}</td>\n",
       "    </tr>\n",
       "    <tr>\n",
       "      <th>2</th>\n",
       "      <td>NO</td>\n",
       "      <td>805065</td>\n",
       "      <td>25</td>\n",
       "      <td>100</td>\n",
       "      <td>2200 BLK K ST NW W/B</td>\n",
       "      <td>11844745</td>\n",
       "      <td>0</td>\n",
       "      <td>0</td>\n",
       "      <td>6991796</td>\n",
       "      <td>None</td>\n",
       "      <td>4361.0</td>\n",
       "      <td>1451606400000</td>\n",
       "      <td>PHOTO</td>\n",
       "      <td>100.0</td>\n",
       "      <td>T119</td>\n",
       "      <td>SPEED 11-15 MPH OVER THE SPEED LIMIT</td>\n",
       "      <td>395664.920000</td>\n",
       "      <td>137186.890000</td>\n",
       "      <td>{'x': 395664.92, 'y': 137186.89}</td>\n",
       "    </tr>\n",
       "    <tr>\n",
       "      <th>3</th>\n",
       "      <td>NO</td>\n",
       "      <td>801296</td>\n",
       "      <td>25</td>\n",
       "      <td>150</td>\n",
       "      <td>DC295 NE AT BENNING RD EXIT N/B</td>\n",
       "      <td>11844746</td>\n",
       "      <td>0</td>\n",
       "      <td>0</td>\n",
       "      <td>6991797</td>\n",
       "      <td>None</td>\n",
       "      <td>5134.0</td>\n",
       "      <td>1451606400000</td>\n",
       "      <td>PHOTO</td>\n",
       "      <td>150.0</td>\n",
       "      <td>T120</td>\n",
       "      <td>SPEED 16-20 MPH OVER THE SPEED LIMIT</td>\n",
       "      <td>404307.500000</td>\n",
       "      <td>136594.240000</td>\n",
       "      <td>{'x': 404307.5, 'y': 136594.24}</td>\n",
       "    </tr>\n",
       "    <tr>\n",
       "      <th>4</th>\n",
       "      <td>NO</td>\n",
       "      <td>912878</td>\n",
       "      <td>2</td>\n",
       "      <td>100</td>\n",
       "      <td>SCOTT CIR NW @ 16TH ST NW</td>\n",
       "      <td>11844747</td>\n",
       "      <td>0</td>\n",
       "      <td>0</td>\n",
       "      <td>6991798</td>\n",
       "      <td>None</td>\n",
       "      <td>2405.0</td>\n",
       "      <td>1451606400000</td>\n",
       "      <td>MOVING</td>\n",
       "      <td>100.0</td>\n",
       "      <td>T185</td>\n",
       "      <td>MAKING A TURN FROM THE WRONG LANE</td>\n",
       "      <td>396831.551636</td>\n",
       "      <td>137709.369718</td>\n",
       "      <td>{'x': 396831.55163636, 'y': 137709.36971762}</td>\n",
       "    </tr>\n",
       "  </tbody>\n",
       "</table>\n",
       "</div>"
      ],
      "text/plain": [
       "  ACCIDENTINDICATOR  ADDRESS_ID  AGENCYID  FINEAMT  \\\n",
       "0                NO      805065        25      100   \n",
       "1                NO      303037        25      100   \n",
       "2                NO      805065        25      100   \n",
       "3                NO      801296        25      150   \n",
       "4                NO      912878         2      100   \n",
       "\n",
       "                          LOCATION  OBJECTID  PENALTY1  PENALTY2     ROW_  \\\n",
       "0             2200 BLK K ST NW W/B  11844743         0         0  6991794   \n",
       "1         100 BLK IRVING ST NW W/B  11844744       100         0  6991795   \n",
       "2             2200 BLK K ST NW W/B  11844745         0         0  6991796   \n",
       "3  DC295 NE AT BENNING RD EXIT N/B  11844746         0         0  6991797   \n",
       "4        SCOTT CIR NW @ 16TH ST NW  11844747         0         0  6991798   \n",
       "\n",
       "  ROW_ID  STREETSEGID  TICKETISSUEDATE TICKETTYPE  TOTALPAID VIOLATIONCODE  \\\n",
       "0   None       4361.0    1451606400000      PHOTO      100.0          T119   \n",
       "1   None       6350.0    1451606400000      PHOTO      200.0          T119   \n",
       "2   None       4361.0    1451606400000      PHOTO      100.0          T119   \n",
       "3   None       5134.0    1451606400000      PHOTO      150.0          T120   \n",
       "4   None       2405.0    1451606400000     MOVING      100.0          T185   \n",
       "\n",
       "                          VIOLATIONDESC         XCOORD         YCOORD  \\\n",
       "0  SPEED 11-15 MPH OVER THE SPEED LIMIT  395664.920000  137186.890000   \n",
       "1  SPEED 11-15 MPH OVER THE SPEED LIMIT  398820.990000  140084.440000   \n",
       "2  SPEED 11-15 MPH OVER THE SPEED LIMIT  395664.920000  137186.890000   \n",
       "3  SPEED 16-20 MPH OVER THE SPEED LIMIT  404307.500000  136594.240000   \n",
       "4     MAKING A TURN FROM THE WRONG LANE  396831.551636  137709.369718   \n",
       "\n",
       "                                          SHAPE  \n",
       "0              {'x': 395664.92, 'y': 137186.89}  \n",
       "1              {'x': 398820.99, 'y': 140084.44}  \n",
       "2              {'x': 395664.92, 'y': 137186.89}  \n",
       "3               {'x': 404307.5, 'y': 136594.24}  \n",
       "4  {'x': 396831.55163636, 'y': 137709.36971762}  "
      ]
     },
     "execution_count": 23,
     "metadata": {},
     "output_type": "execute_result"
    }
   ],
   "source": [
    "all_months.head()"
   ]
  },
  {
   "cell_type": "code",
   "execution_count": null,
   "metadata": {
    "collapsed": true
   },
   "outputs": [],
   "source": []
  }
 ],
 "metadata": {
  "kernelspec": {
   "display_name": "Python 3",
   "language": "python",
   "name": "python3"
  },
  "language_info": {
   "codemirror_mode": {
    "name": "ipython",
    "version": 3
   },
   "file_extension": ".py",
   "mimetype": "text/x-python",
   "name": "python",
   "nbconvert_exporter": "python",
   "pygments_lexer": "ipython3",
   "version": "3.6.1"
  }
 },
 "nbformat": 4,
 "nbformat_minor": 2
}
