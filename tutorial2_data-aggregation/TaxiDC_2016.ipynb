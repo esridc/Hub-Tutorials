{
 "cells": [
  {
   "cell_type": "markdown",
   "metadata": {},
   "source": [
    "# Publishing TaxiCab Data of 2016 as a feature service"
   ]
  },
  {
   "cell_type": "markdown",
   "metadata": {},
   "source": [
    "> 1. ArcGIS pro (v 1.4 or higher)\n",
    "> 2. 'arcgis' package (v 1.2.5) installed with ArcGIS Pro (follow [instructions](https://developers.arcgis.com/python/guide/install-and-set-up/) under Step 2 (Install using ArcGIS Pro)"
   ]
  },
  {
   "cell_type": "markdown",
   "metadata": {},
   "source": [
    "Once installed, locate the proenv.bat within '\\ArcGIS\\Pro\\bin\\python\\scripts\\', launch terminal/command prompt and execute the following command\n",
    "\n",
    "__`path_to_this_file\\proenv.bat`__\n",
    "\n",
    "Then launch a jupyter notebook instance. This ensures that Python and the ArcGIS API for Python that is integrated with ArcGIS Pro is used to implement the rest of this notebook that follows."
   ]
  },
  {
   "cell_type": "code",
   "execution_count": 1,
   "metadata": {
    "collapsed": true
   },
   "outputs": [],
   "source": [
    "#Import packages, setup environment\n",
    "import pandas as pd\n",
    "from arcgis.features import *\n",
    "from arcgis.gis import *\n",
    "gis = GIS(\"http://dc.mapsqa.arcgis.com/\", \"username\", \"password\")"
   ]
  },
  {
   "cell_type": "code",
   "execution_count": 2,
   "metadata": {},
   "outputs": [
    {
     "data": {
      "text/plain": [
       "datetime.time(21, 39, 37, 510279)"
      ]
     },
     "execution_count": 2,
     "metadata": {},
     "output_type": "execute_result"
    }
   ],
   "source": [
    "datetime.datetime.now().time()"
   ]
  },
  {
   "cell_type": "code",
   "execution_count": 3,
   "metadata": {},
   "outputs": [
    {
     "name": "stderr",
     "output_type": "stream",
     "text": [
      "C:\\Users\\manu9321\\AppData\\Local\\Programs\\ArcGIS\\Pro\\bin\\Python\\envs\\arcgispro-py3\\lib\\site-packages\\IPython\\core\\interactiveshell.py:2698: DtypeWarning: Columns (4,5,6,7,8,18,19,20,21) have mixed types. Specify dtype option on import or set low_memory=False.\n",
      "  interactivity=interactivity, compiler=compiler, result=result)\n",
      "C:\\Users\\manu9321\\AppData\\Local\\Programs\\ArcGIS\\Pro\\bin\\Python\\envs\\arcgispro-py3\\lib\\site-packages\\numpy\\lib\\arraysetops.py:379: FutureWarning: elementwise comparison failed; returning scalar instead, but in the future will perform elementwise comparison\n",
      "  mask |= (ar1 == a)\n"
     ]
    }
   ],
   "source": [
    "#Read in data for 2016\n",
    "test = pd.read_csv('TaxiCab_2016/taxi2016.csv', index_col=0)"
   ]
  },
  {
   "cell_type": "code",
   "execution_count": 4,
   "metadata": {},
   "outputs": [
    {
     "data": {
      "text/plain": [
       "datetime.time(21, 47, 39, 340315)"
      ]
     },
     "execution_count": 4,
     "metadata": {},
     "output_type": "execute_result"
    }
   ],
   "source": [
    "datetime.datetime.now().time()"
   ]
  },
  {
   "cell_type": "code",
   "execution_count": 5,
   "metadata": {
    "collapsed": true
   },
   "outputs": [],
   "source": [
    "#Specify the desired column names and apply it to the entire dataframe\n",
    "cols = ['OBJECTID', 'TRIPTYPE', 'PROVIDER', 'METERFARE', 'TIP', 'SURCHARGE', 'EXTRAS', 'TOLLS', 'TOTALAMOUNT', 'PAYMENTTYPE', 'PAYMENTCARDPROVIDER', 'PICKUPCITY', 'PICKUPSTATE', 'PICKUPZIP', 'DROPOFFCITY', 'DROPOFFSTATE', 'DROPOFFZIP', 'TRIPMILEAGE', 'TRIPTIME', 'PICKUP_BLOCK_LATITUDE', 'PICKUP_BLOCK_LONGITUDE', 'PICKUP_BLOCKNAME', 'DROPOFF_BLOCK_LATITUDE', 'DROPOFF_BLOCK_LONGITUDE', 'DROPOFF_BLOCKNAME', 'AIRPORT', 'PICKUPDATETIME_TR', 'DROPOFFDATETIME_TR']\n",
    "test.columns = cols"
   ]
  },
  {
   "cell_type": "code",
   "execution_count": 6,
   "metadata": {},
   "outputs": [
    {
     "name": "stdout",
     "output_type": "stream",
     "text": [
      "['TRIPTYPE', 'PROVIDER', 'METERFARE', 'TIP', 'SURCHARGE', 'EXTRAS', 'TOLLS', 'PAYMENTTYPE', 'PAYMENTCARDPROVIDER', 'PICKUPCITY', 'PICKUPSTATE', 'PICKUPZIP', 'DROPOFFCITY', 'DROPOFFSTATE', 'DROPOFFZIP', 'TRIPMILEAGE', 'TRIPTIME', 'PICKUP_BLOCK_LATITUDE', 'PICKUP_BLOCK_LONGITUDE', 'PICKUP_BLOCKNAME', 'DROPOFF_BLOCK_LATITUDE', 'DROPOFF_BLOCK_LONGITUDE', 'DROPOFF_BLOCKNAME', 'AIRPORT', 'PICKUPDATETIME_TR', 'DROPOFFDATETIME_TR']\n"
     ]
    }
   ],
   "source": [
    "#Identify the columns that are of object type and numerical type\n",
    "\n",
    "object_cols = []\n",
    "for i in cols:\n",
    "    if test[i].dtype == \"object\":\n",
    "        object_cols.append(i)\n",
    "        \n",
    "print(object_cols)"
   ]
  },
  {
   "cell_type": "code",
   "execution_count": 7,
   "metadata": {
    "collapsed": true
   },
   "outputs": [],
   "source": [
    "#Format each cell of each row\n",
    "def trimSpaces(x):\n",
    "    '''Function that removes prepending whitespace'''\n",
    "    return str(x).strip()"
   ]
  },
  {
   "cell_type": "code",
   "execution_count": 8,
   "metadata": {
    "collapsed": true
   },
   "outputs": [],
   "source": [
    "#For numerical columns, identify them and apply a different approach\n",
    "numerical_cols = []\n",
    "for i in object_cols:\n",
    "    try:\n",
    "        test.loc[:, i] = test[i].apply(trimSpaces)\n",
    "    except:\n",
    "        numerical_cols.append(i)"
   ]
  },
  {
   "cell_type": "code",
   "execution_count": 9,
   "metadata": {},
   "outputs": [
    {
     "data": {
      "text/html": [
       "<div>\n",
       "<style>\n",
       "    .dataframe thead tr:only-child th {\n",
       "        text-align: right;\n",
       "    }\n",
       "\n",
       "    .dataframe thead th {\n",
       "        text-align: left;\n",
       "    }\n",
       "\n",
       "    .dataframe tbody tr th {\n",
       "        vertical-align: top;\n",
       "    }\n",
       "</style>\n",
       "<table border=\"1\" class=\"dataframe\">\n",
       "  <thead>\n",
       "    <tr style=\"text-align: right;\">\n",
       "      <th></th>\n",
       "      <th>OBJECTID</th>\n",
       "      <th>TRIPTYPE</th>\n",
       "      <th>PROVIDER</th>\n",
       "      <th>METERFARE</th>\n",
       "      <th>TIP</th>\n",
       "      <th>SURCHARGE</th>\n",
       "      <th>EXTRAS</th>\n",
       "      <th>TOLLS</th>\n",
       "      <th>TOTALAMOUNT</th>\n",
       "      <th>PAYMENTTYPE</th>\n",
       "      <th>...</th>\n",
       "      <th>TRIPTIME</th>\n",
       "      <th>PICKUP_BLOCK_LATITUDE</th>\n",
       "      <th>PICKUP_BLOCK_LONGITUDE</th>\n",
       "      <th>PICKUP_BLOCKNAME</th>\n",
       "      <th>DROPOFF_BLOCK_LATITUDE</th>\n",
       "      <th>DROPOFF_BLOCK_LONGITUDE</th>\n",
       "      <th>DROPOFF_BLOCKNAME</th>\n",
       "      <th>AIRPORT</th>\n",
       "      <th>PICKUPDATETIME_TR</th>\n",
       "      <th>DROPOFFDATETIME_TR</th>\n",
       "    </tr>\n",
       "  </thead>\n",
       "  <tbody>\n",
       "    <tr>\n",
       "      <th>0</th>\n",
       "      <td>4897</td>\n",
       "      <td>PSP</td>\n",
       "      <td>United Ventures</td>\n",
       "      <td>11.89</td>\n",
       "      <td>3.65</td>\n",
       "      <td>0.25</td>\n",
       "      <td>0.25</td>\n",
       "      <td>0.0</td>\n",
       "      <td>15.79</td>\n",
       "      <td>CreditCard</td>\n",
       "      <td>...</td>\n",
       "      <td>NULL</td>\n",
       "      <td>38.87648</td>\n",
       "      <td>-77.00005</td>\n",
       "      <td>400 - 499 BLOCK OF M STREET SE</td>\n",
       "      <td>38.900207</td>\n",
       "      <td>-77.010619</td>\n",
       "      <td>1 - 99 BLOCK OF H STREET NW</td>\n",
       "      <td>N</td>\n",
       "      <td>01/27/2016 17:00</td>\n",
       "      <td>01/27/2016 17:00</td>\n",
       "    </tr>\n",
       "    <tr>\n",
       "      <th>1</th>\n",
       "      <td>4899</td>\n",
       "      <td>PSP</td>\n",
       "      <td>United Ventures</td>\n",
       "      <td>8.11</td>\n",
       "      <td>0.0</td>\n",
       "      <td>0.25</td>\n",
       "      <td>1.25</td>\n",
       "      <td>0.0</td>\n",
       "      <td>9.36</td>\n",
       "      <td>Cash</td>\n",
       "      <td>...</td>\n",
       "      <td>NULL</td>\n",
       "      <td>38.89632</td>\n",
       "      <td>-77.032789</td>\n",
       "      <td>1400 - 1499 BLOCK OF PENNSYLVANIA AVENUE NW</td>\n",
       "      <td>38.911315</td>\n",
       "      <td>-77.048257</td>\n",
       "      <td>2120 - 2199 BLOCK OF MASSACHUSETTS AVENUE NW</td>\n",
       "      <td>N</td>\n",
       "      <td>01/28/2016 22:00</td>\n",
       "      <td>01/28/2016 22:00</td>\n",
       "    </tr>\n",
       "    <tr>\n",
       "      <th>2</th>\n",
       "      <td>4900</td>\n",
       "      <td>PSP</td>\n",
       "      <td>United Ventures</td>\n",
       "      <td>5.68</td>\n",
       "      <td>2.0</td>\n",
       "      <td>0.25</td>\n",
       "      <td>1.25</td>\n",
       "      <td>0.0</td>\n",
       "      <td>8.93</td>\n",
       "      <td>CreditCard</td>\n",
       "      <td>...</td>\n",
       "      <td>NULL</td>\n",
       "      <td>38.89632</td>\n",
       "      <td>-77.032789</td>\n",
       "      <td>1400 - 1499 BLOCK OF PENNSYLVANIA AVENUE NW</td>\n",
       "      <td>38.896671</td>\n",
       "      <td>-77.022954</td>\n",
       "      <td>500 - 599 BLOCK OF 8TH STREET NW</td>\n",
       "      <td>N</td>\n",
       "      <td>01/28/2016 20:00</td>\n",
       "      <td>01/28/2016 20:00</td>\n",
       "    </tr>\n",
       "    <tr>\n",
       "      <th>3</th>\n",
       "      <td>4901</td>\n",
       "      <td>PSP</td>\n",
       "      <td>United Ventures</td>\n",
       "      <td>12.16</td>\n",
       "      <td>3.3</td>\n",
       "      <td>0.25</td>\n",
       "      <td>4.25</td>\n",
       "      <td>0.0</td>\n",
       "      <td>19.71</td>\n",
       "      <td>CreditCard</td>\n",
       "      <td>...</td>\n",
       "      <td>NULL</td>\n",
       "      <td></td>\n",
       "      <td></td>\n",
       "      <td></td>\n",
       "      <td>38.900769</td>\n",
       "      <td>-77.033644</td>\n",
       "      <td>800 - 899 BLOCK OF 15TH STREET NW</td>\n",
       "      <td>Y</td>\n",
       "      <td>01/28/2016 21:00</td>\n",
       "      <td>01/28/2016 21:00</td>\n",
       "    </tr>\n",
       "    <tr>\n",
       "      <th>4</th>\n",
       "      <td>4902</td>\n",
       "      <td>PSP</td>\n",
       "      <td>United Ventures</td>\n",
       "      <td>23.50</td>\n",
       "      <td>0.0</td>\n",
       "      <td>0.25</td>\n",
       "      <td>0.25</td>\n",
       "      <td>0.0</td>\n",
       "      <td>23.75</td>\n",
       "      <td>Cash</td>\n",
       "      <td>...</td>\n",
       "      <td>NULL</td>\n",
       "      <td>38.895433</td>\n",
       "      <td>-77.027047</td>\n",
       "      <td>400 - 499 BLOCK OF 11TH STREET NW</td>\n",
       "      <td></td>\n",
       "      <td></td>\n",
       "      <td></td>\n",
       "      <td>N</td>\n",
       "      <td>01/28/2016 22:00</td>\n",
       "      <td>01/28/2016 23:00</td>\n",
       "    </tr>\n",
       "  </tbody>\n",
       "</table>\n",
       "<p>5 rows × 28 columns</p>\n",
       "</div>"
      ],
      "text/plain": [
       "   OBJECTID TRIPTYPE         PROVIDER METERFARE   TIP SURCHARGE EXTRAS TOLLS  \\\n",
       "0      4897      PSP  United Ventures     11.89  3.65      0.25   0.25   0.0   \n",
       "1      4899      PSP  United Ventures      8.11   0.0      0.25   1.25   0.0   \n",
       "2      4900      PSP  United Ventures      5.68   2.0      0.25   1.25   0.0   \n",
       "3      4901      PSP  United Ventures     12.16   3.3      0.25   4.25   0.0   \n",
       "4      4902      PSP  United Ventures     23.50   0.0      0.25   0.25   0.0   \n",
       "\n",
       "   TOTALAMOUNT PAYMENTTYPE        ...         TRIPTIME PICKUP_BLOCK_LATITUDE  \\\n",
       "0        15.79  CreditCard        ...             NULL              38.87648   \n",
       "1         9.36        Cash        ...             NULL              38.89632   \n",
       "2         8.93  CreditCard        ...             NULL              38.89632   \n",
       "3        19.71  CreditCard        ...             NULL                         \n",
       "4        23.75        Cash        ...             NULL             38.895433   \n",
       "\n",
       "  PICKUP_BLOCK_LONGITUDE                             PICKUP_BLOCKNAME  \\\n",
       "0              -77.00005               400 - 499 BLOCK OF M STREET SE   \n",
       "1             -77.032789  1400 - 1499 BLOCK OF PENNSYLVANIA AVENUE NW   \n",
       "2             -77.032789  1400 - 1499 BLOCK OF PENNSYLVANIA AVENUE NW   \n",
       "3                                                                       \n",
       "4             -77.027047            400 - 499 BLOCK OF 11TH STREET NW   \n",
       "\n",
       "  DROPOFF_BLOCK_LATITUDE DROPOFF_BLOCK_LONGITUDE  \\\n",
       "0              38.900207              -77.010619   \n",
       "1              38.911315              -77.048257   \n",
       "2              38.896671              -77.022954   \n",
       "3              38.900769              -77.033644   \n",
       "4                                                  \n",
       "\n",
       "                              DROPOFF_BLOCKNAME AIRPORT PICKUPDATETIME_TR  \\\n",
       "0                   1 - 99 BLOCK OF H STREET NW       N  01/27/2016 17:00   \n",
       "1  2120 - 2199 BLOCK OF MASSACHUSETTS AVENUE NW       N  01/28/2016 22:00   \n",
       "2              500 - 599 BLOCK OF 8TH STREET NW       N  01/28/2016 20:00   \n",
       "3             800 - 899 BLOCK OF 15TH STREET NW       Y  01/28/2016 21:00   \n",
       "4                                                     N  01/28/2016 22:00   \n",
       "\n",
       "  DROPOFFDATETIME_TR  \n",
       "0   01/27/2016 17:00  \n",
       "1   01/28/2016 22:00  \n",
       "2   01/28/2016 20:00  \n",
       "3   01/28/2016 21:00  \n",
       "4   01/28/2016 23:00  \n",
       "\n",
       "[5 rows x 28 columns]"
      ]
     },
     "execution_count": 9,
     "metadata": {},
     "output_type": "execute_result"
    }
   ],
   "source": [
    "test.head()"
   ]
  },
  {
   "cell_type": "code",
   "execution_count": 10,
   "metadata": {},
   "outputs": [
    {
     "data": {
      "text/plain": [
       "[]"
      ]
     },
     "execution_count": 10,
     "metadata": {},
     "output_type": "execute_result"
    }
   ],
   "source": [
    "numerical_cols"
   ]
  },
  {
   "cell_type": "code",
   "execution_count": 11,
   "metadata": {
    "collapsed": true
   },
   "outputs": [],
   "source": [
    "#Formatting for numerical columns\n",
    "def trimSpaces_Numerical(x):\n",
    "    '''Function that removes prepending whitespace from numerical fields'''\n",
    "    temp = str(x).strip()\n",
    "    try:\n",
    "        return float(temp)\n",
    "    except ValueError:\n",
    "        return float(0)"
   ]
  },
  {
   "cell_type": "code",
   "execution_count": 12,
   "metadata": {
    "collapsed": true
   },
   "outputs": [],
   "source": [
    "#Apply the formatting\n",
    "for i in numerical_cols:\n",
    "    test.loc[:, i] = test[i].apply(trimSpaces_Numerical)"
   ]
  },
  {
   "cell_type": "code",
   "execution_count": 13,
   "metadata": {},
   "outputs": [
    {
     "data": {
      "text/html": [
       "<div>\n",
       "<style>\n",
       "    .dataframe thead tr:only-child th {\n",
       "        text-align: right;\n",
       "    }\n",
       "\n",
       "    .dataframe thead th {\n",
       "        text-align: left;\n",
       "    }\n",
       "\n",
       "    .dataframe tbody tr th {\n",
       "        vertical-align: top;\n",
       "    }\n",
       "</style>\n",
       "<table border=\"1\" class=\"dataframe\">\n",
       "  <thead>\n",
       "    <tr style=\"text-align: right;\">\n",
       "      <th></th>\n",
       "      <th>OBJECTID</th>\n",
       "      <th>TRIPTYPE</th>\n",
       "      <th>PROVIDER</th>\n",
       "      <th>METERFARE</th>\n",
       "      <th>TIP</th>\n",
       "      <th>SURCHARGE</th>\n",
       "      <th>EXTRAS</th>\n",
       "      <th>TOLLS</th>\n",
       "      <th>TOTALAMOUNT</th>\n",
       "      <th>PAYMENTTYPE</th>\n",
       "      <th>...</th>\n",
       "      <th>TRIPTIME</th>\n",
       "      <th>PICKUP_BLOCK_LATITUDE</th>\n",
       "      <th>PICKUP_BLOCK_LONGITUDE</th>\n",
       "      <th>PICKUP_BLOCKNAME</th>\n",
       "      <th>y</th>\n",
       "      <th>x</th>\n",
       "      <th>DROPOFF_BLOCKNAME</th>\n",
       "      <th>AIRPORT</th>\n",
       "      <th>PICKUPDATETIME_TR</th>\n",
       "      <th>DROPOFFDATETIME_TR</th>\n",
       "    </tr>\n",
       "  </thead>\n",
       "  <tbody>\n",
       "    <tr>\n",
       "      <th>0</th>\n",
       "      <td>4897</td>\n",
       "      <td>PSP</td>\n",
       "      <td>United Ventures</td>\n",
       "      <td>11.89</td>\n",
       "      <td>3.65</td>\n",
       "      <td>0.25</td>\n",
       "      <td>0.25</td>\n",
       "      <td>0.0</td>\n",
       "      <td>15.79</td>\n",
       "      <td>CreditCard</td>\n",
       "      <td>...</td>\n",
       "      <td>NULL</td>\n",
       "      <td>38.87648</td>\n",
       "      <td>-77.00005</td>\n",
       "      <td>400 - 499 BLOCK OF M STREET SE</td>\n",
       "      <td>38.900207</td>\n",
       "      <td>-77.010619</td>\n",
       "      <td>1 - 99 BLOCK OF H STREET NW</td>\n",
       "      <td>N</td>\n",
       "      <td>01/27/2016 17:00</td>\n",
       "      <td>01/27/2016 17:00</td>\n",
       "    </tr>\n",
       "    <tr>\n",
       "      <th>1</th>\n",
       "      <td>4899</td>\n",
       "      <td>PSP</td>\n",
       "      <td>United Ventures</td>\n",
       "      <td>8.11</td>\n",
       "      <td>0.0</td>\n",
       "      <td>0.25</td>\n",
       "      <td>1.25</td>\n",
       "      <td>0.0</td>\n",
       "      <td>9.36</td>\n",
       "      <td>Cash</td>\n",
       "      <td>...</td>\n",
       "      <td>NULL</td>\n",
       "      <td>38.89632</td>\n",
       "      <td>-77.032789</td>\n",
       "      <td>1400 - 1499 BLOCK OF PENNSYLVANIA AVENUE NW</td>\n",
       "      <td>38.911315</td>\n",
       "      <td>-77.048257</td>\n",
       "      <td>2120 - 2199 BLOCK OF MASSACHUSETTS AVENUE NW</td>\n",
       "      <td>N</td>\n",
       "      <td>01/28/2016 22:00</td>\n",
       "      <td>01/28/2016 22:00</td>\n",
       "    </tr>\n",
       "    <tr>\n",
       "      <th>2</th>\n",
       "      <td>4900</td>\n",
       "      <td>PSP</td>\n",
       "      <td>United Ventures</td>\n",
       "      <td>5.68</td>\n",
       "      <td>2.0</td>\n",
       "      <td>0.25</td>\n",
       "      <td>1.25</td>\n",
       "      <td>0.0</td>\n",
       "      <td>8.93</td>\n",
       "      <td>CreditCard</td>\n",
       "      <td>...</td>\n",
       "      <td>NULL</td>\n",
       "      <td>38.89632</td>\n",
       "      <td>-77.032789</td>\n",
       "      <td>1400 - 1499 BLOCK OF PENNSYLVANIA AVENUE NW</td>\n",
       "      <td>38.896671</td>\n",
       "      <td>-77.022954</td>\n",
       "      <td>500 - 599 BLOCK OF 8TH STREET NW</td>\n",
       "      <td>N</td>\n",
       "      <td>01/28/2016 20:00</td>\n",
       "      <td>01/28/2016 20:00</td>\n",
       "    </tr>\n",
       "    <tr>\n",
       "      <th>3</th>\n",
       "      <td>4901</td>\n",
       "      <td>PSP</td>\n",
       "      <td>United Ventures</td>\n",
       "      <td>12.16</td>\n",
       "      <td>3.3</td>\n",
       "      <td>0.25</td>\n",
       "      <td>4.25</td>\n",
       "      <td>0.0</td>\n",
       "      <td>19.71</td>\n",
       "      <td>CreditCard</td>\n",
       "      <td>...</td>\n",
       "      <td>NULL</td>\n",
       "      <td></td>\n",
       "      <td></td>\n",
       "      <td></td>\n",
       "      <td>38.900769</td>\n",
       "      <td>-77.033644</td>\n",
       "      <td>800 - 899 BLOCK OF 15TH STREET NW</td>\n",
       "      <td>Y</td>\n",
       "      <td>01/28/2016 21:00</td>\n",
       "      <td>01/28/2016 21:00</td>\n",
       "    </tr>\n",
       "    <tr>\n",
       "      <th>4</th>\n",
       "      <td>4902</td>\n",
       "      <td>PSP</td>\n",
       "      <td>United Ventures</td>\n",
       "      <td>23.50</td>\n",
       "      <td>0.0</td>\n",
       "      <td>0.25</td>\n",
       "      <td>0.25</td>\n",
       "      <td>0.0</td>\n",
       "      <td>23.75</td>\n",
       "      <td>Cash</td>\n",
       "      <td>...</td>\n",
       "      <td>NULL</td>\n",
       "      <td>38.895433</td>\n",
       "      <td>-77.027047</td>\n",
       "      <td>400 - 499 BLOCK OF 11TH STREET NW</td>\n",
       "      <td></td>\n",
       "      <td></td>\n",
       "      <td></td>\n",
       "      <td>N</td>\n",
       "      <td>01/28/2016 22:00</td>\n",
       "      <td>01/28/2016 23:00</td>\n",
       "    </tr>\n",
       "  </tbody>\n",
       "</table>\n",
       "<p>5 rows × 28 columns</p>\n",
       "</div>"
      ],
      "text/plain": [
       "   OBJECTID TRIPTYPE         PROVIDER METERFARE   TIP SURCHARGE EXTRAS TOLLS  \\\n",
       "0      4897      PSP  United Ventures     11.89  3.65      0.25   0.25   0.0   \n",
       "1      4899      PSP  United Ventures      8.11   0.0      0.25   1.25   0.0   \n",
       "2      4900      PSP  United Ventures      5.68   2.0      0.25   1.25   0.0   \n",
       "3      4901      PSP  United Ventures     12.16   3.3      0.25   4.25   0.0   \n",
       "4      4902      PSP  United Ventures     23.50   0.0      0.25   0.25   0.0   \n",
       "\n",
       "   TOTALAMOUNT PAYMENTTYPE        ...         TRIPTIME PICKUP_BLOCK_LATITUDE  \\\n",
       "0        15.79  CreditCard        ...             NULL              38.87648   \n",
       "1         9.36        Cash        ...             NULL              38.89632   \n",
       "2         8.93  CreditCard        ...             NULL              38.89632   \n",
       "3        19.71  CreditCard        ...             NULL                         \n",
       "4        23.75        Cash        ...             NULL             38.895433   \n",
       "\n",
       "  PICKUP_BLOCK_LONGITUDE                             PICKUP_BLOCKNAME  \\\n",
       "0              -77.00005               400 - 499 BLOCK OF M STREET SE   \n",
       "1             -77.032789  1400 - 1499 BLOCK OF PENNSYLVANIA AVENUE NW   \n",
       "2             -77.032789  1400 - 1499 BLOCK OF PENNSYLVANIA AVENUE NW   \n",
       "3                                                                       \n",
       "4             -77.027047            400 - 499 BLOCK OF 11TH STREET NW   \n",
       "\n",
       "           y           x                             DROPOFF_BLOCKNAME  \\\n",
       "0  38.900207  -77.010619                   1 - 99 BLOCK OF H STREET NW   \n",
       "1  38.911315  -77.048257  2120 - 2199 BLOCK OF MASSACHUSETTS AVENUE NW   \n",
       "2  38.896671  -77.022954              500 - 599 BLOCK OF 8TH STREET NW   \n",
       "3  38.900769  -77.033644             800 - 899 BLOCK OF 15TH STREET NW   \n",
       "4                                                                        \n",
       "\n",
       "  AIRPORT PICKUPDATETIME_TR DROPOFFDATETIME_TR  \n",
       "0       N  01/27/2016 17:00   01/27/2016 17:00  \n",
       "1       N  01/28/2016 22:00   01/28/2016 22:00  \n",
       "2       N  01/28/2016 20:00   01/28/2016 20:00  \n",
       "3       Y  01/28/2016 21:00   01/28/2016 21:00  \n",
       "4       N  01/28/2016 22:00   01/28/2016 23:00  \n",
       "\n",
       "[5 rows x 28 columns]"
      ]
     },
     "execution_count": 13,
     "metadata": {},
     "output_type": "execute_result"
    }
   ],
   "source": [
    "#Rename the geometry columns of choice\n",
    "test = test.rename(columns={'DROPOFF_BLOCK_LONGITUDE': 'x', 'DROPOFF_BLOCK_LATITUDE': 'y'})\n",
    "test.head()"
   ]
  },
  {
   "cell_type": "code",
   "execution_count": 14,
   "metadata": {
    "collapsed": true
   },
   "outputs": [],
   "source": [
    "#Replace null values with 0s\n",
    "test = test.fillna(0)"
   ]
  },
  {
   "cell_type": "code",
   "execution_count": 15,
   "metadata": {
    "collapsed": true
   },
   "outputs": [],
   "source": [
    "#Clean up geometry fields\n",
    "test['x'] = test['x'].replace('','0').astype(float)\n",
    "test['y'] = test['y'].replace('','0').astype(float)\n",
    "test['x'] = test['x'].replace('NaN','0').astype(float)\n",
    "test['y'] = test['y'].replace('NaN','0').astype(float)"
   ]
  },
  {
   "cell_type": "code",
   "execution_count": 16,
   "metadata": {},
   "outputs": [
    {
     "data": {
      "text/html": [
       "<div>\n",
       "<style>\n",
       "    .dataframe thead tr:only-child th {\n",
       "        text-align: right;\n",
       "    }\n",
       "\n",
       "    .dataframe thead th {\n",
       "        text-align: left;\n",
       "    }\n",
       "\n",
       "    .dataframe tbody tr th {\n",
       "        vertical-align: top;\n",
       "    }\n",
       "</style>\n",
       "<table border=\"1\" class=\"dataframe\">\n",
       "  <thead>\n",
       "    <tr style=\"text-align: right;\">\n",
       "      <th></th>\n",
       "      <th>x</th>\n",
       "      <th>y</th>\n",
       "    </tr>\n",
       "  </thead>\n",
       "  <tbody>\n",
       "    <tr>\n",
       "      <th>0</th>\n",
       "      <td>-77.010619</td>\n",
       "      <td>38.900207</td>\n",
       "    </tr>\n",
       "    <tr>\n",
       "      <th>1</th>\n",
       "      <td>-77.048257</td>\n",
       "      <td>38.911315</td>\n",
       "    </tr>\n",
       "    <tr>\n",
       "      <th>2</th>\n",
       "      <td>-77.022954</td>\n",
       "      <td>38.896671</td>\n",
       "    </tr>\n",
       "    <tr>\n",
       "      <th>3</th>\n",
       "      <td>-77.033644</td>\n",
       "      <td>38.900769</td>\n",
       "    </tr>\n",
       "    <tr>\n",
       "      <th>4</th>\n",
       "      <td>0.000000</td>\n",
       "      <td>0.000000</td>\n",
       "    </tr>\n",
       "    <tr>\n",
       "      <th>5</th>\n",
       "      <td>-76.995567</td>\n",
       "      <td>38.897333</td>\n",
       "    </tr>\n",
       "    <tr>\n",
       "      <th>6</th>\n",
       "      <td>-77.054339</td>\n",
       "      <td>38.923379</td>\n",
       "    </tr>\n",
       "    <tr>\n",
       "      <th>7</th>\n",
       "      <td>0.000000</td>\n",
       "      <td>0.000000</td>\n",
       "    </tr>\n",
       "    <tr>\n",
       "      <th>8</th>\n",
       "      <td>-77.042365</td>\n",
       "      <td>38.921623</td>\n",
       "    </tr>\n",
       "    <tr>\n",
       "      <th>9</th>\n",
       "      <td>-77.004710</td>\n",
       "      <td>38.892010</td>\n",
       "    </tr>\n",
       "  </tbody>\n",
       "</table>\n",
       "</div>"
      ],
      "text/plain": [
       "           x          y\n",
       "0 -77.010619  38.900207\n",
       "1 -77.048257  38.911315\n",
       "2 -77.022954  38.896671\n",
       "3 -77.033644  38.900769\n",
       "4   0.000000   0.000000\n",
       "5 -76.995567  38.897333\n",
       "6 -77.054339  38.923379\n",
       "7   0.000000   0.000000\n",
       "8 -77.042365  38.921623\n",
       "9 -77.004710  38.892010"
      ]
     },
     "execution_count": 16,
     "metadata": {},
     "output_type": "execute_result"
    }
   ],
   "source": [
    "test[['x', 'y']][:10]"
   ]
  },
  {
   "cell_type": "code",
   "execution_count": 17,
   "metadata": {
    "collapsed": true
   },
   "outputs": [],
   "source": [
    "#Reset indices of the entire dataset to avoid index duplication\n",
    "test.reset_index(inplace=True)"
   ]
  },
  {
   "cell_type": "code",
   "execution_count": 18,
   "metadata": {
    "collapsed": true
   },
   "outputs": [],
   "source": [
    "#Create a shape column based on the geometry\n",
    "test['SHAPE'] = test.apply(lambda row : arcgis.geometry.Geometry({'x': row['x'], 'y': row['y']}), axis=1 )"
   ]
  },
  {
   "cell_type": "code",
   "execution_count": 19,
   "metadata": {},
   "outputs": [
    {
     "data": {
      "text/plain": [
       "0    {'x': -77.010619, 'y': 38.900207}\n",
       "1    {'x': -77.048257, 'y': 38.911315}\n",
       "2    {'x': -77.022954, 'y': 38.896671}\n",
       "3    {'x': -77.033644, 'y': 38.900769}\n",
       "4                 {'x': 0.0, 'y': 0.0}\n",
       "Name: SHAPE, dtype: object"
      ]
     },
     "execution_count": 19,
     "metadata": {},
     "output_type": "execute_result"
    }
   ],
   "source": [
    "test.SHAPE[:5]"
   ]
  },
  {
   "cell_type": "code",
   "execution_count": 20,
   "metadata": {
    "collapsed": true
   },
   "outputs": [],
   "source": [
    "from arcgis import SpatialDataFrame"
   ]
  },
  {
   "cell_type": "code",
   "execution_count": 23,
   "metadata": {},
   "outputs": [
    {
     "data": {
      "text/plain": [
       "datetime.time(22, 24, 7, 172579)"
      ]
     },
     "execution_count": 23,
     "metadata": {},
     "output_type": "execute_result"
    }
   ],
   "source": [
    "datetime.datetime.now().time()"
   ]
  },
  {
   "cell_type": "code",
   "execution_count": 24,
   "metadata": {},
   "outputs": [],
   "source": [
    "#Create an ArcGIS Spatial DataFrame with specified coordinate system to publish and project the taxi data in\n",
    "new_sdf = SpatialDataFrame(test)\n",
    "new_sdf.set_geometry('SHAPE', inplace=True, sr=4326)\n",
    "new_sdf['SHAPE'] = new_sdf.geometry.project_as(4326)"
   ]
  },
  {
   "cell_type": "code",
   "execution_count": 25,
   "metadata": {},
   "outputs": [
    {
     "data": {
      "text/plain": [
       "datetime.time(23, 21, 14, 765725)"
      ]
     },
     "execution_count": 25,
     "metadata": {},
     "output_type": "execute_result"
    }
   ],
   "source": [
    "datetime.datetime.now().time()"
   ]
  },
  {
   "cell_type": "code",
   "execution_count": 26,
   "metadata": {},
   "outputs": [
    {
     "data": {
      "text/plain": [
       "(10679050, 30)"
      ]
     },
     "execution_count": 26,
     "metadata": {},
     "output_type": "execute_result"
    }
   ],
   "source": [
    "new_sdf.shape"
   ]
  },
  {
   "cell_type": "code",
   "execution_count": 27,
   "metadata": {},
   "outputs": [
    {
     "data": {
      "text/html": [
       "<div>\n",
       "<style>\n",
       "    .dataframe thead tr:only-child th {\n",
       "        text-align: right;\n",
       "    }\n",
       "\n",
       "    .dataframe thead th {\n",
       "        text-align: left;\n",
       "    }\n",
       "\n",
       "    .dataframe tbody tr th {\n",
       "        vertical-align: top;\n",
       "    }\n",
       "</style>\n",
       "<table border=\"1\" class=\"dataframe\">\n",
       "  <thead>\n",
       "    <tr style=\"text-align: right;\">\n",
       "      <th></th>\n",
       "      <th>x</th>\n",
       "      <th>y</th>\n",
       "      <th>SHAPE</th>\n",
       "    </tr>\n",
       "  </thead>\n",
       "  <tbody>\n",
       "    <tr>\n",
       "      <th>0</th>\n",
       "      <td>-77.010619</td>\n",
       "      <td>38.900207</td>\n",
       "      <td>{'x': -77.010619, 'y': 38.900207, 'spatialRefe...</td>\n",
       "    </tr>\n",
       "    <tr>\n",
       "      <th>1</th>\n",
       "      <td>-77.048257</td>\n",
       "      <td>38.911315</td>\n",
       "      <td>{'x': -77.048257, 'y': 38.911315, 'spatialRefe...</td>\n",
       "    </tr>\n",
       "    <tr>\n",
       "      <th>2</th>\n",
       "      <td>-77.022954</td>\n",
       "      <td>38.896671</td>\n",
       "      <td>{'x': -77.022954, 'y': 38.896671, 'spatialRefe...</td>\n",
       "    </tr>\n",
       "    <tr>\n",
       "      <th>3</th>\n",
       "      <td>-77.033644</td>\n",
       "      <td>38.900769</td>\n",
       "      <td>{'x': -77.033644, 'y': 38.900769, 'spatialRefe...</td>\n",
       "    </tr>\n",
       "    <tr>\n",
       "      <th>4</th>\n",
       "      <td>0.000000</td>\n",
       "      <td>0.000000</td>\n",
       "      <td>{'x': 0, 'y': 0, 'spatialReference': {'wkid': ...</td>\n",
       "    </tr>\n",
       "  </tbody>\n",
       "</table>\n",
       "</div>"
      ],
      "text/plain": [
       "           x          y                                              SHAPE\n",
       "0 -77.010619  38.900207  {'x': -77.010619, 'y': 38.900207, 'spatialRefe...\n",
       "1 -77.048257  38.911315  {'x': -77.048257, 'y': 38.911315, 'spatialRefe...\n",
       "2 -77.022954  38.896671  {'x': -77.022954, 'y': 38.896671, 'spatialRefe...\n",
       "3 -77.033644  38.900769  {'x': -77.033644, 'y': 38.900769, 'spatialRefe...\n",
       "4   0.000000   0.000000  {'x': 0, 'y': 0, 'spatialReference': {'wkid': ..."
      ]
     },
     "execution_count": 27,
     "metadata": {},
     "output_type": "execute_result"
    }
   ],
   "source": [
    "new_sdf[['x', 'y', 'SHAPE']].head()"
   ]
  },
  {
   "cell_type": "code",
   "execution_count": 48,
   "metadata": {
    "collapsed": true
   },
   "outputs": [],
   "source": [
    "del test"
   ]
  },
  {
   "cell_type": "code",
   "execution_count": 28,
   "metadata": {},
   "outputs": [
    {
     "data": {
      "text/plain": [
       "datetime.time(23, 24, 19, 900879)"
      ]
     },
     "execution_count": 28,
     "metadata": {},
     "output_type": "execute_result"
    }
   ],
   "source": [
    "datetime.datetime.now().time()"
   ]
  },
  {
   "cell_type": "code",
   "execution_count": 29,
   "metadata": {},
   "outputs": [
    {
     "data": {
      "text/plain": [
       "arcgis.features._data.geodataset.geodataframe.SpatialDataFrame"
      ]
     },
     "execution_count": 29,
     "metadata": {},
     "output_type": "execute_result"
    }
   ],
   "source": [
    "type(new_sdf)"
   ]
  },
  {
   "cell_type": "code",
   "execution_count": 30,
   "metadata": {
    "collapsed": true
   },
   "outputs": [],
   "source": [
    "#Publish the data\n",
    "mv_layer = gis.content.import_data(new_sdf, title='taxi_all_18', target_sr=4326, capabilities=\"Query,Editing\")"
   ]
  },
  {
   "cell_type": "code",
   "execution_count": 31,
   "metadata": {},
   "outputs": [
    {
     "data": {
      "text/plain": [
       "datetime.time(2, 20, 13, 373663)"
      ]
     },
     "execution_count": 31,
     "metadata": {},
     "output_type": "execute_result"
    }
   ],
   "source": [
    "datetime.datetime.now().time()"
   ]
  },
  {
   "cell_type": "code",
   "execution_count": 57,
   "metadata": {
    "collapsed": true
   },
   "outputs": [],
   "source": [
    "del new_sdf"
   ]
  },
  {
   "cell_type": "code",
   "execution_count": 32,
   "metadata": {},
   "outputs": [
    {
     "data": {
      "text/html": [
       "<div class=\"item_container\" style=\"height: auto; overflow: hidden; border: 1px solid #cfcfcf; border-radius: 2px; background: #f6fafa; line-height: 1.21429em; padding: 10px;\">\n",
       "                    <div class=\"item_left\" style=\"width: 210px; float: left;\">\n",
       "                       <a href='http://dc.mapsqa.arcgis.com//home/item.html?id=6f49c1d830984806bdd0dca162a34cc8' target='_blank'>\n",
       "                        <img src='http://static.arcgis.com/images/desktopapp.png' class=\"itemThumbnail\">\n",
       "                       </a>\n",
       "                    </div>\n",
       "\n",
       "                    <div class=\"item_right\"     style=\"float: none; width: auto; overflow: hidden;\">\n",
       "                        <a href='http://dc.mapsqa.arcgis.com//home/item.html?id=6f49c1d830984806bdd0dca162a34cc8' target='_blank'><b>taxi_all_18</b>\n",
       "                        </a>\n",
       "                        <br/><img src='http://dc.mapsqa.arcgis.com//home/js/jsapi/esri/css/images/item_type_icons/featureshosted16.png' style=\"vertical-align:middle;\">Feature Layer Collection by mmajumdar_dcqa\n",
       "                        <br/>Last Modified: October 14, 2017\n",
       "                        <br/>0 comments, 0 views\n",
       "                    </div>\n",
       "                </div>\n",
       "                "
      ],
      "text/plain": [
       "<Item title:\"taxi_all_18\" type:Feature Layer Collection owner:mmajumdar_dcqa>"
      ]
     },
     "execution_count": 32,
     "metadata": {},
     "output_type": "execute_result"
    }
   ],
   "source": [
    "mv_layer"
   ]
  }
 ],
 "metadata": {
  "anaconda-cloud": {},
  "kernelspec": {
   "display_name": "Python 3",
   "language": "python",
   "name": "python3"
  },
  "language_info": {
   "codemirror_mode": {
    "name": "ipython",
    "version": 3
   },
   "file_extension": ".py",
   "mimetype": "text/x-python",
   "name": "python",
   "nbconvert_exporter": "python",
   "pygments_lexer": "ipython3",
   "version": "3.5.4"
  }
 },
 "nbformat": 4,
 "nbformat_minor": 2
}
