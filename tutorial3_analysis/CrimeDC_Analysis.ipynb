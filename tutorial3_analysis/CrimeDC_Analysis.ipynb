{
 "cells": [
  {
   "cell_type": "markdown",
   "metadata": {},
   "source": [
    "# Analyzing Crime Data of DC"
   ]
  },
  {
   "cell_type": "markdown",
   "metadata": {},
   "source": [
    "Here we explore the Crime data for DC from the years 2008-107. This dataset contains spatial temporal information about the crime along with other details about the nature of the crime.\n",
    "\n",
    "This dataset is explored in detail following this flow:"
   ]
  },
  {
   "cell_type": "markdown",
   "metadata": {},
   "source": [
    "> 1. Introduction to data\n",
    "> 2. Basic exploratory analysis\n",
    "> 3. Statistical analysis (correlations)\n",
    "> 4. Machine learning to predict crime types"
   ]
  },
  {
   "cell_type": "markdown",
   "metadata": {},
   "source": [
    "### 1. Introduction to data"
   ]
  },
  {
   "cell_type": "code",
   "execution_count": 1,
   "metadata": {
    "collapsed": true
   },
   "outputs": [],
   "source": [
    "#Loading necessary packages\n",
    "import pandas as pd\n",
    "import matplotlib.pyplot as plt\n",
    "import numpy as np\n",
    "import seaborn as sns\n",
    "\n",
    "sns.set(color_codes=True)\n",
    "%matplotlib inline"
   ]
  },
  {
   "cell_type": "code",
   "execution_count": 2,
   "metadata": {},
   "outputs": [
    {
     "data": {
      "text/plain": [
       "(379849, 27)"
      ]
     },
     "execution_count": 2,
     "metadata": {},
     "output_type": "execute_result"
    }
   ],
   "source": [
    "#Reading the data\n",
    "data = pd.read_csv(\"all_crime.csv\")\n",
    "data.shape"
   ]
  },
  {
   "cell_type": "markdown",
   "metadata": {},
   "source": [
    "We notice that this dataset has 379,849 rows and 27 colums."
   ]
  },
  {
   "cell_type": "code",
   "execution_count": 3,
   "metadata": {},
   "outputs": [
    {
     "data": {
      "text/html": [
       "<div>\n",
       "<style>\n",
       "    .dataframe thead tr:only-child th {\n",
       "        text-align: right;\n",
       "    }\n",
       "\n",
       "    .dataframe thead th {\n",
       "        text-align: left;\n",
       "    }\n",
       "\n",
       "    .dataframe tbody tr th {\n",
       "        vertical-align: top;\n",
       "    }\n",
       "</style>\n",
       "<table border=\"1\" class=\"dataframe\">\n",
       "  <thead>\n",
       "    <tr style=\"text-align: right;\">\n",
       "      <th></th>\n",
       "      <th>Unnamed: 0</th>\n",
       "      <th>X</th>\n",
       "      <th>Y</th>\n",
       "      <th>CCN</th>\n",
       "      <th>REPORT_DAT</th>\n",
       "      <th>SHIFT</th>\n",
       "      <th>METHOD</th>\n",
       "      <th>OFFENSE</th>\n",
       "      <th>BLOCK</th>\n",
       "      <th>XBLOCK</th>\n",
       "      <th>...</th>\n",
       "      <th>CENSUS_TRACT</th>\n",
       "      <th>VOTING_PRECINCT</th>\n",
       "      <th>XCOORD</th>\n",
       "      <th>YCOORD</th>\n",
       "      <th>LATITUDE</th>\n",
       "      <th>LONGITUDE</th>\n",
       "      <th>BID</th>\n",
       "      <th>START_DATE</th>\n",
       "      <th>END_DATE</th>\n",
       "      <th>OBJECTID</th>\n",
       "    </tr>\n",
       "  </thead>\n",
       "  <tbody>\n",
       "    <tr>\n",
       "      <th>0</th>\n",
       "      <td>0</td>\n",
       "      <td>-76.987540</td>\n",
       "      <td>38.903968</td>\n",
       "      <td>8149126</td>\n",
       "      <td>2008-10-19T18:30:00.000Z</td>\n",
       "      <td>EVENING</td>\n",
       "      <td>OTHERS</td>\n",
       "      <td>THEFT/OTHER</td>\n",
       "      <td>1200 - 1299 BLOCK OF NEAL STREET NE</td>\n",
       "      <td>401081.000000</td>\n",
       "      <td>...</td>\n",
       "      <td>8802.0</td>\n",
       "      <td>Precinct 77</td>\n",
       "      <td>401168.64</td>\n",
       "      <td>137320.72</td>\n",
       "      <td>38.903960</td>\n",
       "      <td>-76.987537</td>\n",
       "      <td>NaN</td>\n",
       "      <td>2008-10-19T17:30:00.000Z</td>\n",
       "      <td>2008-10-19T17:40:00.000Z</td>\n",
       "      <td>79996081</td>\n",
       "    </tr>\n",
       "    <tr>\n",
       "      <th>1</th>\n",
       "      <td>1</td>\n",
       "      <td>-76.944599</td>\n",
       "      <td>38.898379</td>\n",
       "      <td>8149130</td>\n",
       "      <td>2008-10-19T17:00:00.000Z</td>\n",
       "      <td>EVENING</td>\n",
       "      <td>OTHERS</td>\n",
       "      <td>MOTOR VEHICLE THEFT</td>\n",
       "      <td>4000 - 4199 BLOCK OF GRANT STREET NE</td>\n",
       "      <td>404806.000000</td>\n",
       "      <td>...</td>\n",
       "      <td>7803.0</td>\n",
       "      <td>Precinct 99</td>\n",
       "      <td>404721.34</td>\n",
       "      <td>136747.74</td>\n",
       "      <td>38.898372</td>\n",
       "      <td>-76.944597</td>\n",
       "      <td>NaN</td>\n",
       "      <td>2008-10-19T14:30:00.000Z</td>\n",
       "      <td>2008-10-19T14:35:00.000Z</td>\n",
       "      <td>79996082</td>\n",
       "    </tr>\n",
       "    <tr>\n",
       "      <th>2</th>\n",
       "      <td>2</td>\n",
       "      <td>-77.012145</td>\n",
       "      <td>38.926290</td>\n",
       "      <td>8149134</td>\n",
       "      <td>2008-10-19T17:40:00.000Z</td>\n",
       "      <td>EVENING</td>\n",
       "      <td>OTHERS</td>\n",
       "      <td>THEFT/OTHER</td>\n",
       "      <td>1ST STREET NW AND MICHIGAN AVENUE NW</td>\n",
       "      <td>398947.110013</td>\n",
       "      <td>...</td>\n",
       "      <td>2302.0</td>\n",
       "      <td>Precinct 135</td>\n",
       "      <td>NaN</td>\n",
       "      <td>NaN</td>\n",
       "      <td>38.926282</td>\n",
       "      <td>-77.012142</td>\n",
       "      <td>NaN</td>\n",
       "      <td>2008-10-19T10:00:00.000Z</td>\n",
       "      <td>2008-10-19T17:00:00.000Z</td>\n",
       "      <td>79996083</td>\n",
       "    </tr>\n",
       "    <tr>\n",
       "      <th>3</th>\n",
       "      <td>3</td>\n",
       "      <td>-76.986275</td>\n",
       "      <td>38.944785</td>\n",
       "      <td>8149139</td>\n",
       "      <td>2008-10-19T18:00:00.000Z</td>\n",
       "      <td>EVENING</td>\n",
       "      <td>OTHERS</td>\n",
       "      <td>THEFT/OTHER</td>\n",
       "      <td>4500 - 4598 BLOCK OF SOUTH DAKOTA AVENUE NE</td>\n",
       "      <td>401190.000000</td>\n",
       "      <td>...</td>\n",
       "      <td>9503.0</td>\n",
       "      <td>Precinct 67</td>\n",
       "      <td>401339.81</td>\n",
       "      <td>142177.91</td>\n",
       "      <td>38.944777</td>\n",
       "      <td>-76.986273</td>\n",
       "      <td>NaN</td>\n",
       "      <td>2008-10-18T19:00:00.000Z</td>\n",
       "      <td>2008-10-19T08:00:00.000Z</td>\n",
       "      <td>79996084</td>\n",
       "    </tr>\n",
       "    <tr>\n",
       "      <th>4</th>\n",
       "      <td>4</td>\n",
       "      <td>-76.954487</td>\n",
       "      <td>38.885475</td>\n",
       "      <td>8149147</td>\n",
       "      <td>2008-10-19T18:00:00.000Z</td>\n",
       "      <td>EVENING</td>\n",
       "      <td>OTHERS</td>\n",
       "      <td>THEFT/OTHER</td>\n",
       "      <td>200 - 499 BLOCK OF ANACOSTIA ROAD SE</td>\n",
       "      <td>403949.000000</td>\n",
       "      <td>...</td>\n",
       "      <td>7703.0</td>\n",
       "      <td>Precinct 107</td>\n",
       "      <td>403978.70</td>\n",
       "      <td>135420.81</td>\n",
       "      <td>38.885467</td>\n",
       "      <td>-76.954484</td>\n",
       "      <td>NaN</td>\n",
       "      <td>2008-10-19T13:00:00.000Z</td>\n",
       "      <td>2008-10-19T17:00:00.000Z</td>\n",
       "      <td>79996085</td>\n",
       "    </tr>\n",
       "  </tbody>\n",
       "</table>\n",
       "<p>5 rows × 27 columns</p>\n",
       "</div>"
      ],
      "text/plain": [
       "   Unnamed: 0          X          Y      CCN                REPORT_DAT  \\\n",
       "0           0 -76.987540  38.903968  8149126  2008-10-19T18:30:00.000Z   \n",
       "1           1 -76.944599  38.898379  8149130  2008-10-19T17:00:00.000Z   \n",
       "2           2 -77.012145  38.926290  8149134  2008-10-19T17:40:00.000Z   \n",
       "3           3 -76.986275  38.944785  8149139  2008-10-19T18:00:00.000Z   \n",
       "4           4 -76.954487  38.885475  8149147  2008-10-19T18:00:00.000Z   \n",
       "\n",
       "     SHIFT  METHOD              OFFENSE  \\\n",
       "0  EVENING  OTHERS          THEFT/OTHER   \n",
       "1  EVENING  OTHERS  MOTOR VEHICLE THEFT   \n",
       "2  EVENING  OTHERS          THEFT/OTHER   \n",
       "3  EVENING  OTHERS          THEFT/OTHER   \n",
       "4  EVENING  OTHERS          THEFT/OTHER   \n",
       "\n",
       "                                         BLOCK         XBLOCK    ...     \\\n",
       "0          1200 - 1299 BLOCK OF NEAL STREET NE  401081.000000    ...      \n",
       "1         4000 - 4199 BLOCK OF GRANT STREET NE  404806.000000    ...      \n",
       "2         1ST STREET NW AND MICHIGAN AVENUE NW  398947.110013    ...      \n",
       "3  4500 - 4598 BLOCK OF SOUTH DAKOTA AVENUE NE  401190.000000    ...      \n",
       "4         200 - 499 BLOCK OF ANACOSTIA ROAD SE  403949.000000    ...      \n",
       "\n",
       "   CENSUS_TRACT  VOTING_PRECINCT     XCOORD     YCOORD   LATITUDE  LONGITUDE  \\\n",
       "0        8802.0      Precinct 77  401168.64  137320.72  38.903960 -76.987537   \n",
       "1        7803.0      Precinct 99  404721.34  136747.74  38.898372 -76.944597   \n",
       "2        2302.0     Precinct 135        NaN        NaN  38.926282 -77.012142   \n",
       "3        9503.0      Precinct 67  401339.81  142177.91  38.944777 -76.986273   \n",
       "4        7703.0     Precinct 107  403978.70  135420.81  38.885467 -76.954484   \n",
       "\n",
       "   BID                START_DATE                  END_DATE  OBJECTID  \n",
       "0  NaN  2008-10-19T17:30:00.000Z  2008-10-19T17:40:00.000Z  79996081  \n",
       "1  NaN  2008-10-19T14:30:00.000Z  2008-10-19T14:35:00.000Z  79996082  \n",
       "2  NaN  2008-10-19T10:00:00.000Z  2008-10-19T17:00:00.000Z  79996083  \n",
       "3  NaN  2008-10-18T19:00:00.000Z  2008-10-19T08:00:00.000Z  79996084  \n",
       "4  NaN  2008-10-19T13:00:00.000Z  2008-10-19T17:00:00.000Z  79996085  \n",
       "\n",
       "[5 rows x 27 columns]"
      ]
     },
     "execution_count": 3,
     "metadata": {},
     "output_type": "execute_result"
    }
   ],
   "source": [
    "#View first 5 rows\n",
    "data.head()"
   ]
  },
  {
   "cell_type": "code",
   "execution_count": 4,
   "metadata": {},
   "outputs": [
    {
     "name": "stdout",
     "output_type": "stream",
     "text": [
      "<class 'pandas.core.frame.DataFrame'>\n",
      "RangeIndex: 379849 entries, 0 to 379848\n",
      "Data columns (total 27 columns):\n",
      "Unnamed: 0              379849 non-null int64\n",
      "X                       379849 non-null float64\n",
      "Y                       379849 non-null float64\n",
      "CCN                     379849 non-null int64\n",
      "REPORT_DAT              379849 non-null object\n",
      "SHIFT                   379849 non-null object\n",
      "METHOD                  379849 non-null object\n",
      "OFFENSE                 379849 non-null object\n",
      "BLOCK                   379849 non-null object\n",
      "XBLOCK                  379849 non-null float64\n",
      "YBLOCK                  379849 non-null float64\n",
      "WARD                    379835 non-null float64\n",
      "ANC                     379849 non-null object\n",
      "DISTRICT                379628 non-null float64\n",
      "PSA                     379578 non-null float64\n",
      "NEIGHBORHOOD_CLUSTER    374634 non-null object\n",
      "BLOCK_GROUP             378632 non-null object\n",
      "CENSUS_TRACT            378632 non-null float64\n",
      "VOTING_PRECINCT         379757 non-null object\n",
      "XCOORD                  371960 non-null float64\n",
      "YCOORD                  371960 non-null float64\n",
      "LATITUDE                379849 non-null float64\n",
      "LONGITUDE               379849 non-null float64\n",
      "BID                     60692 non-null object\n",
      "START_DATE              379835 non-null object\n",
      "END_DATE                368271 non-null object\n",
      "OBJECTID                379849 non-null int64\n",
      "dtypes: float64(12), int64(3), object(12)\n",
      "memory usage: 78.2+ MB\n"
     ]
    }
   ],
   "source": [
    "#View column names and types\n",
    "data.info()"
   ]
  },
  {
   "cell_type": "markdown",
   "metadata": {},
   "source": [
    "### 2. Basic exploratory analysis"
   ]
  },
  {
   "cell_type": "markdown",
   "metadata": {},
   "source": [
    "We start by visualizing all the various types of crime"
   ]
  },
  {
   "cell_type": "code",
   "execution_count": 5,
   "metadata": {},
   "outputs": [
    {
     "data": {
      "text/plain": [
       "array(['THEFT/OTHER', 'MOTOR VEHICLE THEFT', 'BURGLARY', 'ROBBERY',\n",
       "       'ASSAULT W/DANGEROUS WEAPON', 'SEX ABUSE', 'HOMICIDE', 'ARSON',\n",
       "       'THEFT F/AUTO'], dtype=object)"
      ]
     },
     "execution_count": 5,
     "metadata": {},
     "output_type": "execute_result"
    }
   ],
   "source": [
    "#Getting a list of the unique crime types\n",
    "types = data['OFFENSE'].unique()\n",
    "types"
   ]
  },
  {
   "cell_type": "code",
   "execution_count": 6,
   "metadata": {},
   "outputs": [
    {
     "name": "stdout",
     "output_type": "stream",
     "text": [
      "THEFT/OTHER                   144382\n",
      "THEFT F/AUTO                   96192\n",
      "ROBBERY                        38434\n",
      "MOTOR VEHICLE THEFT            36208\n",
      "BURGLARY                       34415\n",
      "ASSAULT W/DANGEROUS WEAPON     25818\n",
      "SEX ABUSE                       2714\n",
      "HOMICIDE                        1335\n",
      "ARSON                            351\n",
      "Name: OFFENSE, dtype: int64\n"
     ]
    }
   ],
   "source": [
    "#Frequency calculation of each crime type\n",
    "counts = data['OFFENSE'].value_counts()\n",
    "print(counts)"
   ]
  },
  {
   "cell_type": "code",
   "execution_count": 7,
   "metadata": {},
   "outputs": [
    {
     "data": {
      "text/plain": [
       "Text(0.5,1,'Types of crime based on frequency of occurence')"
      ]
     },
     "execution_count": 7,
     "metadata": {},
     "output_type": "execute_result"
    },
    {
     "data": {
      "image/png": "[encoded data removed]",
      "text/plain": [
       "<matplotlib.figure.Figure at 0x21f5f682390>"
      ]
     },
     "metadata": {},
     "output_type": "display_data"
    }
   ],
   "source": [
    "#Generates bar graph\n",
    "ax = counts.plot(kind='barh', figsize=(10, 10), legend=True, fontsize=12, color='green')\n",
    "\n",
    "#X axis text and display style of categories\n",
    "ax.set_xlabel(\"Count\", fontsize=12)\n",
    "#plt.xticks(rotation=45)\n",
    "\n",
    "#Y axis text\n",
    "ax.set_ylabel(\"Offense Type\", fontsize=12)\n",
    "\n",
    "#Title\n",
    "ax.set_title(\"Types of crime based on frequency of occurence\", fontsize=20)"
   ]
  },
  {
   "cell_type": "markdown",
   "metadata": {},
   "source": [
    "Let's now look deeper to see crimes distributed based on time/shift of the day"
   ]
  },
  {
   "cell_type": "code",
   "execution_count": 8,
   "metadata": {},
   "outputs": [
    {
     "name": "stdout",
     "output_type": "stream",
     "text": [
      "['EVENING', 'MIDNIGHT', 'DAY']\n"
     ]
    }
   ],
   "source": [
    "#Getting unique values for shift\n",
    "types = list(data['SHIFT'].unique())\n",
    "print(types)"
   ]
  },
  {
   "cell_type": "code",
   "execution_count": 9,
   "metadata": {},
   "outputs": [
    {
     "name": "stdout",
     "output_type": "stream",
     "text": [
      "EVENING     161118\n",
      "DAY         146876\n",
      "MIDNIGHT     71855\n",
      "Name: SHIFT, dtype: int64\n"
     ]
    }
   ],
   "source": [
    "#Frequency calculation of each shift type\n",
    "sizes = data['SHIFT'].value_counts()\n",
    "print(sizes)"
   ]
  },
  {
   "cell_type": "code",
   "execution_count": 10,
   "metadata": {},
   "outputs": [
    {
     "data": {
      "image/png": "[encoded data removed]",
      "text/plain": [
       "<matplotlib.figure.Figure at 0x21f5fa16b70>"
      ]
     },
     "metadata": {},
     "output_type": "display_data"
    }
   ],
   "source": [
    "# Data to plot\n",
    "labels = types\n",
    "colors = ['lightskyblue', 'yellowgreen', 'lightcoral']\n",
    "explode = (0.05, 0.015, 0)  # explode 1st slice\n",
    " \n",
    "# Plot\n",
    "plt.pie(sizes, explode=explode, labels=labels, colors=colors,\n",
    "        autopct='%1.2f%%', shadow=True, startangle=100)\n",
    " \n",
    "plt.axis('equal')\n",
    "plt.show()"
   ]
  },
  {
   "cell_type": "markdown",
   "metadata": {},
   "source": [
    "This shows that most crimes (contrary to poular belief), occur during the evening as opposed to midnight in the state of D.C."
   ]
  },
  {
   "cell_type": "markdown",
   "metadata": {},
   "source": [
    "### 3. Statistical analysis (Test of correlation) "
   ]
  },
  {
   "cell_type": "code",
   "execution_count": 11,
   "metadata": {
    "collapsed": true
   },
   "outputs": [],
   "source": [
    "#Importing necessary packages\n",
    "import scipy.stats\n",
    "import random"
   ]
  },
  {
   "cell_type": "markdown",
   "metadata": {},
   "source": [
    "The goal here is to perform the following tests of correlation\n",
    "1. Pearson correlation to test if the  __type of crime__ is related to the __quadrant where it occurs__.\n",
    "2. Spearman correlation (for ranked categories)  to test of the __type of crime__ is related to the __shift of the day when it occurs__."
   ]
  },
  {
   "cell_type": "markdown",
   "metadata": {},
   "source": [
    "The state of D.C. is divided into four quadrants \n",
    "> Northwest (NW), Northeast (NE), Southwest (SW), Southeast (SE)\n",
    "\n",
    "We will first need to extract Quadrant from the `BLOCK` field and then convert the quadrant values and crime type to a numerical equivalent.\n",
    "\n",
    "Let's start by looking at the `BLOCK` field"
   ]
  },
  {
   "cell_type": "code",
   "execution_count": 12,
   "metadata": {},
   "outputs": [
    {
     "data": {
      "text/plain": [
       "0            1200 - 1299 BLOCK OF NEAL STREET NE\n",
       "1           4000 - 4199 BLOCK OF GRANT STREET NE\n",
       "2           1ST STREET NW AND MICHIGAN AVENUE NW\n",
       "3    4500 - 4598 BLOCK OF SOUTH DAKOTA AVENUE NE\n",
       "4           200 - 499 BLOCK OF ANACOSTIA ROAD SE\n",
       "Name: BLOCK, dtype: object"
      ]
     },
     "execution_count": 12,
     "metadata": {},
     "output_type": "execute_result"
    }
   ],
   "source": [
    "data['BLOCK'].head()"
   ]
  },
  {
   "cell_type": "code",
   "execution_count": 13,
   "metadata": {},
   "outputs": [
    {
     "data": {
      "text/plain": [
       "0    NE\n",
       "1    NE\n",
       "2    NW\n",
       "3    NE\n",
       "4    SE\n",
       "Name: quadrant, dtype: object"
      ]
     },
     "execution_count": 13,
     "metadata": {},
     "output_type": "execute_result"
    }
   ],
   "source": [
    "data['quadrant'] = data['BLOCK'].apply(lambda x: x[-2:])\n",
    "data['quadrant'].head()"
   ]
  },
  {
   "cell_type": "code",
   "execution_count": 14,
   "metadata": {},
   "outputs": [
    {
     "data": {
      "text/plain": [
       "array(['NE', 'NW', 'SE', 'ET', 'SW', 'TE', 'ND', 'BN', 'K)', '95', 'NB'], dtype=object)"
      ]
     },
     "execution_count": 14,
     "metadata": {},
     "output_type": "execute_result"
    }
   ],
   "source": [
    "data['quadrant'].unique()"
   ]
  },
  {
   "cell_type": "markdown",
   "metadata": {},
   "source": [
    "Since the quadrant field also contains a lot of garbage values, we follow the following process\n",
    "\n",
    "1. Convert valid values to numerical equivalent\n",
    "2. Convert invalid values to 0"
   ]
  },
  {
   "cell_type": "code",
   "execution_count": 15,
   "metadata": {},
   "outputs": [
    {
     "data": {
      "text/plain": [
       "0    2\n",
       "1    2\n",
       "2    1\n",
       "3    2\n",
       "4    4\n",
       "Name: quadrant, dtype: object"
      ]
     },
     "execution_count": 15,
     "metadata": {},
     "output_type": "execute_result"
    }
   ],
   "source": [
    "quadrant = {\"NW\":1, \"NE\":2, \"SW\":3, \"SE\":4}\n",
    "data['quadrant'].replace(quadrant, inplace=True)\n",
    "data['quadrant'].head()"
   ]
  },
  {
   "cell_type": "code",
   "execution_count": 16,
   "metadata": {
    "collapsed": true
   },
   "outputs": [],
   "source": [
    "def modifyToInteger(x):\n",
    "    '''Function that converts valid fields to integer type and invalid fields to 0'''\n",
    "    try:\n",
    "        return int(x)\n",
    "    except:\n",
    "        return 0"
   ]
  },
  {
   "cell_type": "code",
   "execution_count": 17,
   "metadata": {
    "collapsed": true
   },
   "outputs": [],
   "source": [
    "#Applying function to column\n",
    "data['quadrant'] = data['quadrant'].apply(modifyToInteger)"
   ]
  },
  {
   "cell_type": "code",
   "execution_count": 18,
   "metadata": {},
   "outputs": [
    {
     "data": {
      "text/plain": [
       "array([ 2,  1,  4,  0,  3, 95], dtype=int64)"
      ]
     },
     "execution_count": 18,
     "metadata": {},
     "output_type": "execute_result"
    }
   ],
   "source": [
    "#Verifying function implentation\n",
    "data['quadrant'].unique()"
   ]
  },
  {
   "cell_type": "markdown",
   "metadata": {},
   "source": [
    "Let us take a look at the frequency of crime based on type again"
   ]
  },
  {
   "cell_type": "code",
   "execution_count": 19,
   "metadata": {},
   "outputs": [
    {
     "data": {
      "text/plain": [
       "THEFT/OTHER                   144382\n",
       "THEFT F/AUTO                   96192\n",
       "ROBBERY                        38434\n",
       "MOTOR VEHICLE THEFT            36208\n",
       "BURGLARY                       34415\n",
       "ASSAULT W/DANGEROUS WEAPON     25818\n",
       "SEX ABUSE                       2714\n",
       "HOMICIDE                        1335\n",
       "ARSON                            351\n",
       "Name: OFFENSE, dtype: int64"
      ]
     },
     "execution_count": 19,
     "metadata": {},
     "output_type": "execute_result"
    }
   ],
   "source": [
    "data['OFFENSE'].value_counts()"
   ]
  },
  {
   "cell_type": "markdown",
   "metadata": {},
   "source": [
    "We will now rank these offense types numerically, in decreasing order of frequency.\n",
    "\n",
    "We create dictionaries for ranked integer values of crime and shift."
   ]
  },
  {
   "cell_type": "code",
   "execution_count": 20,
   "metadata": {
    "collapsed": true
   },
   "outputs": [],
   "source": [
    "crime_rank = {\"THEFT/OTHER\":1, \"THEFT F/AUTO\":2, \"ROBBERY\":3, \"MOTOR VEHICLE THEFT\":4, \"BURGLARY\":5, \"ASSAULT W/DANGEROUS WEAPON\":6, \"SEX ABUSE\":7, \"HOMICIDE\":8, \"ARSON\":9}"
   ]
  },
  {
   "cell_type": "code",
   "execution_count": 21,
   "metadata": {
    "collapsed": true
   },
   "outputs": [],
   "source": [
    "shift_rank = {\"EVENING\":1, \"MIDNIGHT\":2, \"DAY\":3}"
   ]
  },
  {
   "cell_type": "code",
   "execution_count": 22,
   "metadata": {
    "collapsed": true
   },
   "outputs": [],
   "source": [
    "#Creating columns for integer values\n",
    "data['crime_rank'] = data['OFFENSE']\n",
    "data['shift_rank'] = data['SHIFT']\n",
    "\n",
    "#Replacing values with the integer values generated above\n",
    "data['crime_rank'].replace(crime_rank, inplace=True)\n",
    "data['shift_rank'].replace(shift_rank, inplace=True)"
   ]
  },
  {
   "cell_type": "code",
   "execution_count": 23,
   "metadata": {},
   "outputs": [
    {
     "data": {
      "text/html": [
       "<div>\n",
       "<style>\n",
       "    .dataframe thead tr:only-child th {\n",
       "        text-align: right;\n",
       "    }\n",
       "\n",
       "    .dataframe thead th {\n",
       "        text-align: left;\n",
       "    }\n",
       "\n",
       "    .dataframe tbody tr th {\n",
       "        vertical-align: top;\n",
       "    }\n",
       "</style>\n",
       "<table border=\"1\" class=\"dataframe\">\n",
       "  <thead>\n",
       "    <tr style=\"text-align: right;\">\n",
       "      <th></th>\n",
       "      <th>Unnamed: 0</th>\n",
       "      <th>X</th>\n",
       "      <th>Y</th>\n",
       "      <th>CCN</th>\n",
       "      <th>REPORT_DAT</th>\n",
       "      <th>SHIFT</th>\n",
       "      <th>METHOD</th>\n",
       "      <th>OFFENSE</th>\n",
       "      <th>BLOCK</th>\n",
       "      <th>XBLOCK</th>\n",
       "      <th>...</th>\n",
       "      <th>YCOORD</th>\n",
       "      <th>LATITUDE</th>\n",
       "      <th>LONGITUDE</th>\n",
       "      <th>BID</th>\n",
       "      <th>START_DATE</th>\n",
       "      <th>END_DATE</th>\n",
       "      <th>OBJECTID</th>\n",
       "      <th>quadrant</th>\n",
       "      <th>crime_rank</th>\n",
       "      <th>shift_rank</th>\n",
       "    </tr>\n",
       "  </thead>\n",
       "  <tbody>\n",
       "    <tr>\n",
       "      <th>0</th>\n",
       "      <td>0</td>\n",
       "      <td>-76.987540</td>\n",
       "      <td>38.903968</td>\n",
       "      <td>8149126</td>\n",
       "      <td>2008-10-19T18:30:00.000Z</td>\n",
       "      <td>EVENING</td>\n",
       "      <td>OTHERS</td>\n",
       "      <td>THEFT/OTHER</td>\n",
       "      <td>1200 - 1299 BLOCK OF NEAL STREET NE</td>\n",
       "      <td>401081.000000</td>\n",
       "      <td>...</td>\n",
       "      <td>137320.72</td>\n",
       "      <td>38.903960</td>\n",
       "      <td>-76.987537</td>\n",
       "      <td>NaN</td>\n",
       "      <td>2008-10-19T17:30:00.000Z</td>\n",
       "      <td>2008-10-19T17:40:00.000Z</td>\n",
       "      <td>79996081</td>\n",
       "      <td>2</td>\n",
       "      <td>1</td>\n",
       "      <td>1</td>\n",
       "    </tr>\n",
       "    <tr>\n",
       "      <th>1</th>\n",
       "      <td>1</td>\n",
       "      <td>-76.944599</td>\n",
       "      <td>38.898379</td>\n",
       "      <td>8149130</td>\n",
       "      <td>2008-10-19T17:00:00.000Z</td>\n",
       "      <td>EVENING</td>\n",
       "      <td>OTHERS</td>\n",
       "      <td>MOTOR VEHICLE THEFT</td>\n",
       "      <td>4000 - 4199 BLOCK OF GRANT STREET NE</td>\n",
       "      <td>404806.000000</td>\n",
       "      <td>...</td>\n",
       "      <td>136747.74</td>\n",
       "      <td>38.898372</td>\n",
       "      <td>-76.944597</td>\n",
       "      <td>NaN</td>\n",
       "      <td>2008-10-19T14:30:00.000Z</td>\n",
       "      <td>2008-10-19T14:35:00.000Z</td>\n",
       "      <td>79996082</td>\n",
       "      <td>2</td>\n",
       "      <td>4</td>\n",
       "      <td>1</td>\n",
       "    </tr>\n",
       "    <tr>\n",
       "      <th>2</th>\n",
       "      <td>2</td>\n",
       "      <td>-77.012145</td>\n",
       "      <td>38.926290</td>\n",
       "      <td>8149134</td>\n",
       "      <td>2008-10-19T17:40:00.000Z</td>\n",
       "      <td>EVENING</td>\n",
       "      <td>OTHERS</td>\n",
       "      <td>THEFT/OTHER</td>\n",
       "      <td>1ST STREET NW AND MICHIGAN AVENUE NW</td>\n",
       "      <td>398947.110013</td>\n",
       "      <td>...</td>\n",
       "      <td>NaN</td>\n",
       "      <td>38.926282</td>\n",
       "      <td>-77.012142</td>\n",
       "      <td>NaN</td>\n",
       "      <td>2008-10-19T10:00:00.000Z</td>\n",
       "      <td>2008-10-19T17:00:00.000Z</td>\n",
       "      <td>79996083</td>\n",
       "      <td>1</td>\n",
       "      <td>1</td>\n",
       "      <td>1</td>\n",
       "    </tr>\n",
       "    <tr>\n",
       "      <th>3</th>\n",
       "      <td>3</td>\n",
       "      <td>-76.986275</td>\n",
       "      <td>38.944785</td>\n",
       "      <td>8149139</td>\n",
       "      <td>2008-10-19T18:00:00.000Z</td>\n",
       "      <td>EVENING</td>\n",
       "      <td>OTHERS</td>\n",
       "      <td>THEFT/OTHER</td>\n",
       "      <td>4500 - 4598 BLOCK OF SOUTH DAKOTA AVENUE NE</td>\n",
       "      <td>401190.000000</td>\n",
       "      <td>...</td>\n",
       "      <td>142177.91</td>\n",
       "      <td>38.944777</td>\n",
       "      <td>-76.986273</td>\n",
       "      <td>NaN</td>\n",
       "      <td>2008-10-18T19:00:00.000Z</td>\n",
       "      <td>2008-10-19T08:00:00.000Z</td>\n",
       "      <td>79996084</td>\n",
       "      <td>2</td>\n",
       "      <td>1</td>\n",
       "      <td>1</td>\n",
       "    </tr>\n",
       "    <tr>\n",
       "      <th>4</th>\n",
       "      <td>4</td>\n",
       "      <td>-76.954487</td>\n",
       "      <td>38.885475</td>\n",
       "      <td>8149147</td>\n",
       "      <td>2008-10-19T18:00:00.000Z</td>\n",
       "      <td>EVENING</td>\n",
       "      <td>OTHERS</td>\n",
       "      <td>THEFT/OTHER</td>\n",
       "      <td>200 - 499 BLOCK OF ANACOSTIA ROAD SE</td>\n",
       "      <td>403949.000000</td>\n",
       "      <td>...</td>\n",
       "      <td>135420.81</td>\n",
       "      <td>38.885467</td>\n",
       "      <td>-76.954484</td>\n",
       "      <td>NaN</td>\n",
       "      <td>2008-10-19T13:00:00.000Z</td>\n",
       "      <td>2008-10-19T17:00:00.000Z</td>\n",
       "      <td>79996085</td>\n",
       "      <td>4</td>\n",
       "      <td>1</td>\n",
       "      <td>1</td>\n",
       "    </tr>\n",
       "  </tbody>\n",
       "</table>\n",
       "<p>5 rows × 30 columns</p>\n",
       "</div>"
      ],
      "text/plain": [
       "   Unnamed: 0          X          Y      CCN                REPORT_DAT  \\\n",
       "0           0 -76.987540  38.903968  8149126  2008-10-19T18:30:00.000Z   \n",
       "1           1 -76.944599  38.898379  8149130  2008-10-19T17:00:00.000Z   \n",
       "2           2 -77.012145  38.926290  8149134  2008-10-19T17:40:00.000Z   \n",
       "3           3 -76.986275  38.944785  8149139  2008-10-19T18:00:00.000Z   \n",
       "4           4 -76.954487  38.885475  8149147  2008-10-19T18:00:00.000Z   \n",
       "\n",
       "     SHIFT  METHOD              OFFENSE  \\\n",
       "0  EVENING  OTHERS          THEFT/OTHER   \n",
       "1  EVENING  OTHERS  MOTOR VEHICLE THEFT   \n",
       "2  EVENING  OTHERS          THEFT/OTHER   \n",
       "3  EVENING  OTHERS          THEFT/OTHER   \n",
       "4  EVENING  OTHERS          THEFT/OTHER   \n",
       "\n",
       "                                         BLOCK         XBLOCK     ...      \\\n",
       "0          1200 - 1299 BLOCK OF NEAL STREET NE  401081.000000     ...       \n",
       "1         4000 - 4199 BLOCK OF GRANT STREET NE  404806.000000     ...       \n",
       "2         1ST STREET NW AND MICHIGAN AVENUE NW  398947.110013     ...       \n",
       "3  4500 - 4598 BLOCK OF SOUTH DAKOTA AVENUE NE  401190.000000     ...       \n",
       "4         200 - 499 BLOCK OF ANACOSTIA ROAD SE  403949.000000     ...       \n",
       "\n",
       "      YCOORD   LATITUDE  LONGITUDE  BID                START_DATE  \\\n",
       "0  137320.72  38.903960 -76.987537  NaN  2008-10-19T17:30:00.000Z   \n",
       "1  136747.74  38.898372 -76.944597  NaN  2008-10-19T14:30:00.000Z   \n",
       "2        NaN  38.926282 -77.012142  NaN  2008-10-19T10:00:00.000Z   \n",
       "3  142177.91  38.944777 -76.986273  NaN  2008-10-18T19:00:00.000Z   \n",
       "4  135420.81  38.885467 -76.954484  NaN  2008-10-19T13:00:00.000Z   \n",
       "\n",
       "                   END_DATE  OBJECTID  quadrant crime_rank  shift_rank  \n",
       "0  2008-10-19T17:40:00.000Z  79996081         2          1           1  \n",
       "1  2008-10-19T14:35:00.000Z  79996082         2          4           1  \n",
       "2  2008-10-19T17:00:00.000Z  79996083         1          1           1  \n",
       "3  2008-10-19T08:00:00.000Z  79996084         2          1           1  \n",
       "4  2008-10-19T17:00:00.000Z  79996085         4          1           1  \n",
       "\n",
       "[5 rows x 30 columns]"
      ]
     },
     "execution_count": 23,
     "metadata": {},
     "output_type": "execute_result"
    }
   ],
   "source": [
    "#Verifying the changes\n",
    "data.head()"
   ]
  },
  {
   "cell_type": "markdown",
   "metadata": {},
   "source": [
    "#### 3.1 Pearson's correlation between precinct and crime type"
   ]
  },
  {
   "cell_type": "code",
   "execution_count": 24,
   "metadata": {},
   "outputs": [
    {
     "name": "stdout",
     "output_type": "stream",
     "text": [
      "0.202879906447\n"
     ]
    }
   ],
   "source": [
    "x = np.array(data['quadrant'])\n",
    "y = np.array(data['crime_rank'])\n",
    "\n",
    "pearsons=scipy.stats.pearsonr(x,y)\n",
    "print(pearsons[0])"
   ]
  },
  {
   "cell_type": "markdown",
   "metadata": {},
   "source": [
    "This indicates a 20% correlation between crime type and the quadrant, suggesting that for 20% crime incidents we observe a relation between the quadrant and the type of crime occuring there."
   ]
  },
  {
   "cell_type": "markdown",
   "metadata": {},
   "source": [
    "#### 3.2 Spearman's correlation between crime type and time"
   ]
  },
  {
   "cell_type": "code",
   "execution_count": 25,
   "metadata": {},
   "outputs": [
    {
     "name": "stdout",
     "output_type": "stream",
     "text": [
      "0.010920902654\n"
     ]
    }
   ],
   "source": [
    "x = np.array(data['crime_rank'])\n",
    "y = np.array(data['shift_rank'])\n",
    "\n",
    "spearman=scipy.stats.spearmanr(x,y)\n",
    "print(spearman[0])"
   ]
  },
  {
   "cell_type": "markdown",
   "metadata": {},
   "source": [
    "A 1% correlation between crime rank and time indicate that they do not follow a pattern"
   ]
  },
  {
   "cell_type": "markdown",
   "metadata": {},
   "source": [
    "### 4. Machine learning to predict crime types"
   ]
  },
  {
   "cell_type": "markdown",
   "metadata": {},
   "source": [
    "The goal here is to build a model that can attempt to predict the type of crime occuring in a neighborhood, given spatial (Quadrant, Police Service Areas-PSA, Census Tract and Voting precinct) and temporal (month of crime, year of crime, shift of crime) features of the dataset.\n",
    "\n",
    "The model will be built using two Machine Learning Classification models \n",
    "1. K Nearest Classifiers\n",
    "2. Random Forest Classifier\n",
    "\n",
    "Predictions will be made using the model and the accuracy of the model will be calculated to test performace."
   ]
  },
  {
   "cell_type": "markdown",
   "metadata": {},
   "source": [
    "We will first start by preparing numerical data for necessary fields"
   ]
  },
  {
   "cell_type": "code",
   "execution_count": 26,
   "metadata": {
    "collapsed": true
   },
   "outputs": [],
   "source": [
    "def generatePrecinct(x):\n",
    "    '''Function that takes in the VOTING_PRECINCT value and converts it to a numerical value'''\n",
    "    precinct = str(x)[11:]\n",
    "    try:\n",
    "        return int(precinct)\n",
    "    except:\n",
    "        return int(0)"
   ]
  },
  {
   "cell_type": "code",
   "execution_count": 27,
   "metadata": {
    "collapsed": true
   },
   "outputs": [],
   "source": [
    "def generateMonth(x):\n",
    "    '''Function that takes in the START_DATE value and converts it to a numerical month'''\n",
    "    month = str(x)[5:7]\n",
    "    try:\n",
    "        return int(month)\n",
    "    except:\n",
    "        return int(0)"
   ]
  },
  {
   "cell_type": "code",
   "execution_count": 28,
   "metadata": {
    "collapsed": true
   },
   "outputs": [],
   "source": [
    "def generateYear(x):\n",
    "    '''Function that takes in the START_DATE value and converts it to a numerical year'''\n",
    "    year = str(x)[0:4]\n",
    "    try:\n",
    "        return int(year)\n",
    "    except:\n",
    "        return int(0)"
   ]
  },
  {
   "cell_type": "code",
   "execution_count": 29,
   "metadata": {
    "collapsed": true
   },
   "outputs": [],
   "source": [
    "#Generating numerical value for precinct\n",
    "data['precinct_num'] = data['VOTING_PRECINCT'].apply(generatePrecinct)"
   ]
  },
  {
   "cell_type": "code",
   "execution_count": 30,
   "metadata": {
    "collapsed": true
   },
   "outputs": [],
   "source": [
    "#Extracting month and year of crime from the START_DATE field\n",
    "data['monthOfCrime'] = data['START_DATE'].apply(generateMonth)\n",
    "data['yearOfCrime'] = data['START_DATE'].apply(generateYear)"
   ]
  },
  {
   "cell_type": "code",
   "execution_count": 31,
   "metadata": {
    "collapsed": true
   },
   "outputs": [],
   "source": [
    "#Converts float values of PSA to valid integer values\n",
    "data['PSA'] = data['PSA'].apply(modifyToInteger)\n",
    "data['CENSUS_TRACT'] = data['CENSUS_TRACT'].apply(modifyToInteger)"
   ]
  },
  {
   "cell_type": "code",
   "execution_count": 32,
   "metadata": {},
   "outputs": [
    {
     "data": {
      "text/html": [
       "<div>\n",
       "<style>\n",
       "    .dataframe thead tr:only-child th {\n",
       "        text-align: right;\n",
       "    }\n",
       "\n",
       "    .dataframe thead th {\n",
       "        text-align: left;\n",
       "    }\n",
       "\n",
       "    .dataframe tbody tr th {\n",
       "        vertical-align: top;\n",
       "    }\n",
       "</style>\n",
       "<table border=\"1\" class=\"dataframe\">\n",
       "  <thead>\n",
       "    <tr style=\"text-align: right;\">\n",
       "      <th></th>\n",
       "      <th>Unnamed: 0</th>\n",
       "      <th>X</th>\n",
       "      <th>Y</th>\n",
       "      <th>CCN</th>\n",
       "      <th>REPORT_DAT</th>\n",
       "      <th>SHIFT</th>\n",
       "      <th>METHOD</th>\n",
       "      <th>OFFENSE</th>\n",
       "      <th>BLOCK</th>\n",
       "      <th>XBLOCK</th>\n",
       "      <th>...</th>\n",
       "      <th>BID</th>\n",
       "      <th>START_DATE</th>\n",
       "      <th>END_DATE</th>\n",
       "      <th>OBJECTID</th>\n",
       "      <th>quadrant</th>\n",
       "      <th>crime_rank</th>\n",
       "      <th>shift_rank</th>\n",
       "      <th>precinct_num</th>\n",
       "      <th>monthOfCrime</th>\n",
       "      <th>yearOfCrime</th>\n",
       "    </tr>\n",
       "  </thead>\n",
       "  <tbody>\n",
       "    <tr>\n",
       "      <th>0</th>\n",
       "      <td>0</td>\n",
       "      <td>-76.987540</td>\n",
       "      <td>38.903968</td>\n",
       "      <td>8149126</td>\n",
       "      <td>2008-10-19T18:30:00.000Z</td>\n",
       "      <td>EVENING</td>\n",
       "      <td>OTHERS</td>\n",
       "      <td>THEFT/OTHER</td>\n",
       "      <td>1200 - 1299 BLOCK OF NEAL STREET NE</td>\n",
       "      <td>401081.000000</td>\n",
       "      <td>...</td>\n",
       "      <td>NaN</td>\n",
       "      <td>2008-10-19T17:30:00.000Z</td>\n",
       "      <td>2008-10-19T17:40:00.000Z</td>\n",
       "      <td>79996081</td>\n",
       "      <td>2</td>\n",
       "      <td>1</td>\n",
       "      <td>1</td>\n",
       "      <td>0</td>\n",
       "      <td>10</td>\n",
       "      <td>2008</td>\n",
       "    </tr>\n",
       "    <tr>\n",
       "      <th>1</th>\n",
       "      <td>1</td>\n",
       "      <td>-76.944599</td>\n",
       "      <td>38.898379</td>\n",
       "      <td>8149130</td>\n",
       "      <td>2008-10-19T17:00:00.000Z</td>\n",
       "      <td>EVENING</td>\n",
       "      <td>OTHERS</td>\n",
       "      <td>MOTOR VEHICLE THEFT</td>\n",
       "      <td>4000 - 4199 BLOCK OF GRANT STREET NE</td>\n",
       "      <td>404806.000000</td>\n",
       "      <td>...</td>\n",
       "      <td>NaN</td>\n",
       "      <td>2008-10-19T14:30:00.000Z</td>\n",
       "      <td>2008-10-19T14:35:00.000Z</td>\n",
       "      <td>79996082</td>\n",
       "      <td>2</td>\n",
       "      <td>4</td>\n",
       "      <td>1</td>\n",
       "      <td>0</td>\n",
       "      <td>10</td>\n",
       "      <td>2008</td>\n",
       "    </tr>\n",
       "    <tr>\n",
       "      <th>2</th>\n",
       "      <td>2</td>\n",
       "      <td>-77.012145</td>\n",
       "      <td>38.926290</td>\n",
       "      <td>8149134</td>\n",
       "      <td>2008-10-19T17:40:00.000Z</td>\n",
       "      <td>EVENING</td>\n",
       "      <td>OTHERS</td>\n",
       "      <td>THEFT/OTHER</td>\n",
       "      <td>1ST STREET NW AND MICHIGAN AVENUE NW</td>\n",
       "      <td>398947.110013</td>\n",
       "      <td>...</td>\n",
       "      <td>NaN</td>\n",
       "      <td>2008-10-19T10:00:00.000Z</td>\n",
       "      <td>2008-10-19T17:00:00.000Z</td>\n",
       "      <td>79996083</td>\n",
       "      <td>1</td>\n",
       "      <td>1</td>\n",
       "      <td>1</td>\n",
       "      <td>5</td>\n",
       "      <td>10</td>\n",
       "      <td>2008</td>\n",
       "    </tr>\n",
       "    <tr>\n",
       "      <th>3</th>\n",
       "      <td>3</td>\n",
       "      <td>-76.986275</td>\n",
       "      <td>38.944785</td>\n",
       "      <td>8149139</td>\n",
       "      <td>2008-10-19T18:00:00.000Z</td>\n",
       "      <td>EVENING</td>\n",
       "      <td>OTHERS</td>\n",
       "      <td>THEFT/OTHER</td>\n",
       "      <td>4500 - 4598 BLOCK OF SOUTH DAKOTA AVENUE NE</td>\n",
       "      <td>401190.000000</td>\n",
       "      <td>...</td>\n",
       "      <td>NaN</td>\n",
       "      <td>2008-10-18T19:00:00.000Z</td>\n",
       "      <td>2008-10-19T08:00:00.000Z</td>\n",
       "      <td>79996084</td>\n",
       "      <td>2</td>\n",
       "      <td>1</td>\n",
       "      <td>1</td>\n",
       "      <td>0</td>\n",
       "      <td>10</td>\n",
       "      <td>2008</td>\n",
       "    </tr>\n",
       "    <tr>\n",
       "      <th>4</th>\n",
       "      <td>4</td>\n",
       "      <td>-76.954487</td>\n",
       "      <td>38.885475</td>\n",
       "      <td>8149147</td>\n",
       "      <td>2008-10-19T18:00:00.000Z</td>\n",
       "      <td>EVENING</td>\n",
       "      <td>OTHERS</td>\n",
       "      <td>THEFT/OTHER</td>\n",
       "      <td>200 - 499 BLOCK OF ANACOSTIA ROAD SE</td>\n",
       "      <td>403949.000000</td>\n",
       "      <td>...</td>\n",
       "      <td>NaN</td>\n",
       "      <td>2008-10-19T13:00:00.000Z</td>\n",
       "      <td>2008-10-19T17:00:00.000Z</td>\n",
       "      <td>79996085</td>\n",
       "      <td>4</td>\n",
       "      <td>1</td>\n",
       "      <td>1</td>\n",
       "      <td>7</td>\n",
       "      <td>10</td>\n",
       "      <td>2008</td>\n",
       "    </tr>\n",
       "  </tbody>\n",
       "</table>\n",
       "<p>5 rows × 33 columns</p>\n",
       "</div>"
      ],
      "text/plain": [
       "   Unnamed: 0          X          Y      CCN                REPORT_DAT  \\\n",
       "0           0 -76.987540  38.903968  8149126  2008-10-19T18:30:00.000Z   \n",
       "1           1 -76.944599  38.898379  8149130  2008-10-19T17:00:00.000Z   \n",
       "2           2 -77.012145  38.926290  8149134  2008-10-19T17:40:00.000Z   \n",
       "3           3 -76.986275  38.944785  8149139  2008-10-19T18:00:00.000Z   \n",
       "4           4 -76.954487  38.885475  8149147  2008-10-19T18:00:00.000Z   \n",
       "\n",
       "     SHIFT  METHOD              OFFENSE  \\\n",
       "0  EVENING  OTHERS          THEFT/OTHER   \n",
       "1  EVENING  OTHERS  MOTOR VEHICLE THEFT   \n",
       "2  EVENING  OTHERS          THEFT/OTHER   \n",
       "3  EVENING  OTHERS          THEFT/OTHER   \n",
       "4  EVENING  OTHERS          THEFT/OTHER   \n",
       "\n",
       "                                         BLOCK         XBLOCK     ...       \\\n",
       "0          1200 - 1299 BLOCK OF NEAL STREET NE  401081.000000     ...        \n",
       "1         4000 - 4199 BLOCK OF GRANT STREET NE  404806.000000     ...        \n",
       "2         1ST STREET NW AND MICHIGAN AVENUE NW  398947.110013     ...        \n",
       "3  4500 - 4598 BLOCK OF SOUTH DAKOTA AVENUE NE  401190.000000     ...        \n",
       "4         200 - 499 BLOCK OF ANACOSTIA ROAD SE  403949.000000     ...        \n",
       "\n",
       "   BID                START_DATE                  END_DATE  OBJECTID  \\\n",
       "0  NaN  2008-10-19T17:30:00.000Z  2008-10-19T17:40:00.000Z  79996081   \n",
       "1  NaN  2008-10-19T14:30:00.000Z  2008-10-19T14:35:00.000Z  79996082   \n",
       "2  NaN  2008-10-19T10:00:00.000Z  2008-10-19T17:00:00.000Z  79996083   \n",
       "3  NaN  2008-10-18T19:00:00.000Z  2008-10-19T08:00:00.000Z  79996084   \n",
       "4  NaN  2008-10-19T13:00:00.000Z  2008-10-19T17:00:00.000Z  79996085   \n",
       "\n",
       "   quadrant crime_rank shift_rank  precinct_num monthOfCrime  yearOfCrime  \n",
       "0         2          1          1             0           10         2008  \n",
       "1         2          4          1             0           10         2008  \n",
       "2         1          1          1             5           10         2008  \n",
       "3         2          1          1             0           10         2008  \n",
       "4         4          1          1             7           10         2008  \n",
       "\n",
       "[5 rows x 33 columns]"
      ]
     },
     "execution_count": 32,
     "metadata": {},
     "output_type": "execute_result"
    }
   ],
   "source": [
    "#Verify new columns\n",
    "data.head()"
   ]
  },
  {
   "cell_type": "code",
   "execution_count": 33,
   "metadata": {
    "collapsed": true
   },
   "outputs": [],
   "source": [
    "#Import necessary machine learning packages\n",
    "from sklearn.model_selection import train_test_split\n",
    "from sklearn.neighbors import KNeighborsClassifier\n",
    "from sklearn.ensemble import RandomForestClassifier\n",
    "from sklearn.metrics import accuracy_score"
   ]
  },
  {
   "cell_type": "markdown",
   "metadata": {},
   "source": [
    "We now proceed to predictive modelling by defining are target variable (y) and predictors (X)"
   ]
  },
  {
   "cell_type": "code",
   "execution_count": 34,
   "metadata": {
    "collapsed": true
   },
   "outputs": [],
   "source": [
    "y = data['crime_rank'].values\n",
    "X = data[['shift_rank', 'precinct_num', 'monthOfCrime', 'yearOfCrime', 'quadrant', 'PSA', 'CENSUS_TRACT']].values"
   ]
  },
  {
   "cell_type": "code",
   "execution_count": 35,
   "metadata": {
    "collapsed": true
   },
   "outputs": [],
   "source": [
    "#Splitting data to a training and test sample of 70%-30%\n",
    "X_train, X_test, y_train, y_test = train_test_split(X,y, test_size = .3, random_state=522, stratify=y)"
   ]
  },
  {
   "cell_type": "markdown",
   "metadata": {},
   "source": [
    "#### 4.1 kNearest Classifier"
   ]
  },
  {
   "cell_type": "code",
   "execution_count": 36,
   "metadata": {
    "collapsed": true
   },
   "outputs": [],
   "source": [
    "knn = KNeighborsClassifier(n_neighbors=9)\n",
    "knn.fit(X_train, y_train)\n",
    "y_pred = knn.predict(X_test)"
   ]
  },
  {
   "cell_type": "code",
   "execution_count": 37,
   "metadata": {},
   "outputs": [
    {
     "name": "stdout",
     "output_type": "stream",
     "text": [
      "Accuracy:  0.437172568119\n"
     ]
    }
   ],
   "source": [
    "print('Accuracy: ', accuracy_score(y_test, y_pred))"
   ]
  },
  {
   "cell_type": "markdown",
   "metadata": {},
   "source": [
    "#### 4.2 Random Forest Classifier"
   ]
  },
  {
   "cell_type": "code",
   "execution_count": 38,
   "metadata": {},
   "outputs": [
    {
     "name": "stdout",
     "output_type": "stream",
     "text": [
      "[1 1 1 ..., 1 2 1]\n"
     ]
    }
   ],
   "source": [
    "#n_estimators = number of trees in the forest\n",
    "#min_samples_leaf = minimum number of samples required to be at a leaf node for the tree\n",
    "rf = RandomForestClassifier(n_estimators=1000, min_samples_leaf=9, random_state=522)\n",
    "rf.fit(X_train, y_train)\n",
    "y_pred = rf.predict(X_test)\n",
    "print(y_pred)"
   ]
  },
  {
   "cell_type": "code",
   "execution_count": 39,
   "metadata": {},
   "outputs": [
    {
     "name": "stdout",
     "output_type": "stream",
     "text": [
      "Accuracy:  0.462480803826\n"
     ]
    }
   ],
   "source": [
    "print('Accuracy: ', accuracy_score(y_test, y_pred))"
   ]
  },
  {
   "cell_type": "markdown",
   "metadata": {},
   "source": [
    "Thus we notice that while the kNearest Classifier does an average job at predicting the crime type based on a straightforward algorithm, the RandomForest Classfier does a far better job giving an accuracy score of 46.24%.\n",
    "This reinforces the superiority of the Random Forest Classifier.\n",
    "\n",
    "The volume and fidelity of the datasets have a large role to play in the performace of the models, but this introduces prediction of occurence of urban scenarios based on spatio-temporal features."
   ]
  },
  {
   "cell_type": "markdown",
   "metadata": {},
   "source": [
    "#### 5. Visualizing a subset of it (2017) on map using ArcGIS API for Python"
   ]
  },
  {
   "cell_type": "code",
   "execution_count": 40,
   "metadata": {},
   "outputs": [],
   "source": [
    "#Importing necessary packages\n",
    "import arcgis\n",
    "from arcgis.gis import GIS\n",
    "from arcgis.features import FeatureLayer"
   ]
  },
  {
   "cell_type": "code",
   "execution_count": 41,
   "metadata": {
    "collapsed": true
   },
   "outputs": [],
   "source": [
    "gis = GIS(verify_cert=False)\n",
    "map1 = gis.map('Washington, DC', 16) "
   ]
  },
  {
   "cell_type": "code",
   "execution_count": 42,
   "metadata": {},
   "outputs": [
    {
     "data": {
      "application/vnd.jupyter.widget-view+json": {
       "model_id": "1a5c6670e1e64691863e419f1297f6b7"
      }
     },
     "metadata": {},
     "output_type": "display_data"
    }
   ],
   "source": [
    "map1.add_layer({\"type\":\"FeatureLayer\",\n",
    "                \"url\":\"https://maps2.dcgis.dc.gov/dcgis/rest/services/FEEDS/MPD/MapServer/38\",\n",
    "                \"opacity\":0.75\n",
    "               })\n",
    "map1"
   ]
  },
  {
   "cell_type": "markdown",
   "metadata": {},
   "source": [
    "![map of crime in DC 2017][map17.png]"
   ]
  },
  {
   "cell_type": "code",
   "execution_count": null,
   "metadata": {
    "collapsed": true
   },
   "outputs": [],
   "source": []
  }
 ],
 "metadata": {
  "kernelspec": {
   "display_name": "Python 3",
   "language": "python",
   "name": "python3"
  },
  "language_info": {
   "codemirror_mode": {
    "name": "ipython",
    "version": 3
   },
   "file_extension": ".py",
   "mimetype": "text/x-python",
   "name": "python",
   "nbconvert_exporter": "python",
   "pygments_lexer": "ipython3",
   "version": "3.5.4"
  }
 },
 "nbformat": 4,
 "nbformat_minor": 2
}
