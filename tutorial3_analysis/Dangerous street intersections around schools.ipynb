{
 "cells": [
  {
   "cell_type": "markdown",
   "metadata": {},
   "source": [
    "## Which are the most dangerous street intersections around the schools in my city?\n"
   ]
  },
  {
   "cell_type": "markdown",
   "metadata": {},
   "source": [
    "#### Run this cell to connect to your GIS and get started:"
   ]
  },
  {
   "cell_type": "code",
   "execution_count": 1,
   "metadata": {},
   "outputs": [],
   "source": [
    "from arcgis.gis import GIS\n",
    "from arcgis.features.use_proximity import create_drive_time_areas\n",
    "from arcgis.features.analysis import overlay_layers, join_features\n",
    "gis = GIS(\"home\")"
   ]
  },
  {
   "cell_type": "markdown",
   "metadata": {},
   "source": [
    "#### Now you are ready to start!"
   ]
  },
  {
   "cell_type": "markdown",
   "metadata": {},
   "source": [
    "#### Specify the inputs needed to customize your analysis\n",
    "\n",
    "We are working with the `Schools`, `Streets` and `Crashes` of Washington, DC."
   ]
  },
  {
   "cell_type": "code",
   "execution_count": 2,
   "metadata": {},
   "outputs": [],
   "source": [
    "location = 'Washington, DC'\n",
    "\n",
    "#Itemid for school (place to generate boundary OR boundary), streets (place to classify) and crashes (measure)\n",
    "school_itemid = 'dd9e882e321e49448e07b38d265770b5'\n",
    "streets_itemid = '854ee79cbeb94c879c47fd2394c30b59'\n",
    "crashes_itemid = 'c1c4ec37b5ec4b30821e68ecd4f4aa22'\n",
    "\n",
    "#Service area inputs\n",
    "travel_mode = 'Walking'\n",
    "time = [10]"
   ]
  },
  {
   "cell_type": "code",
   "execution_count": 3,
   "metadata": {},
   "outputs": [
    {
     "data": {
      "text/plain": [
       "'https://services.arcgis.com/bkrWlSKcjUDFDtgw/arcgis/rest/services/DC_SchoolsW/FeatureServer/0'"
      ]
     },
     "execution_count": 3,
     "metadata": {},
     "output_type": "execute_result"
    }
   ],
   "source": [
    "school_item = gis.content.get(school_itemid)\n",
    "school_url = school_item.url+'/0'\n",
    "school_url"
   ]
  },
  {
   "cell_type": "markdown",
   "metadata": {},
   "source": [
    "### 1. Create 10 min walkshed areas around schools that serve as the extent for this analysis"
   ]
  },
  {
   "cell_type": "code",
   "execution_count": 4,
   "metadata": {},
   "outputs": [
    {
     "data": {
      "text/html": [
       "<div class=\"item_container\" style=\"height: auto; overflow: hidden; border: 1px solid #cfcfcf; border-radius: 2px; background: #f6fafa; line-height: 1.21429em; padding: 10px;\">\n",
       "                    <div class=\"item_left\" style=\"width: 210px; float: left;\">\n",
       "                       <a href='https://www.arcgis.com/home/item.html?id=b30dd2e595fc45b1a0a121aea08b15f2' target='_blank'>\n",
       "                        <img src='data:image/png;base64,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' width='200' height='133' class=\"itemThumbnail\">\n",
       "                       </a>\n",
       "                    </div>\n",
       "\n",
       "                    <div class=\"item_right\"     style=\"float: none; width: auto; overflow: hidden;\">\n",
       "                        <a href='https://www.arcgis.com/home/item.html?id=b30dd2e595fc45b1a0a121aea08b15f2' target='_blank'><b>schoolServiceAreas_dd9e882e321e49448e07b38d265770b5</b>\n",
       "                        </a>\n",
       "                        <br/><img src='https://www.arcgis.com/home/js/jsapi/esri/css/images/item_type_icons/featureshosted16.png' style=\"vertical-align:middle;\">Feature Layer Collection by mmajumdar_dcdev\n",
       "                        <br/>Last Modified: September 22, 2019\n",
       "                        <br/>0 comments, 3 views\n",
       "                    </div>\n",
       "                </div>\n",
       "                "
      ],
      "text/plain": [
       "<Item title:\"schoolServiceAreas_dd9e882e321e49448e07b38d265770b5\" type:Feature Layer Collection owner:mmajumdar_dcdev>"
      ]
     },
     "execution_count": 4,
     "metadata": {},
     "output_type": "execute_result"
    }
   ],
   "source": [
    "#school_service_areas = create_drive_time_areas(school_url, break_values=time, travel_mode=travel_mode, output_name=\"schoolServiceAreas_\"+school_itemid, overlap_policy='Dissolve')\n",
    "school_service_areas = gis.content.get('b30dd2e595fc45b1a0a121aea08b15f2')\n",
    "school_service_areas"
   ]
  },
  {
   "cell_type": "markdown",
   "metadata": {},
   "source": [
    "### 2. We now fetch `streets` and `crashes` and restrict them to the school walkshed areas using the `Overlay` tool"
   ]
  },
  {
   "cell_type": "code",
   "execution_count": 5,
   "metadata": {},
   "outputs": [],
   "source": [
    "streets_item = gis.content.get(streets_itemid)\n",
    "crashes_item = gis.content.get(crashes_itemid)"
   ]
  },
  {
   "cell_type": "code",
   "execution_count": 6,
   "metadata": {},
   "outputs": [
    {
     "data": {
      "text/html": [
       "<div class=\"item_container\" style=\"height: auto; overflow: hidden; border: 1px solid #cfcfcf; border-radius: 2px; background: #f6fafa; line-height: 1.21429em; padding: 10px;\">\n",
       "                    <div class=\"item_left\" style=\"width: 210px; float: left;\">\n",
       "                       <a href='https://www.arcgis.com/home/item.html?id=7fa677fa8095468fbd8359bf69969791' target='_blank'>\n",
       "                        <img src='http://static.arcgis.com/images/desktopapp.png' class=\"itemThumbnail\">\n",
       "                       </a>\n",
       "                    </div>\n",
       "\n",
       "                    <div class=\"item_right\"     style=\"float: none; width: auto; overflow: hidden;\">\n",
       "                        <a href='https://www.arcgis.com/home/item.html?id=7fa677fa8095468fbd8359bf69969791' target='_blank'><b>Streets clipped by school SA</b>\n",
       "                        </a>\n",
       "                        <br/><img src='https://www.arcgis.com/home/js/jsapi/esri/css/images/item_type_icons/featureshosted16.png' style=\"vertical-align:middle;\">Feature Layer Collection by mmajumdar_dcdev\n",
       "                        <br/>Last Modified: September 22, 2019\n",
       "                        <br/>0 comments, 5 views\n",
       "                    </div>\n",
       "                </div>\n",
       "                "
      ],
      "text/plain": [
       "<Item title:\"Streets clipped by school SA\" type:Feature Layer Collection owner:mmajumdar_dcdev>"
      ]
     },
     "execution_count": 6,
     "metadata": {},
     "output_type": "execute_result"
    }
   ],
   "source": [
    "#Clipping streets by school service areas\n",
    "#school_streets = overlay_layers(streets_item, school_service_areas, output_type='Input', output_name='Streets clipped by school SA')\n",
    "school_streets = gis.content.get('7fa677fa8095468fbd8359bf69969791')\n",
    "school_streets"
   ]
  },
  {
   "cell_type": "code",
   "execution_count": 7,
   "metadata": {},
   "outputs": [
    {
     "data": {
      "text/html": [
       "<div class=\"item_container\" style=\"height: auto; overflow: hidden; border: 1px solid #cfcfcf; border-radius: 2px; background: #f6fafa; line-height: 1.21429em; padding: 10px;\">\n",
       "                    <div class=\"item_left\" style=\"width: 210px; float: left;\">\n",
       "                       <a href='https://www.arcgis.com/home/item.html?id=602a02c8fe6a46b5896287eb7a7220bf' target='_blank'>\n",
       "                        <img src='http://static.arcgis.com/images/desktopapp.png' class=\"itemThumbnail\">\n",
       "                       </a>\n",
       "                    </div>\n",
       "\n",
       "                    <div class=\"item_right\"     style=\"float: none; width: auto; overflow: hidden;\">\n",
       "                        <a href='https://www.arcgis.com/home/item.html?id=602a02c8fe6a46b5896287eb7a7220bf' target='_blank'><b>Crashes clipped by school SA</b>\n",
       "                        </a>\n",
       "                        <br/><img src='https://www.arcgis.com/home/js/jsapi/esri/css/images/item_type_icons/featureshosted16.png' style=\"vertical-align:middle;\">Feature Layer Collection by mmajumdar_dcdev\n",
       "                        <br/>Last Modified: September 22, 2019\n",
       "                        <br/>0 comments, 2 views\n",
       "                    </div>\n",
       "                </div>\n",
       "                "
      ],
      "text/plain": [
       "<Item title:\"Crashes clipped by school SA\" type:Feature Layer Collection owner:mmajumdar_dcdev>"
      ]
     },
     "execution_count": 7,
     "metadata": {},
     "output_type": "execute_result"
    }
   ],
   "source": [
    "#Clipping crashes by school service areas\n",
    "#school_crashes = overlay_layers(crashes_item, school_service_areas, output_type='Input', output_name='Crashes clipped by school SA')\n",
    "school_crashes = gis.content.get('602a02c8fe6a46b5896287eb7a7220bf')\n",
    "school_crashes"
   ]
  },
  {
   "cell_type": "markdown",
   "metadata": {},
   "source": [
    "### 3. We now spatially join the `school_crashes` to `school_streets` to get a `JoinCount` (number of crashes reported on each street segment)"
   ]
  },
  {
   "cell_type": "code",
   "execution_count": 8,
   "metadata": {},
   "outputs": [
    {
     "data": {
      "text/html": [
       "<div class=\"item_container\" style=\"height: auto; overflow: hidden; border: 1px solid #cfcfcf; border-radius: 2px; background: #f6fafa; line-height: 1.21429em; padding: 10px;\">\n",
       "                    <div class=\"item_left\" style=\"width: 210px; float: left;\">\n",
       "                       <a href='https://www.arcgis.com/home/item.html?id=f3f59d7ca52c4ecc9178ef79bc75e518' target='_blank'>\n",
       "                        <img src='data:image/png;base64,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' width='200' height='133' class=\"itemThumbnail\">\n",
       "                       </a>\n",
       "                    </div>\n",
       "\n",
       "                    <div class=\"item_right\"     style=\"float: none; width: auto; overflow: hidden;\">\n",
       "                        <a href='https://www.arcgis.com/home/item.html?id=f3f59d7ca52c4ecc9178ef79bc75e518' target='_blank'><b>Crashes_Along_Streets1</b>\n",
       "                        </a>\n",
       "                        <br/><img src='https://www.arcgis.com/home/js/jsapi/esri/css/images/item_type_icons/featureshosted16.png' style=\"vertical-align:middle;\">Feature Layer Collection by mmajumdar_dcdev\n",
       "                        <br/>Last Modified: September 22, 2019\n",
       "                        <br/>0 comments, 7 views\n",
       "                    </div>\n",
       "                </div>\n",
       "                "
      ],
      "text/plain": [
       "<Item title:\"Crashes_Along_Streets1\" type:Feature Layer Collection owner:mmajumdar_dcdev>"
      ]
     },
     "execution_count": 8,
     "metadata": {},
     "output_type": "execute_result"
    }
   ],
   "source": [
    "#crashes_along_streets = join_features(school_streets, school_crashes, spatial_relationship='intersects', output_name='Crashes_Along_Streets1')\n",
    "crashes_along_streets = gis.content.get('f3f59d7ca52c4ecc9178ef79bc75e518')\n",
    "crashes_along_streets"
   ]
  },
  {
   "cell_type": "markdown",
   "metadata": {},
   "source": [
    "### 4. We can visualize this layer in the notebook to spot the dangerous streets, based on number of crashes. "
   ]
  },
  {
   "cell_type": "code",
   "execution_count": 12,
   "metadata": {},
   "outputs": [
    {
     "data": {
      "application/vnd.jupyter.widget-view+json": {
       "model_id": "a3319de74894456989240c24c8c7f7a1",
       "version_major": 2,
       "version_minor": 0
      },
      "text/plain": [
       "MapView(layout=Layout(height='400px', width='100%'), zoom=9.0)"
      ]
     },
     "metadata": {},
     "output_type": "display_data"
    },
    {
     "data": {
      "text/html": [
       "<div class=\"map-static-img-preview-6a64dc84-6834-4cf0-b0bf-17b6d75e8034\"><img src=\"\"></img></div>"
      ],
      "text/plain": [
       "<IPython.core.display.HTML object>"
      ]
     },
     "metadata": {},
     "output_type": "display_data"
    }
   ],
   "source": [
    "map1 = gis.map(location, zoomlevel=9)\n",
    "\n",
    "# map the schools with streets having number of crashes within the walkshed\n",
    "map1.add_layer({\"type\":\"FeatureLayer\",\n",
    "                \"url\": school_url,\n",
    "                 \"opacity\": 0.4})\n",
    "\n",
    "map1.add_layer({\"type\":\"FeatureLayer\",\n",
    "                \"url\": crashes_along_streets.url,\n",
    "                \"field_name\":\"Join_Count\",\n",
    "                \"renderer\":\"ClassedColorRenderer\",\n",
    "                \"opacity\":0.6\n",
    "               })\n",
    "\n",
    "map1"
   ]
  },
  {
   "cell_type": "markdown",
   "metadata": {},
   "source": [
    "### To customize symobology of this layer, I stylized it in AGOL to generate the follwoing map"
   ]
  },
  {
   "cell_type": "code",
   "execution_count": 11,
   "metadata": {},
   "outputs": [
    {
     "data": {
      "application/vnd.jupyter.widget-view+json": {
       "model_id": "9e325fc1d4b84fe780f8b0610805cd6e",
       "version_major": 2,
       "version_minor": 0
      },
      "text/plain": [
       "MapView(hide_mode_switch=True, layout=Layout(height='400px', width='100%'))"
      ]
     },
     "metadata": {},
     "output_type": "display_data"
    },
    {
     "data": {
      "text/html": [
       "<div class=\"map-static-img-preview-948e6f07-c8a3-412a-a133-3ed0e56bb941\"><img src=\"\"></img></div>"
      ],
      "text/plain": [
       "<IPython.core.display.HTML object>"
      ]
     },
     "metadata": {},
     "output_type": "display_data"
    }
   ],
   "source": [
    "map_item = gis.content.get('daf00315a5aa4f99b52028c869bfef46')\n",
    "from arcgis.mapping import WebMap\n",
    "WebMap(map_item)"
   ]
  },
  {
   "cell_type": "markdown",
   "metadata": {},
   "source": [
    "### This analysis could be extended to any applicable `measure-place/boundary-service_area_place` combination. For instance:\n",
    "\n",
    "1. Most dangerous (crime/crashes) bikelanes around entry/exit-points-of-parks\n",
    "2. Restaurants with most/severe violations along streets around workplaces\n",
    "3. Service requests involving health complaints in neighborhoods including factories or industrial facilities"
   ]
  },
  {
   "cell_type": "code",
   "execution_count": null,
   "metadata": {},
   "outputs": [],
   "source": []
  }
 ],
 "metadata": {
  "esriNotebookRuntime": {
   "notebookRuntimeName": "ArcGIS Notebook Python 3 Advanced",
   "notebookRuntimeVersion": "10.7.1"
  },
  "kernelspec": {
   "display_name": "Python 3",
   "language": "python",
   "name": "python3"
  },
  "language_info": {
   "codemirror_mode": {
    "name": "ipython",
    "version": 3
   },
   "file_extension": ".py",
   "mimetype": "text/x-python",
   "name": "python",
   "nbconvert_exporter": "python",
   "pygments_lexer": "ipython3",
   "version": "3.6.8"
  }
 },
 "nbformat": 4,
 "nbformat_minor": 2
}
