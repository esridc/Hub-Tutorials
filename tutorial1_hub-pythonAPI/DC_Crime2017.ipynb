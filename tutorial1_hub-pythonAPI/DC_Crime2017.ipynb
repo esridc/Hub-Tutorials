{
 "cells": [
  {
   "cell_type": "code",
   "execution_count": 1,
   "metadata": {},
   "outputs": [],
   "source": [
    "from arcgis.features import *\n",
    "import arcgis"
   ]
  },
  {
   "cell_type": "code",
   "execution_count": 2,
   "metadata": {},
   "outputs": [
    {
     "data": {
      "text/html": [
       "<div>\n",
       "<style>\n",
       "    .dataframe thead tr:only-child th {\n",
       "        text-align: right;\n",
       "    }\n",
       "\n",
       "    .dataframe thead th {\n",
       "        text-align: left;\n",
       "    }\n",
       "\n",
       "    .dataframe tbody tr th {\n",
       "        vertical-align: top;\n",
       "    }\n",
       "</style>\n",
       "<table border=\"1\" class=\"dataframe\">\n",
       "  <thead>\n",
       "    <tr style=\"text-align: right;\">\n",
       "      <th></th>\n",
       "      <th>ANC</th>\n",
       "      <th>BID</th>\n",
       "      <th>BLOCK</th>\n",
       "      <th>BLOCK_GROUP</th>\n",
       "      <th>CCN</th>\n",
       "      <th>CENSUS_TRACT</th>\n",
       "      <th>DISTRICT</th>\n",
       "      <th>END_DATE</th>\n",
       "      <th>LATITUDE</th>\n",
       "      <th>LONGITUDE</th>\n",
       "      <th>...</th>\n",
       "      <th>OFFENSE</th>\n",
       "      <th>PSA</th>\n",
       "      <th>REPORT_DAT</th>\n",
       "      <th>SHIFT</th>\n",
       "      <th>START_DATE</th>\n",
       "      <th>VOTING_PRECINCT</th>\n",
       "      <th>WARD</th>\n",
       "      <th>XBLOCK</th>\n",
       "      <th>YBLOCK</th>\n",
       "      <th>SHAPE</th>\n",
       "    </tr>\n",
       "  </thead>\n",
       "  <tbody>\n",
       "    <tr>\n",
       "      <th>0</th>\n",
       "      <td>2B</td>\n",
       "      <td>None</td>\n",
       "      <td>1400 - 1499 BLOCK OF T STREET NW</td>\n",
       "      <td>004300 2</td>\n",
       "      <td>17215515</td>\n",
       "      <td>004300</td>\n",
       "      <td>3</td>\n",
       "      <td>1.513322e+12</td>\n",
       "      <td>38.915568</td>\n",
       "      <td>-77.033255</td>\n",
       "      <td>...</td>\n",
       "      <td>THEFT F/AUTO</td>\n",
       "      <td>301</td>\n",
       "      <td>1513324167000</td>\n",
       "      <td>DAY</td>\n",
       "      <td>1513290613000</td>\n",
       "      <td>Precinct 141</td>\n",
       "      <td>2</td>\n",
       "      <td>397116</td>\n",
       "      <td>138634</td>\n",
       "      <td>{'x': 397116, 'y': 138634}</td>\n",
       "    </tr>\n",
       "    <tr>\n",
       "      <th>1</th>\n",
       "      <td>2B</td>\n",
       "      <td>None</td>\n",
       "      <td>1400 - 1499 BLOCK OF 15TH STREET NW</td>\n",
       "      <td>005201 2</td>\n",
       "      <td>17215530</td>\n",
       "      <td>005201</td>\n",
       "      <td>2</td>\n",
       "      <td>1.513324e+12</td>\n",
       "      <td>38.909172</td>\n",
       "      <td>-77.034566</td>\n",
       "      <td>...</td>\n",
       "      <td>THEFT F/AUTO</td>\n",
       "      <td>208</td>\n",
       "      <td>1513327286000</td>\n",
       "      <td>DAY</td>\n",
       "      <td>1513278014000</td>\n",
       "      <td>Precinct 16</td>\n",
       "      <td>2</td>\n",
       "      <td>397002</td>\n",
       "      <td>137924</td>\n",
       "      <td>{'x': 397002, 'y': 137924}</td>\n",
       "    </tr>\n",
       "    <tr>\n",
       "      <th>2</th>\n",
       "      <td>5E</td>\n",
       "      <td>None</td>\n",
       "      <td>600 - 699 BLOCK OF MONROE STREET NE</td>\n",
       "      <td>009201 1</td>\n",
       "      <td>17215542</td>\n",
       "      <td>009201</td>\n",
       "      <td>5</td>\n",
       "      <td>1.513333e+12</td>\n",
       "      <td>38.932355</td>\n",
       "      <td>-76.997105</td>\n",
       "      <td>...</td>\n",
       "      <td>THEFT F/AUTO</td>\n",
       "      <td>502</td>\n",
       "      <td>1513374948000</td>\n",
       "      <td>EVENING</td>\n",
       "      <td>1513324244000</td>\n",
       "      <td>Precinct 74</td>\n",
       "      <td>5</td>\n",
       "      <td>400251</td>\n",
       "      <td>140497</td>\n",
       "      <td>{'x': 400251, 'y': 140497}</td>\n",
       "    </tr>\n",
       "    <tr>\n",
       "      <th>3</th>\n",
       "      <td>7D</td>\n",
       "      <td>None</td>\n",
       "      <td>4400 4499  BLOCK OF BENNING ROAD NE</td>\n",
       "      <td>009603 1</td>\n",
       "      <td>17215546</td>\n",
       "      <td>009603</td>\n",
       "      <td>6</td>\n",
       "      <td>NaN</td>\n",
       "      <td>38.891117</td>\n",
       "      <td>-76.938597</td>\n",
       "      <td>...</td>\n",
       "      <td>BURGLARY</td>\n",
       "      <td>608</td>\n",
       "      <td>1513329916000</td>\n",
       "      <td>DAY</td>\n",
       "      <td>1513325326000</td>\n",
       "      <td>Precinct 102</td>\n",
       "      <td>7</td>\n",
       "      <td>405327</td>\n",
       "      <td>135921</td>\n",
       "      <td>{'x': 405327, 'y': 135921}</td>\n",
       "    </tr>\n",
       "    <tr>\n",
       "      <th>4</th>\n",
       "      <td>4B</td>\n",
       "      <td>None</td>\n",
       "      <td>100  - 199 BLOCK OF CARROLL STREET NW</td>\n",
       "      <td>001702 2</td>\n",
       "      <td>17215575</td>\n",
       "      <td>001702</td>\n",
       "      <td>4</td>\n",
       "      <td>NaN</td>\n",
       "      <td>38.974837</td>\n",
       "      <td>-77.014333</td>\n",
       "      <td>...</td>\n",
       "      <td>THEFT/OTHER</td>\n",
       "      <td>401</td>\n",
       "      <td>1513332640000</td>\n",
       "      <td>DAY</td>\n",
       "      <td>1513330670000</td>\n",
       "      <td>Precinct 63</td>\n",
       "      <td>4</td>\n",
       "      <td>398758</td>\n",
       "      <td>145213</td>\n",
       "      <td>{'x': 398758, 'y': 145213}</td>\n",
       "    </tr>\n",
       "  </tbody>\n",
       "</table>\n",
       "<p>5 rows × 23 columns</p>\n",
       "</div>"
      ],
      "text/plain": [
       "  ANC   BID                                  BLOCK BLOCK_GROUP       CCN  \\\n",
       "0  2B  None       1400 - 1499 BLOCK OF T STREET NW    004300 2  17215515   \n",
       "1  2B  None    1400 - 1499 BLOCK OF 15TH STREET NW    005201 2  17215530   \n",
       "2  5E  None    600 - 699 BLOCK OF MONROE STREET NE    009201 1  17215542   \n",
       "3  7D  None    4400 4499  BLOCK OF BENNING ROAD NE    009603 1  17215546   \n",
       "4  4B  None  100  - 199 BLOCK OF CARROLL STREET NW    001702 2  17215575   \n",
       "\n",
       "  CENSUS_TRACT DISTRICT      END_DATE   LATITUDE  LONGITUDE  \\\n",
       "0       004300        3  1.513322e+12  38.915568 -77.033255   \n",
       "1       005201        2  1.513324e+12  38.909172 -77.034566   \n",
       "2       009201        5  1.513333e+12  38.932355 -76.997105   \n",
       "3       009603        6           NaN  38.891117 -76.938597   \n",
       "4       001702        4           NaN  38.974837 -77.014333   \n",
       "\n",
       "              ...                   OFFENSE  PSA     REPORT_DAT    SHIFT  \\\n",
       "0             ...              THEFT F/AUTO  301  1513324167000      DAY   \n",
       "1             ...              THEFT F/AUTO  208  1513327286000      DAY   \n",
       "2             ...              THEFT F/AUTO  502  1513374948000  EVENING   \n",
       "3             ...                  BURGLARY  608  1513329916000      DAY   \n",
       "4             ...               THEFT/OTHER  401  1513332640000      DAY   \n",
       "\n",
       "      START_DATE  VOTING_PRECINCT WARD  XBLOCK  YBLOCK  \\\n",
       "0  1513290613000     Precinct 141    2  397116  138634   \n",
       "1  1513278014000      Precinct 16    2  397002  137924   \n",
       "2  1513324244000      Precinct 74    5  400251  140497   \n",
       "3  1513325326000     Precinct 102    7  405327  135921   \n",
       "4  1513330670000      Precinct 63    4  398758  145213   \n",
       "\n",
       "                        SHAPE  \n",
       "0  {'x': 397116, 'y': 138634}  \n",
       "1  {'x': 397002, 'y': 137924}  \n",
       "2  {'x': 400251, 'y': 140497}  \n",
       "3  {'x': 405327, 'y': 135921}  \n",
       "4  {'x': 398758, 'y': 145213}  \n",
       "\n",
       "[5 rows x 23 columns]"
      ]
     },
     "execution_count": 2,
     "metadata": {},
     "output_type": "execute_result"
    }
   ],
   "source": [
    "lyr_url = 'https://maps2.dcgis.dc.gov/dcgis/rest/services/FEEDS/MPD/MapServer/38'\n",
    "crime_layer = FeatureLayer(lyr_url)\n",
    "all_features = crime_layer.query()\n",
    "crime = all_features.df\n",
    "crime.head()"
   ]
  },
  {
   "cell_type": "markdown",
   "metadata": {},
   "source": [
    "### Total crime incidents in 2017"
   ]
  },
  {
   "cell_type": "code",
   "execution_count": 3,
   "metadata": {},
   "outputs": [
    {
     "name": "stdout",
     "output_type": "stream",
     "text": [
      "33068\n"
     ]
    }
   ],
   "source": [
    "print(crime.shape[0])"
   ]
  },
  {
   "cell_type": "markdown",
   "metadata": {},
   "source": [
    "### Crime per capita in DC"
   ]
  },
  {
   "cell_type": "code",
   "execution_count": 4,
   "metadata": {},
   "outputs": [
    {
     "name": "stdout",
     "output_type": "stream",
     "text": [
      "Crimes per 100 people in DC\n",
      "4.765033747759276\n"
     ]
    }
   ],
   "source": [
    "dc_2017_population = 693972 #source-us census\n",
    "print('Crimes per 100 people in DC')\n",
    "print(crime.shape[0] * 100 / dc_2017_population)"
   ]
  },
  {
   "cell_type": "markdown",
   "metadata": {},
   "source": [
    "### Bar chart for frequency of crime based on crime type"
   ]
  },
  {
   "cell_type": "code",
   "execution_count": 8,
   "metadata": {},
   "outputs": [],
   "source": [
    "import matplotlib.pyplot as plt\n",
    "import seaborn as sns\n",
    "\n",
    "sns.set(color_codes=True)\n",
    "%matplotlib inline"
   ]
  },
  {
   "cell_type": "code",
   "execution_count": 6,
   "metadata": {},
   "outputs": [
    {
     "name": "stdout",
     "output_type": "stream",
     "text": [
      "THEFT/OTHER                   14441\n",
      "THEFT F/AUTO                  10257\n",
      "MOTOR VEHICLE THEFT            2407\n",
      "ROBBERY                        2168\n",
      "ASSAULT W/DANGEROUS WEAPON     1855\n",
      "BURGLARY                       1529\n",
      "SEX ABUSE                       291\n",
      "HOMICIDE                        115\n",
      "ARSON                             5\n",
      "Name: OFFENSE, dtype: int64\n"
     ]
    }
   ],
   "source": [
    "#Frequency calculation of each crime type\n",
    "counts = crime['OFFENSE'].value_counts()\n",
    "print(counts)"
   ]
  },
  {
   "cell_type": "code",
   "execution_count": 9,
   "metadata": {},
   "outputs": [
    {
     "data": {
      "text/plain": [
       "Text(0.5,1,'Types of crime based on frequency of occurence')"
      ]
     },
     "execution_count": 9,
     "metadata": {},
     "output_type": "execute_result"
    },
    {
     "data": {
      "image/png": "[encoded data removed]",
      "text/plain": [
       "<matplotlib.figure.Figure at 0x26b8c1a3240>"
      ]
     },
     "metadata": {},
     "output_type": "display_data"
    }
   ],
   "source": [
    "#Generates bar graph\n",
    "ax = counts.plot(kind='barh', figsize=(10, 10), legend=True, fontsize=12, color='green')\n",
    "\n",
    "#X axis text and display style of categories\n",
    "ax.set_xlabel(\"Count\", fontsize=12)\n",
    "#plt.xticks(rotation=45)\n",
    "\n",
    "#Y axis text\n",
    "ax.set_ylabel(\"Offense Type\", fontsize=12)\n",
    "\n",
    "#Title\n",
    "ax.set_title(\"Types of crime based on frequency of occurence\", fontsize=20)"
   ]
  },
  {
   "cell_type": "markdown",
   "metadata": {},
   "source": [
    "### Pie chart for day/night crime"
   ]
  },
  {
   "cell_type": "code",
   "execution_count": 10,
   "metadata": {},
   "outputs": [
    {
     "name": "stdout",
     "output_type": "stream",
     "text": [
      "['DAY', 'EVENING', 'MIDNIGHT']\n"
     ]
    }
   ],
   "source": [
    "#Getting unique values for shift\n",
    "types = list(crime['SHIFT'].unique())\n",
    "print(types)"
   ]
  },
  {
   "cell_type": "code",
   "execution_count": 11,
   "metadata": {},
   "outputs": [
    {
     "name": "stdout",
     "output_type": "stream",
     "text": [
      "EVENING     13994\n",
      "DAY         12183\n",
      "MIDNIGHT     6891\n",
      "Name: SHIFT, dtype: int64\n"
     ]
    }
   ],
   "source": [
    "#Frequency calculation of each shift type\n",
    "sizes = crime['SHIFT'].value_counts()\n",
    "print(sizes)"
   ]
  },
  {
   "cell_type": "code",
   "execution_count": 12,
   "metadata": {},
   "outputs": [
    {
     "data": {
      "image/png": "[encoded data removed]",
      "text/plain": [
       "<matplotlib.figure.Figure at 0x26b8c259780>"
      ]
     },
     "metadata": {},
     "output_type": "display_data"
    }
   ],
   "source": [
    "# Data to plot\n",
    "labels = types\n",
    "colors = ['lightskyblue', 'yellowgreen', 'lightcoral']\n",
    "explode = (0.05, 0.015, 0)  # explode 1st slice\n",
    " \n",
    "# Plot\n",
    "plt.pie(sizes, explode=explode, labels=labels, colors=colors,\n",
    "        autopct='%1.2f%%', shadow=True, startangle=100)\n",
    " \n",
    "plt.axis('equal')\n",
    "plt.show()"
   ]
  },
  {
   "cell_type": "markdown",
   "metadata": {},
   "source": [
    "### Pie chart for weekday (Mon-Thurs), weekend (Fri-Sun)"
   ]
  },
  {
   "cell_type": "code",
   "execution_count": 32,
   "metadata": {},
   "outputs": [],
   "source": [
    "import datetime\n",
    "import pandas as pd"
   ]
  },
  {
   "cell_type": "code",
   "execution_count": 29,
   "metadata": {},
   "outputs": [],
   "source": [
    "def format_date(date):\n",
    "    '''Return date in M-D-Y -- H:M:S format'''\n",
    "    epoch_time = str(date)[0: 10]\n",
    "    return datetime.datetime.fromtimestamp(float(epoch_time)).strftime('%Y-%m-%d')"
   ]
  },
  {
   "cell_type": "code",
   "execution_count": 33,
   "metadata": {},
   "outputs": [
    {
     "data": {
      "text/plain": [
       "0    2017-12-15\n",
       "1    2017-12-15\n",
       "2    2017-12-15\n",
       "3    2017-12-15\n",
       "4    2017-12-15\n",
       "Name: date, dtype: object"
      ]
     },
     "execution_count": 33,
     "metadata": {},
     "output_type": "execute_result"
    }
   ],
   "source": [
    "crime['date'] = crime['REPORT_DAT'].apply(format_date)\n",
    "crime['date'] = pd.to_datetime(crime['date']).dt.date\n",
    "crime['date'].head()"
   ]
  },
  {
   "cell_type": "code",
   "execution_count": 36,
   "metadata": {},
   "outputs": [],
   "source": [
    "crime['day_of_week'] = crime['date'].apply(lambda x: x.weekday()) "
   ]
  },
  {
   "cell_type": "code",
   "execution_count": 37,
   "metadata": {},
   "outputs": [
    {
     "data": {
      "text/plain": [
       "0    4\n",
       "1    4\n",
       "2    4\n",
       "3    4\n",
       "4    4\n",
       "Name: day_of_week, dtype: int64"
      ]
     },
     "execution_count": 37,
     "metadata": {},
     "output_type": "execute_result"
    }
   ],
   "source": [
    "crime['day_of_week'].head()"
   ]
  },
  {
   "cell_type": "code",
   "execution_count": 40,
   "metadata": {},
   "outputs": [],
   "source": [
    "def week_day(num):\n",
    "    '''Return Weekday/Weekend'''\n",
    "    if num < 4:\n",
    "        return 'Weekday'\n",
    "    if num >= 4:\n",
    "        return 'Weekend'"
   ]
  },
  {
   "cell_type": "code",
   "execution_count": 41,
   "metadata": {},
   "outputs": [],
   "source": [
    "crime['day'] = crime['day_of_week'].apply(week_day)"
   ]
  },
  {
   "cell_type": "code",
   "execution_count": 42,
   "metadata": {},
   "outputs": [
    {
     "name": "stdout",
     "output_type": "stream",
     "text": [
      "['Weekend', 'Weekday']\n"
     ]
    }
   ],
   "source": [
    "#Getting unique values for day\n",
    "types = list(crime['day'].unique())\n",
    "print(types)"
   ]
  },
  {
   "cell_type": "code",
   "execution_count": 43,
   "metadata": {},
   "outputs": [
    {
     "name": "stdout",
     "output_type": "stream",
     "text": [
      "Weekday    19172\n",
      "Weekend    13896\n",
      "Name: day, dtype: int64\n"
     ]
    }
   ],
   "source": [
    "#Frequency calculation of each day type\n",
    "sizes = crime['day'].value_counts()\n",
    "print(sizes)"
   ]
  },
  {
   "cell_type": "code",
   "execution_count": 46,
   "metadata": {},
   "outputs": [
    {
     "data": {
      "image/png": "[encoded data removed]",
      "text/plain": [
       "<matplotlib.figure.Figure at 0x26b8e8f2eb8>"
      ]
     },
     "metadata": {},
     "output_type": "display_data"
    }
   ],
   "source": [
    "# Data to plot\n",
    "labels = types\n",
    "colors = ['yellow', 'yellowgreen']\n",
    "explode = (0.05, 0.015)  # explode 1st slice\n",
    " \n",
    "# Plot\n",
    "plt.pie(sizes, explode=explode, labels=labels, colors=colors,\n",
    "        autopct='%1.2f%%', shadow=True, startangle=100)\n",
    " \n",
    "plt.axis('equal')\n",
    "plt.show()"
   ]
  },
  {
   "cell_type": "markdown",
   "metadata": {},
   "source": [
    "### Histogram for crime frequency based on months"
   ]
  },
  {
   "cell_type": "code",
   "execution_count": 54,
   "metadata": {},
   "outputs": [],
   "source": [
    "def month(date):\n",
    "    '''Return month number'''\n",
    "    return str(date)[5:7]"
   ]
  },
  {
   "cell_type": "code",
   "execution_count": 55,
   "metadata": {},
   "outputs": [
    {
     "data": {
      "text/plain": [
       "0    12\n",
       "1    12\n",
       "2    12\n",
       "3    12\n",
       "4    12\n",
       "Name: month, dtype: object"
      ]
     },
     "execution_count": 55,
     "metadata": {},
     "output_type": "execute_result"
    }
   ],
   "source": [
    "crime['month'] = crime['date'].apply(month)\n",
    "crime['month'].head()"
   ]
  },
  {
   "cell_type": "code",
   "execution_count": 58,
   "metadata": {},
   "outputs": [
    {
     "data": {
      "text/plain": [
       "Text(0,0.5,'Frequency')"
      ]
     },
     "execution_count": 58,
     "metadata": {},
     "output_type": "execute_result"
    },
    {
     "data": {
      "image/png": "[encoded data removed]",
      "text/plain": [
       "<matplotlib.figure.Figure at 0x26b8eed4898>"
      ]
     },
     "metadata": {},
     "output_type": "display_data"
    }
   ],
   "source": [
    "plt.figure(figsize=(8,8))\n",
    "n, bins, patches = plt.hist(crime['month'], bins=[1,2,3,4,5,6,7,8,9,10,11,12], facecolor='blue', alpha=0.5)\n",
    "\n",
    "plt.title(\"Number of crime incidents for every month of 2017\", fontsize=16)\n",
    "plt.xlabel(\"Month (January - December)\", fontsize=16)\n",
    "plt.ylabel(\"Frequency\", fontsize=16)"
   ]
  },
  {
   "cell_type": "markdown",
   "metadata": {},
   "source": [
    "#### Actual plot should allow hovering with count as tooltip text"
   ]
  },
  {
   "cell_type": "code",
   "execution_count": null,
   "metadata": {},
   "outputs": [],
   "source": []
  }
 ],
 "metadata": {
  "kernelspec": {
   "display_name": "Python 3",
   "language": "python",
   "name": "python3"
  },
  "language_info": {
   "codemirror_mode": {
    "name": "ipython",
    "version": 3
   },
   "file_extension": ".py",
   "mimetype": "text/x-python",
   "name": "python",
   "nbconvert_exporter": "python",
   "pygments_lexer": "ipython3",
   "version": "3.6.4"
  }
 },
 "nbformat": 4,
 "nbformat_minor": 2
}
