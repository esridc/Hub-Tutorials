{
 "cells": [
  {
   "cell_type": "markdown",
   "metadata": {},
   "source": [
    "# Automating drive time analysis for opioid epidemic clinics in Oakland, MI"
   ]
  },
  {
   "cell_type": "markdown",
   "metadata": {},
   "source": [
    "The purpose of this notebook is to automate the process of performing drive time analysis for clinics of opioid epidemic treatment/prevention/both in the county of Oakland, Michigan. \n",
    "\n",
    "For more information about the process followed below, read [this](https://esri-tutorials-dcdev.opendata.arcgis.com/pages/opioid-clinic-service-area).\n",
    "\n",
    "The intent is to generate a resultant map that resembles the image below:"
   ]
  },
  {
   "cell_type": "markdown",
   "metadata": {},
   "source": [
    "![resultmap](https://user-images.githubusercontent.com/13968196/36758435-6fc665a4-1be2-11e8-96ac-cfde400ad904.PNG)"
   ]
  },
  {
   "cell_type": "markdown",
   "metadata": {},
   "source": [
    "### 1. Reading in clinics and Oakland county census block group (CBG) boundaries"
   ]
  },
  {
   "cell_type": "code",
   "execution_count": 1,
   "metadata": {
    "collapsed": true
   },
   "outputs": [],
   "source": [
    "#Import necessary packages\n",
    "from arcgis.features import *\n",
    "import arcgis"
   ]
  },
  {
   "cell_type": "code",
   "execution_count": 2,
   "metadata": {
    "collapsed": true
   },
   "outputs": [],
   "source": [
    "#Layer URLS for the Opioid Epidemic Clinics in Oakland County and Census Block Groups of Oakland County\n",
    "clinic_url = 'https://services8.arcgis.com/TWfU0bgvgUkCgHLa/arcgis/rest/services/Oakland_County_Licensed_Program_Listings/FeatureServer/0/'\n",
    "oakland_cbg = 'https://services.arcgis.com/bkrWlSKcjUDFDtgw/arcgis/rest/services/Oakland_2010_census_bg/FeatureServer/0/'\n",
    "\n",
    "#Extracting feature layer from the URL\n",
    "clinic_layer = FeatureLayer(clinic_url)\n",
    "oakland_layer = FeatureLayer(oakland_cbg)"
   ]
  },
  {
   "cell_type": "code",
   "execution_count": 3,
   "metadata": {},
   "outputs": [
    {
     "name": "stdout",
     "output_type": "stream",
     "text": [
      "Total number of rows in the clinic dataset: \n",
      "122\n",
      "Total number of rows in the oakland dataset: \n",
      "934\n"
     ]
    }
   ],
   "source": [
    "#Convert to FeatureSet\n",
    "clinic_features = clinic_layer.query()\n",
    "print('Total number of rows in the clinic dataset: ')\n",
    "print(len(clinic_features.features))\n",
    "\n",
    "oakland_features = oakland_layer.query()\n",
    "print('Total number of rows in the oakland dataset: ')\n",
    "print(len(oakland_features.features))"
   ]
  },
  {
   "cell_type": "code",
   "execution_count": 4,
   "metadata": {},
   "outputs": [
    {
     "data": {
      "text/html": [
       "<div>\n",
       "<style>\n",
       "    .dataframe thead tr:only-child th {\n",
       "        text-align: right;\n",
       "    }\n",
       "\n",
       "    .dataframe thead th {\n",
       "        text-align: left;\n",
       "    }\n",
       "\n",
       "    .dataframe tbody tr th {\n",
       "        vertical-align: top;\n",
       "    }\n",
       "</style>\n",
       "<table border=\"1\" class=\"dataframe\">\n",
       "  <thead>\n",
       "    <tr style=\"text-align: right;\">\n",
       "      <th></th>\n",
       "      <th>Address</th>\n",
       "      <th>City</th>\n",
       "      <th>Contact_Name</th>\n",
       "      <th>FID</th>\n",
       "      <th>Key_</th>\n",
       "      <th>LicenseNumber</th>\n",
       "      <th>Name</th>\n",
       "      <th>Phone_Number</th>\n",
       "      <th>State</th>\n",
       "      <th>Type</th>\n",
       "      <th>Zip</th>\n",
       "      <th>SHAPE</th>\n",
       "    </tr>\n",
       "  </thead>\n",
       "  <tbody>\n",
       "    <tr>\n",
       "      <th>0</th>\n",
       "      <td>989 University Dr., Ste. 108</td>\n",
       "      <td>Pontiac</td>\n",
       "      <td>Dr. Carmen Cardona, Program Director</td>\n",
       "      <td>1</td>\n",
       "      <td>Case Management; Integrated Treatment;  Outpa...</td>\n",
       "      <td># SA0631356</td>\n",
       "      <td>SUNRISE TREATMENT CENTER</td>\n",
       "      <td>248-481-2531</td>\n",
       "      <td>MI</td>\n",
       "      <td>Treatment</td>\n",
       "      <td>48342</td>\n",
       "      <td>{'x': -9268869.4566, 'y': 5259550.238600001, '...</td>\n",
       "    </tr>\n",
       "    <tr>\n",
       "      <th>1</th>\n",
       "      <td>4120 W. Maple Rd., Ste. 201</td>\n",
       "      <td>Bloomfield Hills</td>\n",
       "      <td>Stacy Gutowsky, Program Director</td>\n",
       "      <td>2</td>\n",
       "      <td>Alcohol Hwy Safety Education; Community Change...</td>\n",
       "      <td># SA0631330</td>\n",
       "      <td>EIP, INC. (Education Intervention Programs)</td>\n",
       "      <td>248-693-0336</td>\n",
       "      <td>MI</td>\n",
       "      <td>Prevention</td>\n",
       "      <td>48301</td>\n",
       "      <td>{'x': -9271532.8795, 'y': 5242995.079599999, '...</td>\n",
       "    </tr>\n",
       "    <tr>\n",
       "      <th>2</th>\n",
       "      <td>3283 Bloomfield Park Dr</td>\n",
       "      <td>West Bloomfield</td>\n",
       "      <td>Karen Fraiberg, Program Director</td>\n",
       "      <td>3</td>\n",
       "      <td>Case Management; Community Change, Alternative...</td>\n",
       "      <td># SA0631364</td>\n",
       "      <td>THE ART OF HOPE, HEALING &amp; HAPPINESS</td>\n",
       "      <td>248-229-4717</td>\n",
       "      <td>MI</td>\n",
       "      <td>Both</td>\n",
       "      <td>48323</td>\n",
       "      <td>{'x': -9278211.6833, 'y': 5246510.740000002, '...</td>\n",
       "    </tr>\n",
       "    <tr>\n",
       "      <th>3</th>\n",
       "      <td>2710 W. 12 Mile Rd.</td>\n",
       "      <td>Berkley</td>\n",
       "      <td>Kathy Smaller, Program Director</td>\n",
       "      <td>4</td>\n",
       "      <td>Case Management; Early Intervention; Integrate...</td>\n",
       "      <td># SA0631165</td>\n",
       "      <td>RECOVERY CONSULTANTS, INC.</td>\n",
       "      <td>248-543-1090</td>\n",
       "      <td>MI</td>\n",
       "      <td>Treatment</td>\n",
       "      <td>48072</td>\n",
       "      <td>{'x': -9260261.7618, 'y': 5236694.745800003, '...</td>\n",
       "    </tr>\n",
       "    <tr>\n",
       "      <th>4</th>\n",
       "      <td>3139 W. Huron St. Waterford, MI 48328</td>\n",
       "      <td>Waterford</td>\n",
       "      <td>Kathy Smaller, Program Director</td>\n",
       "      <td>5</td>\n",
       "      <td>Case Management; Early Intervention; Integrate...</td>\n",
       "      <td># SA0631166</td>\n",
       "      <td>RECOVERY CONSULTANTS, INC.</td>\n",
       "      <td>248-738-8400</td>\n",
       "      <td>MI</td>\n",
       "      <td>Treatment</td>\n",
       "      <td>48328</td>\n",
       "      <td>{'x': -9278492.0901, 'y': 5256952.089100003, '...</td>\n",
       "    </tr>\n",
       "  </tbody>\n",
       "</table>\n",
       "</div>"
      ],
      "text/plain": [
       "                                 Address              City  \\\n",
       "0           989 University Dr., Ste. 108           Pontiac   \n",
       "1           4120 W. Maple Rd., Ste. 201   Bloomfield Hills   \n",
       "2                3283 Bloomfield Park Dr   West Bloomfield   \n",
       "3                    2710 W. 12 Mile Rd.           Berkley   \n",
       "4  3139 W. Huron St. Waterford, MI 48328         Waterford   \n",
       "\n",
       "                           Contact_Name  FID  \\\n",
       "0  Dr. Carmen Cardona, Program Director    1   \n",
       "1      Stacy Gutowsky, Program Director    2   \n",
       "2      Karen Fraiberg, Program Director    3   \n",
       "3       Kathy Smaller, Program Director    4   \n",
       "4       Kathy Smaller, Program Director    5   \n",
       "\n",
       "                                                Key_  \\\n",
       "0   Case Management; Integrated Treatment;  Outpa...   \n",
       "1  Alcohol Hwy Safety Education; Community Change...   \n",
       "2  Case Management; Community Change, Alternative...   \n",
       "3  Case Management; Early Intervention; Integrate...   \n",
       "4  Case Management; Early Intervention; Integrate...   \n",
       "\n",
       "                  LicenseNumber                                         Name  \\\n",
       "0    # SA0631356                                    SUNRISE TREATMENT CENTER   \n",
       "1    # SA0631330                 EIP, INC. (Education Intervention Programs)   \n",
       "2  # SA0631364                          THE ART OF HOPE, HEALING & HAPPINESS   \n",
       "3  # SA0631165                                    RECOVERY CONSULTANTS, INC.   \n",
       "4   # SA0631166                                   RECOVERY CONSULTANTS, INC.   \n",
       "\n",
       "   Phone_Number State        Type    Zip  \\\n",
       "0  248-481-2531    MI   Treatment  48342   \n",
       "1  248-693-0336    MI  Prevention  48301   \n",
       "2  248-229-4717    MI        Both  48323   \n",
       "3  248-543-1090    MI   Treatment  48072   \n",
       "4  248-738-8400    MI   Treatment  48328   \n",
       "\n",
       "                                               SHAPE  \n",
       "0  {'x': -9268869.4566, 'y': 5259550.238600001, '...  \n",
       "1  {'x': -9271532.8795, 'y': 5242995.079599999, '...  \n",
       "2  {'x': -9278211.6833, 'y': 5246510.740000002, '...  \n",
       "3  {'x': -9260261.7618, 'y': 5236694.745800003, '...  \n",
       "4  {'x': -9278492.0901, 'y': 5256952.089100003, '...  "
      ]
     },
     "execution_count": 4,
     "metadata": {},
     "output_type": "execute_result"
    }
   ],
   "source": [
    "#Converting to type SpatialDataFrame\n",
    "clinic = clinic_features.df\n",
    "clinic.head()"
   ]
  },
  {
   "cell_type": "code",
   "execution_count": 5,
   "metadata": {},
   "outputs": [
    {
     "data": {
      "text/html": [
       "<div>\n",
       "<style>\n",
       "    .dataframe thead tr:only-child th {\n",
       "        text-align: right;\n",
       "    }\n",
       "\n",
       "    .dataframe thead th {\n",
       "        text-align: left;\n",
       "    }\n",
       "\n",
       "    .dataframe tbody tr th {\n",
       "        vertical-align: top;\n",
       "    }\n",
       "</style>\n",
       "<table border=\"1\" class=\"dataframe\">\n",
       "  <thead>\n",
       "    <tr style=\"text-align: right;\">\n",
       "      <th></th>\n",
       "      <th>ACRES</th>\n",
       "      <th>CNTY_CODE</th>\n",
       "      <th>FID</th>\n",
       "      <th>LABEL</th>\n",
       "      <th>LAYOUT</th>\n",
       "      <th>LINK</th>\n",
       "      <th>NAME</th>\n",
       "      <th>PENINSULA</th>\n",
       "      <th>SQKM</th>\n",
       "      <th>SQMILES</th>\n",
       "      <th>Shape__Area</th>\n",
       "      <th>Shape__Length</th>\n",
       "      <th>TYPE</th>\n",
       "      <th>VER</th>\n",
       "      <th>SHAPE</th>\n",
       "    </tr>\n",
       "  </thead>\n",
       "  <tbody>\n",
       "    <tr>\n",
       "      <th>0</th>\n",
       "      <td>4075.858559</td>\n",
       "      <td>125</td>\n",
       "      <td>1</td>\n",
       "      <td>BG 1</td>\n",
       "      <td>portrait</td>\n",
       "      <td>1251200001</td>\n",
       "      <td>1200001</td>\n",
       "      <td>lower</td>\n",
       "      <td>16.494592</td>\n",
       "      <td>6.368568</td>\n",
       "      <td>3.073481e+07</td>\n",
       "      <td>22611.540412</td>\n",
       "      <td>BG</td>\n",
       "      <td>14a</td>\n",
       "      <td>{'rings': [[[-9250818.94177608, 5289778.006450...</td>\n",
       "    </tr>\n",
       "    <tr>\n",
       "      <th>1</th>\n",
       "      <td>8797.887541</td>\n",
       "      <td>125</td>\n",
       "      <td>2</td>\n",
       "      <td>BG 1</td>\n",
       "      <td>portrait</td>\n",
       "      <td>1251203001</td>\n",
       "      <td>1203001</td>\n",
       "      <td>lower</td>\n",
       "      <td>35.604171</td>\n",
       "      <td>13.746784</td>\n",
       "      <td>6.633129e+07</td>\n",
       "      <td>35417.658796</td>\n",
       "      <td>BG</td>\n",
       "      <td>14a</td>\n",
       "      <td>{'rings': [[[-9264026.53064651, 5290079.339554...</td>\n",
       "    </tr>\n",
       "    <tr>\n",
       "      <th>2</th>\n",
       "      <td>6693.987915</td>\n",
       "      <td>125</td>\n",
       "      <td>3</td>\n",
       "      <td>BG 1</td>\n",
       "      <td>landscape</td>\n",
       "      <td>1251210001</td>\n",
       "      <td>1210001</td>\n",
       "      <td>lower</td>\n",
       "      <td>27.089900</td>\n",
       "      <td>10.459421</td>\n",
       "      <td>5.047787e+07</td>\n",
       "      <td>29332.713639</td>\n",
       "      <td>BG</td>\n",
       "      <td>14a</td>\n",
       "      <td>{'rings': [[[-9270503.93750677, 5288614.193867...</td>\n",
       "    </tr>\n",
       "    <tr>\n",
       "      <th>3</th>\n",
       "      <td>5399.750207</td>\n",
       "      <td>125</td>\n",
       "      <td>4</td>\n",
       "      <td>BG 1</td>\n",
       "      <td>portrait</td>\n",
       "      <td>1251214001</td>\n",
       "      <td>1214001</td>\n",
       "      <td>lower</td>\n",
       "      <td>21.852249</td>\n",
       "      <td>8.437162</td>\n",
       "      <td>4.070574e+07</td>\n",
       "      <td>29772.396132</td>\n",
       "      <td>BG</td>\n",
       "      <td>14a</td>\n",
       "      <td>{'rings': [[[-9269511.1796278, 5286236.4642479...</td>\n",
       "    </tr>\n",
       "    <tr>\n",
       "      <th>4</th>\n",
       "      <td>3719.286317</td>\n",
       "      <td>125</td>\n",
       "      <td>5</td>\n",
       "      <td>BG 2</td>\n",
       "      <td>portrait</td>\n",
       "      <td>1251222002</td>\n",
       "      <td>1222002</td>\n",
       "      <td>lower</td>\n",
       "      <td>15.051580</td>\n",
       "      <td>5.811421</td>\n",
       "      <td>2.804448e+07</td>\n",
       "      <td>23245.466116</td>\n",
       "      <td>BG</td>\n",
       "      <td>14a</td>\n",
       "      <td>{'rings': [[[-9281344.03654134, 5290365.890503...</td>\n",
       "    </tr>\n",
       "  </tbody>\n",
       "</table>\n",
       "</div>"
      ],
      "text/plain": [
       "         ACRES CNTY_CODE  FID LABEL     LAYOUT        LINK     NAME PENINSULA  \\\n",
       "0  4075.858559       125    1  BG 1   portrait  1251200001  1200001     lower   \n",
       "1  8797.887541       125    2  BG 1   portrait  1251203001  1203001     lower   \n",
       "2  6693.987915       125    3  BG 1  landscape  1251210001  1210001     lower   \n",
       "3  5399.750207       125    4  BG 1   portrait  1251214001  1214001     lower   \n",
       "4  3719.286317       125    5  BG 2   portrait  1251222002  1222002     lower   \n",
       "\n",
       "        SQKM    SQMILES   Shape__Area  Shape__Length TYPE  VER  \\\n",
       "0  16.494592   6.368568  3.073481e+07   22611.540412   BG  14a   \n",
       "1  35.604171  13.746784  6.633129e+07   35417.658796   BG  14a   \n",
       "2  27.089900  10.459421  5.047787e+07   29332.713639   BG  14a   \n",
       "3  21.852249   8.437162  4.070574e+07   29772.396132   BG  14a   \n",
       "4  15.051580   5.811421  2.804448e+07   23245.466116   BG  14a   \n",
       "\n",
       "                                               SHAPE  \n",
       "0  {'rings': [[[-9250818.94177608, 5289778.006450...  \n",
       "1  {'rings': [[[-9264026.53064651, 5290079.339554...  \n",
       "2  {'rings': [[[-9270503.93750677, 5288614.193867...  \n",
       "3  {'rings': [[[-9269511.1796278, 5286236.4642479...  \n",
       "4  {'rings': [[[-9281344.03654134, 5290365.890503...  "
      ]
     },
     "execution_count": 5,
     "metadata": {},
     "output_type": "execute_result"
    }
   ],
   "source": [
    "#Converting to type SpatialDataFrame\n",
    "oakland = oakland_features.df\n",
    "oakland.head()"
   ]
  },
  {
   "cell_type": "markdown",
   "metadata": {},
   "source": [
    "### 2. Drive time analysis"
   ]
  },
  {
   "cell_type": "code",
   "execution_count": 6,
   "metadata": {
    "collapsed": true
   },
   "outputs": [],
   "source": [
    "#Connecting to the GIS\n",
    "from arcgis.gis import GIS\n",
    "gis = GIS('http://dcdev.maps.arcgis.com/', 'username', 'password')"
   ]
  },
  {
   "cell_type": "markdown",
   "metadata": {},
   "source": [
    "Service areas around the clinics need to be generated twice for two different sets of drive time inputs:\n",
    "\n",
    "> 1. __`[5, 10, 15, 20, 25]`__ that is needed to get the drive time required from each CBG to the closest clinic\n",
    "> 2. __`[5]`__ that is needed piurely for visualization purposes"
   ]
  },
  {
   "cell_type": "markdown",
   "metadata": {},
   "source": [
    "#### Service area generation for the [5, 10, 15, 20, 25] minutes layer"
   ]
  },
  {
   "cell_type": "code",
   "execution_count": 7,
   "metadata": {
    "collapsed": true
   },
   "outputs": [],
   "source": [
    "#Generating service areas\n",
    "result = arcgis.features.use_proximity.create_drive_time_areas(clinic_url, [5, 10, 15, 20, 25], output_name=\"DriveTimeToClinics_All\", overlap_policy='Dissolve')"
   ]
  },
  {
   "cell_type": "code",
   "execution_count": 8,
   "metadata": {},
   "outputs": [
    {
     "data": {
      "text/plain": [
       "arcgis.gis.Item"
      ]
     },
     "execution_count": 8,
     "metadata": {},
     "output_type": "execute_result"
    }
   ],
   "source": [
    "#Checking type of result\n",
    "type(result)"
   ]
  },
  {
   "cell_type": "code",
   "execution_count": 9,
   "metadata": {},
   "outputs": [
    {
     "data": {
      "text/plain": [
       "{'itemId': 'cc84f0018beb41efbc44b28e6ea41a38', 'notSharedWith': []}"
      ]
     },
     "execution_count": 9,
     "metadata": {},
     "output_type": "execute_result"
    }
   ],
   "source": [
    "#Granting 'result' public access\n",
    "result.share(everyone=True)"
   ]
  },
  {
   "cell_type": "code",
   "execution_count": 10,
   "metadata": {},
   "outputs": [
    {
     "name": "stdout",
     "output_type": "stream",
     "text": [
      "Total number of rows in the service area (upto 25 mins) dataset: \n",
      "5\n"
     ]
    }
   ],
   "source": [
    "#Converting it to a FeatureSet\n",
    "result_url = str(result.url)+'/0/'\n",
    "drive_times_all_layer = FeatureLayer(result_url)\n",
    "driveAll_features = drive_times_all_layer.query()\n",
    "print('Total number of rows in the service area (upto 25 mins) dataset: ')\n",
    "print(len(driveAll_features.features))"
   ]
  },
  {
   "cell_type": "code",
   "execution_count": 11,
   "metadata": {},
   "outputs": [
    {
     "data": {
      "text/html": [
       "<div>\n",
       "<style>\n",
       "    .dataframe thead tr:only-child th {\n",
       "        text-align: right;\n",
       "    }\n",
       "\n",
       "    .dataframe thead th {\n",
       "        text-align: left;\n",
       "    }\n",
       "\n",
       "    .dataframe tbody tr th {\n",
       "        vertical-align: top;\n",
       "    }\n",
       "</style>\n",
       "<table border=\"1\" class=\"dataframe\">\n",
       "  <thead>\n",
       "    <tr style=\"text-align: right;\">\n",
       "      <th></th>\n",
       "      <th>AnalysisArea</th>\n",
       "      <th>FacilityOID</th>\n",
       "      <th>FromBreak</th>\n",
       "      <th>Name</th>\n",
       "      <th>OBJECTID</th>\n",
       "      <th>ToBreak</th>\n",
       "      <th>SHAPE</th>\n",
       "    </tr>\n",
       "  </thead>\n",
       "  <tbody>\n",
       "    <tr>\n",
       "      <th>0</th>\n",
       "      <td>503.992431</td>\n",
       "      <td>None</td>\n",
       "      <td>20</td>\n",
       "      <td>20 - 25</td>\n",
       "      <td>1</td>\n",
       "      <td>25</td>\n",
       "      <td>{'rings': [[[-9247241.4852, 5209081.8363], [-9...</td>\n",
       "    </tr>\n",
       "    <tr>\n",
       "      <th>1</th>\n",
       "      <td>449.082348</td>\n",
       "      <td>None</td>\n",
       "      <td>15</td>\n",
       "      <td>15 - 20</td>\n",
       "      <td>2</td>\n",
       "      <td>20</td>\n",
       "      <td>{'rings': [[[-9262016.5505, 5298939.5558], [-9...</td>\n",
       "    </tr>\n",
       "    <tr>\n",
       "      <th>2</th>\n",
       "      <td>412.954912</td>\n",
       "      <td>None</td>\n",
       "      <td>10</td>\n",
       "      <td>10 - 15</td>\n",
       "      <td>3</td>\n",
       "      <td>15</td>\n",
       "      <td>{'rings': [[[-9244516.5052, 5228407.9967], [-9...</td>\n",
       "    </tr>\n",
       "    <tr>\n",
       "      <th>3</th>\n",
       "      <td>392.044252</td>\n",
       "      <td>None</td>\n",
       "      <td>5</td>\n",
       "      <td>5 - 10</td>\n",
       "      <td>4</td>\n",
       "      <td>10</td>\n",
       "      <td>{'rings': [[[-9301666.348, 5279365.8795], [-93...</td>\n",
       "    </tr>\n",
       "    <tr>\n",
       "      <th>4</th>\n",
       "      <td>332.783551</td>\n",
       "      <td>None</td>\n",
       "      <td>0</td>\n",
       "      <td>0 - 5</td>\n",
       "      <td>5</td>\n",
       "      <td>5</td>\n",
       "      <td>{'rings': [[[-9269666.4107, 5286863.1463], [-9...</td>\n",
       "    </tr>\n",
       "  </tbody>\n",
       "</table>\n",
       "</div>"
      ],
      "text/plain": [
       "   AnalysisArea FacilityOID  FromBreak     Name  OBJECTID  ToBreak  \\\n",
       "0    503.992431        None         20  20 - 25         1       25   \n",
       "1    449.082348        None         15  15 - 20         2       20   \n",
       "2    412.954912        None         10  10 - 15         3       15   \n",
       "3    392.044252        None          5   5 - 10         4       10   \n",
       "4    332.783551        None          0    0 - 5         5        5   \n",
       "\n",
       "                                               SHAPE  \n",
       "0  {'rings': [[[-9247241.4852, 5209081.8363], [-9...  \n",
       "1  {'rings': [[[-9262016.5505, 5298939.5558], [-9...  \n",
       "2  {'rings': [[[-9244516.5052, 5228407.9967], [-9...  \n",
       "3  {'rings': [[[-9301666.348, 5279365.8795], [-93...  \n",
       "4  {'rings': [[[-9269666.4107, 5286863.1463], [-9...  "
      ]
     },
     "execution_count": 11,
     "metadata": {},
     "output_type": "execute_result"
    }
   ],
   "source": [
    "#Converting it to a SpatialDataFrame\n",
    "driveAll = driveAll_features.df\n",
    "driveAll.head()"
   ]
  },
  {
   "cell_type": "markdown",
   "metadata": {},
   "source": [
    "#### Service area generation for the visible [5] minutes layer"
   ]
  },
  {
   "cell_type": "code",
   "execution_count": 12,
   "metadata": {
    "collapsed": true
   },
   "outputs": [],
   "source": [
    "#Generating service areas\n",
    "visible_result = arcgis.features.use_proximity.create_drive_time_areas(clinic_url, [5], output_name=\"DriveTimeToClinics_5mins\", overlap_policy='Dissolve')"
   ]
  },
  {
   "cell_type": "code",
   "execution_count": 13,
   "metadata": {},
   "outputs": [
    {
     "data": {
      "text/plain": [
       "{'itemId': 'b4d0dd9ad9544990aab465d8063102ab', 'notSharedWith': []}"
      ]
     },
     "execution_count": 13,
     "metadata": {},
     "output_type": "execute_result"
    }
   ],
   "source": [
    "#Granting 'visible_result' public access\n",
    "visible_result.share(everyone=True)"
   ]
  },
  {
   "cell_type": "code",
   "execution_count": 14,
   "metadata": {},
   "outputs": [
    {
     "data": {
      "text/plain": [
       "'https://services.arcgis.com/bkrWlSKcjUDFDtgw/arcgis/rest/services/DriveTimeToClinics_5mins/FeatureServer/0'"
      ]
     },
     "execution_count": 14,
     "metadata": {},
     "output_type": "execute_result"
    }
   ],
   "source": [
    "#Generating the URL for this layer (later used for visualization)\n",
    "visible_result_url = str(visible_result.url)+'/0'\n",
    "visible_result_url"
   ]
  },
  {
   "cell_type": "markdown",
   "metadata": {},
   "source": [
    "### 3. Join the `result_url` layer with `oakland_cbg` layer to obtain drive times for each census block group"
   ]
  },
  {
   "cell_type": "code",
   "execution_count": 15,
   "metadata": {
    "collapsed": true
   },
   "outputs": [],
   "source": [
    "#Performing spatial join between CBG layer and the service areas created for all time durations\n",
    "cbg_with_driveTime = arcgis.features.analysis.join_features(oakland_cbg, result_url, spatial_relationship='Intersects', output_name='Oakland_CBG_allDriveTimes')"
   ]
  },
  {
   "cell_type": "code",
   "execution_count": 16,
   "metadata": {},
   "outputs": [
    {
     "data": {
      "text/plain": [
       "{'itemId': '7b3da4f6386a426ea83608032626d55f', 'notSharedWith': []}"
      ]
     },
     "execution_count": 16,
     "metadata": {},
     "output_type": "execute_result"
    }
   ],
   "source": [
    "#Granting 'cbg_with_driveTime' public access\n",
    "cbg_with_driveTime.share(everyone=True)"
   ]
  },
  {
   "cell_type": "code",
   "execution_count": 17,
   "metadata": {},
   "outputs": [
    {
     "name": "stdout",
     "output_type": "stream",
     "text": [
      "Total number of rows in the drive time (upto 25 mins) dataset: \n",
      "934\n"
     ]
    }
   ],
   "source": [
    "#Converting it to a FeatureSet\n",
    "cbg_with_driveTime_url = str(cbg_with_driveTime.url)+'/0/'\n",
    "drive_times_cbg = FeatureLayer(cbg_with_driveTime_url)\n",
    "drive_times_features = drive_times_cbg.query()\n",
    "print('Total number of rows in the drive time (upto 25 mins) dataset: ')\n",
    "print(len(drive_times_features.features))"
   ]
  },
  {
   "cell_type": "code",
   "execution_count": 18,
   "metadata": {},
   "outputs": [
    {
     "data": {
      "text/html": [
       "<div>\n",
       "<style>\n",
       "    .dataframe thead tr:only-child th {\n",
       "        text-align: right;\n",
       "    }\n",
       "\n",
       "    .dataframe thead th {\n",
       "        text-align: left;\n",
       "    }\n",
       "\n",
       "    .dataframe tbody tr th {\n",
       "        vertical-align: top;\n",
       "    }\n",
       "</style>\n",
       "<table border=\"1\" class=\"dataframe\">\n",
       "  <thead>\n",
       "    <tr style=\"text-align: right;\">\n",
       "      <th></th>\n",
       "      <th>ACRES</th>\n",
       "      <th>AnalysisArea</th>\n",
       "      <th>CNTY_CODE</th>\n",
       "      <th>FacilityOID</th>\n",
       "      <th>FromBreak</th>\n",
       "      <th>Join_Count</th>\n",
       "      <th>LABEL</th>\n",
       "      <th>LAYOUT</th>\n",
       "      <th>LINK</th>\n",
       "      <th>NAME</th>\n",
       "      <th>...</th>\n",
       "      <th>OBJECTID</th>\n",
       "      <th>PENINSULA</th>\n",
       "      <th>SQKM</th>\n",
       "      <th>SQMILES</th>\n",
       "      <th>Shape__Area</th>\n",
       "      <th>Shape__Length</th>\n",
       "      <th>TYPE</th>\n",
       "      <th>ToBreak</th>\n",
       "      <th>VER</th>\n",
       "      <th>SHAPE</th>\n",
       "    </tr>\n",
       "  </thead>\n",
       "  <tbody>\n",
       "    <tr>\n",
       "      <th>0</th>\n",
       "      <td>4075.858559</td>\n",
       "      <td>503.992431</td>\n",
       "      <td>125</td>\n",
       "      <td>None</td>\n",
       "      <td>20</td>\n",
       "      <td>2</td>\n",
       "      <td>BG 1</td>\n",
       "      <td>portrait</td>\n",
       "      <td>1251200001</td>\n",
       "      <td>1200001</td>\n",
       "      <td>...</td>\n",
       "      <td>1</td>\n",
       "      <td>lower</td>\n",
       "      <td>16.494592</td>\n",
       "      <td>6.368568</td>\n",
       "      <td>3.073481e+07</td>\n",
       "      <td>22611.540412</td>\n",
       "      <td>BG</td>\n",
       "      <td>25</td>\n",
       "      <td>14a</td>\n",
       "      <td>{'rings': [[[-9250818.9418, 5289778.0065], [-9...</td>\n",
       "    </tr>\n",
       "    <tr>\n",
       "      <th>1</th>\n",
       "      <td>8797.887541</td>\n",
       "      <td>503.992431</td>\n",
       "      <td>125</td>\n",
       "      <td>None</td>\n",
       "      <td>20</td>\n",
       "      <td>4</td>\n",
       "      <td>BG 1</td>\n",
       "      <td>portrait</td>\n",
       "      <td>1251203001</td>\n",
       "      <td>1203001</td>\n",
       "      <td>...</td>\n",
       "      <td>2</td>\n",
       "      <td>lower</td>\n",
       "      <td>35.604171</td>\n",
       "      <td>13.746784</td>\n",
       "      <td>6.633129e+07</td>\n",
       "      <td>35417.658796</td>\n",
       "      <td>BG</td>\n",
       "      <td>25</td>\n",
       "      <td>14a</td>\n",
       "      <td>{'rings': [[[-9264026.5306, 5290079.3396], [-9...</td>\n",
       "    </tr>\n",
       "    <tr>\n",
       "      <th>2</th>\n",
       "      <td>6693.987915</td>\n",
       "      <td>449.082348</td>\n",
       "      <td>125</td>\n",
       "      <td>None</td>\n",
       "      <td>15</td>\n",
       "      <td>3</td>\n",
       "      <td>BG 1</td>\n",
       "      <td>landscape</td>\n",
       "      <td>1251210001</td>\n",
       "      <td>1210001</td>\n",
       "      <td>...</td>\n",
       "      <td>3</td>\n",
       "      <td>lower</td>\n",
       "      <td>27.089900</td>\n",
       "      <td>10.459421</td>\n",
       "      <td>5.047787e+07</td>\n",
       "      <td>29332.713639</td>\n",
       "      <td>BG</td>\n",
       "      <td>20</td>\n",
       "      <td>14a</td>\n",
       "      <td>{'rings': [[[-9270503.9375, 5288614.1939], [-9...</td>\n",
       "    </tr>\n",
       "    <tr>\n",
       "      <th>3</th>\n",
       "      <td>5399.750207</td>\n",
       "      <td>412.954912</td>\n",
       "      <td>125</td>\n",
       "      <td>None</td>\n",
       "      <td>10</td>\n",
       "      <td>3</td>\n",
       "      <td>BG 1</td>\n",
       "      <td>portrait</td>\n",
       "      <td>1251214001</td>\n",
       "      <td>1214001</td>\n",
       "      <td>...</td>\n",
       "      <td>4</td>\n",
       "      <td>lower</td>\n",
       "      <td>21.852249</td>\n",
       "      <td>8.437162</td>\n",
       "      <td>4.070574e+07</td>\n",
       "      <td>29772.396132</td>\n",
       "      <td>BG</td>\n",
       "      <td>15</td>\n",
       "      <td>14a</td>\n",
       "      <td>{'rings': [[[-9269511.1796, 5286236.4643], [-9...</td>\n",
       "    </tr>\n",
       "    <tr>\n",
       "      <th>4</th>\n",
       "      <td>3719.286317</td>\n",
       "      <td>449.082348</td>\n",
       "      <td>125</td>\n",
       "      <td>None</td>\n",
       "      <td>15</td>\n",
       "      <td>3</td>\n",
       "      <td>BG 2</td>\n",
       "      <td>portrait</td>\n",
       "      <td>1251222002</td>\n",
       "      <td>1222002</td>\n",
       "      <td>...</td>\n",
       "      <td>5</td>\n",
       "      <td>lower</td>\n",
       "      <td>15.051580</td>\n",
       "      <td>5.811421</td>\n",
       "      <td>2.804448e+07</td>\n",
       "      <td>23245.466116</td>\n",
       "      <td>BG</td>\n",
       "      <td>20</td>\n",
       "      <td>14a</td>\n",
       "      <td>{'rings': [[[-9281344.0365, 5290365.8905], [-9...</td>\n",
       "    </tr>\n",
       "  </tbody>\n",
       "</table>\n",
       "<p>5 rows × 21 columns</p>\n",
       "</div>"
      ],
      "text/plain": [
       "         ACRES  AnalysisArea CNTY_CODE FacilityOID  FromBreak  Join_Count  \\\n",
       "0  4075.858559    503.992431       125        None         20           2   \n",
       "1  8797.887541    503.992431       125        None         20           4   \n",
       "2  6693.987915    449.082348       125        None         15           3   \n",
       "3  5399.750207    412.954912       125        None         10           3   \n",
       "4  3719.286317    449.082348       125        None         15           3   \n",
       "\n",
       "  LABEL     LAYOUT        LINK     NAME  \\\n",
       "0  BG 1   portrait  1251200001  1200001   \n",
       "1  BG 1   portrait  1251203001  1203001   \n",
       "2  BG 1  landscape  1251210001  1210001   \n",
       "3  BG 1   portrait  1251214001  1214001   \n",
       "4  BG 2   portrait  1251222002  1222002   \n",
       "\n",
       "                         ...                         OBJECTID  PENINSULA  \\\n",
       "0                        ...                                1      lower   \n",
       "1                        ...                                2      lower   \n",
       "2                        ...                                3      lower   \n",
       "3                        ...                                4      lower   \n",
       "4                        ...                                5      lower   \n",
       "\n",
       "        SQKM    SQMILES   Shape__Area  Shape__Length  TYPE ToBreak  VER  \\\n",
       "0  16.494592   6.368568  3.073481e+07   22611.540412    BG      25  14a   \n",
       "1  35.604171  13.746784  6.633129e+07   35417.658796    BG      25  14a   \n",
       "2  27.089900  10.459421  5.047787e+07   29332.713639    BG      20  14a   \n",
       "3  21.852249   8.437162  4.070574e+07   29772.396132    BG      15  14a   \n",
       "4  15.051580   5.811421  2.804448e+07   23245.466116    BG      20  14a   \n",
       "\n",
       "                                               SHAPE  \n",
       "0  {'rings': [[[-9250818.9418, 5289778.0065], [-9...  \n",
       "1  {'rings': [[[-9264026.5306, 5290079.3396], [-9...  \n",
       "2  {'rings': [[[-9270503.9375, 5288614.1939], [-9...  \n",
       "3  {'rings': [[[-9269511.1796, 5286236.4643], [-9...  \n",
       "4  {'rings': [[[-9281344.0365, 5290365.8905], [-9...  \n",
       "\n",
       "[5 rows x 21 columns]"
      ]
     },
     "execution_count": 18,
     "metadata": {},
     "output_type": "execute_result"
    }
   ],
   "source": [
    "#Converting it to a SpatialDataFrame\n",
    "drive_time_cbg_df = drive_times_features.df\n",
    "drive_time_cbg_df.head()"
   ]
  },
  {
   "cell_type": "markdown",
   "metadata": {},
   "source": [
    "### 4. Enrich census block groups with suitable data"
   ]
  },
  {
   "cell_type": "markdown",
   "metadata": {},
   "source": [
    "The 3 geo-enrichment factors that we will be including in this study are:\n",
    "\n",
    "> 1. 2017 Total Population (Analysis Variable - TOTPOP_CY)\n",
    "> 2. 2017 Health Insurance (Analysis Variable - X8002_X)\n",
    "> 3. 2017 Education : Bachelor's Degree (Analysis Variable - BACHDEG_CY)"
   ]
  },
  {
   "cell_type": "code",
   "execution_count": 19,
   "metadata": {},
   "outputs": [],
   "source": [
    "#Performing data enrichment\n",
    "enriched_drive_time_cbg = arcgis.features.enrich_data.enrich_layer(drive_times_cbg, analysis_variables=['TOTPOP_CY', 'X8002_X', 'BACHDEG_CY'], output_name=\"Enriched_DriveTime_CBG\")"
   ]
  },
  {
   "cell_type": "code",
   "execution_count": 20,
   "metadata": {},
   "outputs": [
    {
     "data": {
      "text/plain": [
       "arcgis.gis.Item"
      ]
     },
     "execution_count": 20,
     "metadata": {},
     "output_type": "execute_result"
    }
   ],
   "source": [
    "#Checking type of 'enriched_drive_time_cbg'\n",
    "type(enriched_drive_time_cbg)"
   ]
  },
  {
   "cell_type": "code",
   "execution_count": 21,
   "metadata": {},
   "outputs": [
    {
     "data": {
      "text/plain": [
       "{'itemId': 'dd47f3d9754f4559b641ca946d1e2c42', 'notSharedWith': []}"
      ]
     },
     "execution_count": 21,
     "metadata": {},
     "output_type": "execute_result"
    }
   ],
   "source": [
    "#Granting 'enriched_drive_time_cbg' public access\n",
    "enriched_drive_time_cbg.share(everyone=True)"
   ]
  },
  {
   "cell_type": "code",
   "execution_count": 22,
   "metadata": {},
   "outputs": [
    {
     "name": "stdout",
     "output_type": "stream",
     "text": [
      "Total number of rows in the drive time (upto 25 mins) dataset: \n",
      "934\n"
     ]
    }
   ],
   "source": [
    "#Converting it to a Feature Set\n",
    "enriched_url = str(enriched_drive_time_cbg.url)+'/0/'\n",
    "enriched_driveTimes_layer = FeatureLayer(enriched_url)\n",
    "enriched_driveTimes_features = enriched_driveTimes_layer.query()\n",
    "print('Total number of rows in the drive time (upto 25 mins) dataset: ')\n",
    "print(len(enriched_driveTimes_features.features))"
   ]
  },
  {
   "cell_type": "code",
   "execution_count": 23,
   "metadata": {},
   "outputs": [
    {
     "data": {
      "text/html": [
       "<div>\n",
       "<style>\n",
       "    .dataframe thead tr:only-child th {\n",
       "        text-align: right;\n",
       "    }\n",
       "\n",
       "    .dataframe thead th {\n",
       "        text-align: left;\n",
       "    }\n",
       "\n",
       "    .dataframe tbody tr th {\n",
       "        vertical-align: top;\n",
       "    }\n",
       "</style>\n",
       "<table border=\"1\" class=\"dataframe\">\n",
       "  <thead>\n",
       "    <tr style=\"text-align: right;\">\n",
       "      <th></th>\n",
       "      <th>ACRES</th>\n",
       "      <th>AnalysisArea</th>\n",
       "      <th>BACHDEG_CY</th>\n",
       "      <th>CNTY_CODE</th>\n",
       "      <th>ENRICH_FID</th>\n",
       "      <th>FacilityOID</th>\n",
       "      <th>FromBreak</th>\n",
       "      <th>HasData</th>\n",
       "      <th>ID</th>\n",
       "      <th>Join_Count</th>\n",
       "      <th>...</th>\n",
       "      <th>Shape__Area</th>\n",
       "      <th>Shape__Length</th>\n",
       "      <th>TOTPOP_CY</th>\n",
       "      <th>TYPE</th>\n",
       "      <th>ToBreak</th>\n",
       "      <th>VER</th>\n",
       "      <th>X8002_X</th>\n",
       "      <th>aggregationMethod</th>\n",
       "      <th>sourceCountry</th>\n",
       "      <th>SHAPE</th>\n",
       "    </tr>\n",
       "  </thead>\n",
       "  <tbody>\n",
       "    <tr>\n",
       "      <th>0</th>\n",
       "      <td>4075.858559</td>\n",
       "      <td>503.992431</td>\n",
       "      <td>115</td>\n",
       "      <td>125</td>\n",
       "      <td>1</td>\n",
       "      <td>None</td>\n",
       "      <td>20</td>\n",
       "      <td>1</td>\n",
       "      <td>0</td>\n",
       "      <td>2</td>\n",
       "      <td>...</td>\n",
       "      <td>3.073481e+07</td>\n",
       "      <td>22611.540412</td>\n",
       "      <td>856</td>\n",
       "      <td>BG</td>\n",
       "      <td>25</td>\n",
       "      <td>14a</td>\n",
       "      <td>1616323</td>\n",
       "      <td>BlockApportionment:US.BlockGroups</td>\n",
       "      <td>US</td>\n",
       "      <td>{'rings': [[[-9250818.9418, 5289778.0065], [-9...</td>\n",
       "    </tr>\n",
       "    <tr>\n",
       "      <th>1</th>\n",
       "      <td>8797.887541</td>\n",
       "      <td>503.992431</td>\n",
       "      <td>228</td>\n",
       "      <td>125</td>\n",
       "      <td>2</td>\n",
       "      <td>None</td>\n",
       "      <td>20</td>\n",
       "      <td>1</td>\n",
       "      <td>1</td>\n",
       "      <td>4</td>\n",
       "      <td>...</td>\n",
       "      <td>6.633129e+07</td>\n",
       "      <td>35417.658796</td>\n",
       "      <td>1599</td>\n",
       "      <td>BG</td>\n",
       "      <td>25</td>\n",
       "      <td>14a</td>\n",
       "      <td>2979135</td>\n",
       "      <td>BlockApportionment:US.BlockGroups</td>\n",
       "      <td>US</td>\n",
       "      <td>{'rings': [[[-9264026.5306, 5290079.3396], [-9...</td>\n",
       "    </tr>\n",
       "    <tr>\n",
       "      <th>2</th>\n",
       "      <td>6693.987915</td>\n",
       "      <td>449.082348</td>\n",
       "      <td>66</td>\n",
       "      <td>125</td>\n",
       "      <td>3</td>\n",
       "      <td>None</td>\n",
       "      <td>15</td>\n",
       "      <td>1</td>\n",
       "      <td>2</td>\n",
       "      <td>3</td>\n",
       "      <td>...</td>\n",
       "      <td>5.047787e+07</td>\n",
       "      <td>29332.713639</td>\n",
       "      <td>649</td>\n",
       "      <td>BG</td>\n",
       "      <td>20</td>\n",
       "      <td>14a</td>\n",
       "      <td>1284444</td>\n",
       "      <td>BlockApportionment:US.BlockGroups</td>\n",
       "      <td>US</td>\n",
       "      <td>{'rings': [[[-9270503.9375, 5288614.1939], [-9...</td>\n",
       "    </tr>\n",
       "    <tr>\n",
       "      <th>3</th>\n",
       "      <td>5399.750207</td>\n",
       "      <td>412.954912</td>\n",
       "      <td>858</td>\n",
       "      <td>125</td>\n",
       "      <td>4</td>\n",
       "      <td>None</td>\n",
       "      <td>10</td>\n",
       "      <td>1</td>\n",
       "      <td>3</td>\n",
       "      <td>3</td>\n",
       "      <td>...</td>\n",
       "      <td>4.070574e+07</td>\n",
       "      <td>29772.396132</td>\n",
       "      <td>4185</td>\n",
       "      <td>BG</td>\n",
       "      <td>15</td>\n",
       "      <td>14a</td>\n",
       "      <td>8096459</td>\n",
       "      <td>BlockApportionment:US.BlockGroups</td>\n",
       "      <td>US</td>\n",
       "      <td>{'rings': [[[-9269511.1796, 5286236.4643], [-9...</td>\n",
       "    </tr>\n",
       "    <tr>\n",
       "      <th>4</th>\n",
       "      <td>3719.286317</td>\n",
       "      <td>449.082348</td>\n",
       "      <td>196</td>\n",
       "      <td>125</td>\n",
       "      <td>5</td>\n",
       "      <td>None</td>\n",
       "      <td>15</td>\n",
       "      <td>1</td>\n",
       "      <td>4</td>\n",
       "      <td>3</td>\n",
       "      <td>...</td>\n",
       "      <td>2.804448e+07</td>\n",
       "      <td>23245.466116</td>\n",
       "      <td>1686</td>\n",
       "      <td>BG</td>\n",
       "      <td>20</td>\n",
       "      <td>14a</td>\n",
       "      <td>2423423</td>\n",
       "      <td>BlockApportionment:US.BlockGroups</td>\n",
       "      <td>US</td>\n",
       "      <td>{'rings': [[[-9281344.0365, 5290365.8905], [-9...</td>\n",
       "    </tr>\n",
       "  </tbody>\n",
       "</table>\n",
       "<p>5 rows × 29 columns</p>\n",
       "</div>"
      ],
      "text/plain": [
       "         ACRES  AnalysisArea  BACHDEG_CY CNTY_CODE  ENRICH_FID FacilityOID  \\\n",
       "0  4075.858559    503.992431         115       125           1        None   \n",
       "1  8797.887541    503.992431         228       125           2        None   \n",
       "2  6693.987915    449.082348          66       125           3        None   \n",
       "3  5399.750207    412.954912         858       125           4        None   \n",
       "4  3719.286317    449.082348         196       125           5        None   \n",
       "\n",
       "   FromBreak  HasData ID  Join_Count  \\\n",
       "0         20        1  0           2   \n",
       "1         20        1  1           4   \n",
       "2         15        1  2           3   \n",
       "3         10        1  3           3   \n",
       "4         15        1  4           3   \n",
       "\n",
       "                         ...                           Shape__Area  \\\n",
       "0                        ...                          3.073481e+07   \n",
       "1                        ...                          6.633129e+07   \n",
       "2                        ...                          5.047787e+07   \n",
       "3                        ...                          4.070574e+07   \n",
       "4                        ...                          2.804448e+07   \n",
       "\n",
       "  Shape__Length TOTPOP_CY TYPE ToBreak  VER  X8002_X  \\\n",
       "0  22611.540412       856   BG      25  14a  1616323   \n",
       "1  35417.658796      1599   BG      25  14a  2979135   \n",
       "2  29332.713639       649   BG      20  14a  1284444   \n",
       "3  29772.396132      4185   BG      15  14a  8096459   \n",
       "4  23245.466116      1686   BG      20  14a  2423423   \n",
       "\n",
       "                   aggregationMethod  sourceCountry  \\\n",
       "0  BlockApportionment:US.BlockGroups             US   \n",
       "1  BlockApportionment:US.BlockGroups             US   \n",
       "2  BlockApportionment:US.BlockGroups             US   \n",
       "3  BlockApportionment:US.BlockGroups             US   \n",
       "4  BlockApportionment:US.BlockGroups             US   \n",
       "\n",
       "                                               SHAPE  \n",
       "0  {'rings': [[[-9250818.9418, 5289778.0065], [-9...  \n",
       "1  {'rings': [[[-9264026.5306, 5290079.3396], [-9...  \n",
       "2  {'rings': [[[-9270503.9375, 5288614.1939], [-9...  \n",
       "3  {'rings': [[[-9269511.1796, 5286236.4643], [-9...  \n",
       "4  {'rings': [[[-9281344.0365, 5290365.8905], [-9...  \n",
       "\n",
       "[5 rows x 29 columns]"
      ]
     },
     "execution_count": 23,
     "metadata": {},
     "output_type": "execute_result"
    }
   ],
   "source": [
    "enriched_df = enriched_driveTimes_features.df\n",
    "enriched_df.head()"
   ]
  },
  {
   "cell_type": "code",
   "execution_count": 24,
   "metadata": {},
   "outputs": [
    {
     "data": {
      "text/plain": [
       "Index(['ACRES', 'AnalysisArea', 'BACHDEG_CY', 'CNTY_CODE', 'ENRICH_FID',\n",
       "       'FacilityOID', 'FromBreak', 'HasData', 'ID', 'Join_Count', 'LABEL',\n",
       "       'LAYOUT', 'LINK', 'NAME', 'Name_1', 'OBJECTID', 'PENINSULA', 'SQKM',\n",
       "       'SQMILES', 'Shape__Area', 'Shape__Length', 'TOTPOP_CY', 'TYPE',\n",
       "       'ToBreak', 'VER', 'X8002_X', 'aggregationMethod', 'sourceCountry',\n",
       "       'SHAPE'],\n",
       "      dtype='object')"
      ]
     },
     "execution_count": 24,
     "metadata": {},
     "output_type": "execute_result"
    }
   ],
   "source": [
    "enriched_df.columns"
   ]
  },
  {
   "cell_type": "code",
   "execution_count": 25,
   "metadata": {},
   "outputs": [
    {
     "data": {
      "text/plain": [
       "'https://services.arcgis.com/bkrWlSKcjUDFDtgw/arcgis/rest/services/Enriched_DriveTime_CBG/FeatureServer/0'"
      ]
     },
     "execution_count": 25,
     "metadata": {},
     "output_type": "execute_result"
    }
   ],
   "source": [
    "enriched_lyr_url = enriched_url[:-1]\n",
    "enriched_lyr_url"
   ]
  },
  {
   "cell_type": "markdown",
   "metadata": {},
   "source": [
    "### 5. Visualize it"
   ]
  },
  {
   "cell_type": "code",
   "execution_count": 26,
   "metadata": {},
   "outputs": [
    {
     "data": {
      "application/vnd.jupyter.widget-view+json": {
       "model_id": "63dc95b8d13d451c84752704d8ef64ba"
      }
     },
     "metadata": {},
     "output_type": "display_data"
    }
   ],
   "source": [
    "#Adding basemap of Oakland county\n",
    "map1 = gis.map('Oakland, Michigan', zoomlevel=10)\n",
    "map1"
   ]
  },
  {
   "cell_type": "markdown",
   "metadata": {},
   "source": [
    "![pythonresultmap](https://user-images.githubusercontent.com/13968196/36760882-94954672-1bea-11e8-94fd-6f68aaee313a.PNG)"
   ]
  },
  {
   "cell_type": "code",
   "execution_count": 27,
   "metadata": {},
   "outputs": [],
   "source": [
    "#Adding next layer for each CBG viualized based on its health insurance spending (X8002_2)\n",
    "map1.add_layer({\"type\":\"FeatureLayer\",\n",
    "                \"url\": enriched_lyr_url,\n",
    "                \"renderer\":\"ClassedSizeRenderer\",\n",
    "                \"field_name\":\"X8002_X\",\n",
    "                \"opacity\":0.6\n",
    "               })"
   ]
  },
  {
   "cell_type": "code",
   "execution_count": 28,
   "metadata": {},
   "outputs": [],
   "source": [
    "#Adding next layer for service areas reachable within a 5 min drive time of the clinics\n",
    "map1.add_layer({\"type\":\"FeatureLayer\",\n",
    "                \"url\": visible_result_url,\n",
    "                \"opacity\":0.75\n",
    "               })"
   ]
  },
  {
   "cell_type": "code",
   "execution_count": 29,
   "metadata": {},
   "outputs": [],
   "source": [
    "#Adding next layer for clinics\n",
    "map1.add_layer({\"type\":\"FeatureLayer\",\n",
    "                \"url\": clinic_url,\n",
    "                \"opacity\":0.75\n",
    "               })"
   ]
  },
  {
   "cell_type": "markdown",
   "metadata": {
    "collapsed": true
   },
   "source": [
    "Similar maps can be generated for the following variables too\n",
    "> 1. Travel Time (`ToBreak`)\n",
    "> 2. Population (`TOTPOP_CY`)\n",
    "> 3. Citizens with Bachelor's Degree (`BACHDEG_CY`)\n",
    "\n",
    "Refer to the `How do I generate this?` section [here](https://esri-tutorials-dcdev.opendata.arcgis.com/pages/opioid-clinic-service-area) to stylize exactly as shown in this [map series](http://dcdev.maps.arcgis.com/apps/MapSeries/index.html?appid=a0860ab63f3e4444bc66dc87d27dac0c)."
   ]
  },
  {
   "cell_type": "code",
   "execution_count": null,
   "metadata": {
    "collapsed": true
   },
   "outputs": [],
   "source": []
  }
 ],
 "metadata": {
  "kernelspec": {
   "display_name": "Python 3",
   "language": "python",
   "name": "python3"
  },
  "language_info": {
   "codemirror_mode": {
    "name": "ipython",
    "version": 3
   },
   "file_extension": ".py",
   "mimetype": "text/x-python",
   "name": "python",
   "nbconvert_exporter": "python",
   "pygments_lexer": "ipython3",
   "version": "3.6.2"
  }
 },
 "nbformat": 4,
 "nbformat_minor": 2
}
