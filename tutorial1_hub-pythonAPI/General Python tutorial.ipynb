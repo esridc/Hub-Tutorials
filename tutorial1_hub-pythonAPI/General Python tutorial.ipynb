{
 "cells": [
  {
   "cell_type": "markdown",
   "metadata": {},
   "source": [
    "# General Python Tutorial"
   ]
  },
  {
   "cell_type": "markdown",
   "metadata": {},
   "source": [
    "The tutorial is designed to touch upon \n",
    "> 1. Finding data from ArcGIS Hub\n",
    "\n",
    "> 2. Loading and Visualizing it using ArcGIS API for Python (API)\n",
    "\n",
    "> 3. Extract it as a Python dataframe for basic exploratory analysis\n",
    "\n",
    "> 4. Query the data for specific results using the API\n",
    "\n",
    "> 5. Customize map results using API"
   ]
  },
  {
   "cell_type": "markdown",
   "metadata": {},
   "source": [
    "Let's start from the bare basics..\n",
    "\n",
    "1. For those new to Python, [here](http://www.pythonforbeginners.com/basics/python-websites-tutorials) is a list of online resourses available to learn and familiarize yourself with Python.\n",
    "\n",
    "2. [Anaconda](https://www.continuum.io/downloads), an open source distribution of R and Python is used to install Python version 3.6. All the packages used in the next code cell (except geopandas) come along with the Anaconda installation of Python.\n",
    "\n",
    "3. To install geopandas, execute the following command _after_ Anaconda has been installed.\n",
    "\n",
    "__`conda install -c conda-forge geopandas`__"
   ]
  },
  {
   "cell_type": "markdown",
   "metadata": {},
   "source": [
    "We start by importing necessary packages"
   ]
  },
  {
   "cell_type": "code",
   "execution_count": 1,
   "metadata": {
    "collapsed": true
   },
   "outputs": [],
   "source": [
    "import pandas as pd\n",
    "import geopandas as gpd\n",
    "import numpy as np\n",
    "import matplotlib.pyplot as plt\n",
    "import seaborn as sns\n",
    "\n",
    "sns.set(color_codes=True)\n",
    "%matplotlib inline"
   ]
  },
  {
   "cell_type": "markdown",
   "metadata": {},
   "source": [
    "A simple breakdown of these packages..\n",
    "\n",
    "> [__Pandas__](https://pypi.python.org/pypi/pandas/) : To load data as a table and enable working with tabular data.\n",
    "\n",
    "> [__Geopandas__](https://pypi.python.org/pypi/geopandas/0.2.1) : An extension of Pandas that supports working with geospatial data.\n",
    "\n",
    "> [__Numpy__](https://pypi.python.org/pypi/numpy/1.13.1) : Supports array processing for numbers, strings, records and objects\n",
    "\n",
    "> [__Matplotlib__](https://pypi.python.org/pypi/matplotlib/2.0.2) : Package for plotting and Python visualization\n",
    "\n",
    "> [__Seaborn__](https://pypi.python.org/pypi/seaborn/0.8) : Package for making attractive and informative statistical graphics in Python\n",
    "\n",
    "\n",
    "The last two lines of code in the cell above, adopt the color styles of seaborn and allow for displaying plots within this notebook, as opposed to displaying them in another browser window."
   ]
  },
  {
   "cell_type": "markdown",
   "metadata": {},
   "source": [
    "## Step 1: Finding data from ArcGIS hub"
   ]
  },
  {
   "cell_type": "markdown",
   "metadata": {},
   "source": [
    "Look for the dataset in the search bar as shown on the [ArcGIS hub Open Data](http://hub.arcgis.com/pages/open-data) page.\n",
    "\n",
    "The dataset used through this tutorial is the [DC Bicyclelanes](opendata.dc.gov/datasets/bicycle-lanes) dataset.\n",
    "\n",
    "The Bicycle Lanes dataset for DC contains information such as length of the bike lane, year installed, additional notes, segment id for the street it falls on, etc for each bike lane. Additional information about each field in the dataset can be found [here](http://www.arcgis.com/sharing/rest/content/items/294e062cdf2c48d5b9cbc374d9709bc0/info/metadata/metadata.xml?format=default&output=html)."
   ]
  },
  {
   "cell_type": "markdown",
   "metadata": {},
   "source": [
    "![search](https://raw.githubusercontent.com/ManushiM/Esri_Tutorials/master/tutorial1_hub-pythonAPI/home.PNG)"
   ]
  },
  {
   "cell_type": "markdown",
   "metadata": {
    "collapsed": true
   },
   "source": [
    "When you click on the dataset in the search results, it takes you to the details of the dastaset. Click on the __'API Explorer'__ tab as shown below."
   ]
  },
  {
   "cell_type": "markdown",
   "metadata": {},
   "source": [
    "![overview](https://raw.githubusercontent.com/ManushiM/Esri_Tutorials/master/tutorial1_hub-pythonAPI/overview.PNG)"
   ]
  },
  {
   "cell_type": "markdown",
   "metadata": {},
   "source": [
    "Once under the 'API Explorer' tab, copy only the selected portion of the 'Query URL'. This ensures that that the data is __not returned in the JSON format__."
   ]
  },
  {
   "cell_type": "markdown",
   "metadata": {},
   "source": [
    "![query](https://raw.githubusercontent.com/ManushiM/Esri_Tutorials/master/tutorial1_hub-pythonAPI/serviceURL.PNG)"
   ]
  },
  {
   "cell_type": "markdown",
   "metadata": {},
   "source": [
    "## Step 2.1: Loading the data using ArcGIS API for Python"
   ]
  },
  {
   "cell_type": "markdown",
   "metadata": {},
   "source": [
    "The copied URL is stored in the variable __lyr_url__ and using the __arcgis__ package of Python it is loaded as a feature/map layer in Python\n",
    "\n",
    "The __arcgis__ Python package allows automating tasks that integrate big data analysis with one's web GIS. \n",
    "\n",
    "It can be installed using [conda](https://developers.arcgis.com/python/guide/install-and-set-up/#Install-using-Conda) as well."
   ]
  },
  {
   "cell_type": "code",
   "execution_count": 2,
   "metadata": {},
   "outputs": [
    {
     "data": {
      "text/plain": [
       "<FeatureLayer url:\"https://maps2.dcgis.dc.gov/dcgis/rest/services/DCGIS_DATA/Transportation_WebMercator/MapServer/2\">"
      ]
     },
     "execution_count": 2,
     "metadata": {},
     "output_type": "execute_result"
    }
   ],
   "source": [
    "from arcgis.features import FeatureLayer\n",
    "lyr_url = 'https://maps2.dcgis.dc.gov/dcgis/rest/services/DCGIS_DATA/Transportation_WebMercator/MapServer/2'\n",
    "\n",
    "bike_layer = FeatureLayer(lyr_url)\n",
    "bike_layer"
   ]
  },
  {
   "cell_type": "markdown",
   "metadata": {},
   "source": [
    "To learn more about the package and its usage follow this [link](https://developers.arcgis.com/python/guide/overview-of-the-arcgis-api-for-python/).\n",
    "\n",
    "Experienced Python users could also read the [API docs](http://esri.github.io/arcgis-python-api/apidoc/html/).\n"
   ]
  },
  {
   "cell_type": "markdown",
   "metadata": {},
   "source": [
    "Using the following lines of code, we output the fields/attributes of the dataset"
   ]
  },
  {
   "cell_type": "code",
   "execution_count": 3,
   "metadata": {},
   "outputs": [
    {
     "name": "stdout",
     "output_type": "stream",
     "text": [
      "OBJECTID\n",
      "FACILITYID\n",
      "STREETSEGID\n",
      "SOURCEID\n",
      "BIKELANELENGTH\n",
      "FACILITY\n",
      "PROPOSEDCYCLETRACK\n",
      "Shape\n",
      "Shape_Length\n",
      "TRAVELDIRECTION\n",
      "NOTES\n",
      "BIKELANE_YEAR\n",
      "PLANSREADY\n",
      "GAP\n",
      "GAP_NOTES\n",
      "NEED_SYMBOL\n",
      "NEED_SYM_1\n",
      "REPAINT_LINE\n",
      "YEAR_INSTALLED\n"
     ]
    }
   ],
   "source": [
    "for f in bike_layer.properties.fields:\n",
    "    print(f['name'])"
   ]
  },
  {
   "cell_type": "markdown",
   "metadata": {},
   "source": [
    "We now retreive the entire dataset in __all_features__ and get a count of all the rows in the dataset"
   ]
  },
  {
   "cell_type": "code",
   "execution_count": 4,
   "metadata": {},
   "outputs": [
    {
     "name": "stdout",
     "output_type": "stream",
     "text": [
      "Total number of rows in the dataset: \n",
      "1370\n"
     ]
    }
   ],
   "source": [
    "all_features = bike_layer.query()\n",
    "print('Total number of rows in the dataset: ')\n",
    "print(len(all_features.features))"
   ]
  },
  {
   "cell_type": "markdown",
   "metadata": {},
   "source": [
    "## Step 2.2: Visualizing it using the API"
   ]
  },
  {
   "cell_type": "code",
   "execution_count": 5,
   "metadata": {},
   "outputs": [],
   "source": [
    "from arcgis.gis import GIS\n",
    "gis = GIS()\n",
    "\n",
    "#Here we select a zoom level of 13, purely based on judgement of location and data to be displayed\n",
    "map1 = gis.map('Washington, DC', 13)"
   ]
  },
  {
   "cell_type": "markdown",
   "metadata": {},
   "source": [
    "In the following step we add the Bikelanes as a layer superimposing the basemap of Washington, DC initialized above.\n",
    "\n",
    "The \"url\" attribute is provided with the __Service URL__"
   ]
  },
  {
   "cell_type": "code",
   "execution_count": 6,
   "metadata": {},
   "outputs": [
    {
     "data": {
      "application/vnd.jupyter.widget-view+json": {
       "model_id": "ed0dbd0f60d04fa48069064d0576b78b"
      }
     },
     "metadata": {},
     "output_type": "display_data"
    }
   ],
   "source": [
    "map1.add_layer({\"type\":\"FeatureLayer\",\n",
    "                \"url\":\"https://maps2.dcgis.dc.gov/dcgis/rest/services/DCGIS_DATA/Transportation_WebMercator/MapServer/2\",\n",
    "               })\n",
    "map1"
   ]
  },
  {
   "cell_type": "markdown",
   "metadata": {},
   "source": [
    "![map1](https://raw.githubusercontent.com/ManushiM/Esri_Tutorials/master/tutorial1_hub-pythonAPI/map1.PNG)"
   ]
  },
  {
   "cell_type": "markdown",
   "metadata": {},
   "source": [
    "## Step 3.1: Loading the data as a Pandas DataFrame"
   ]
  },
  {
   "cell_type": "markdown",
   "metadata": {},
   "source": [
    "The variable __all_features__ is of datatype arcgis FeatureSet.\n",
    "\n",
    "In order to use this data as a tabular dataset, we need to store it as a Pandas DataFrame, as shown below."
   ]
  },
  {
   "cell_type": "code",
   "execution_count": 7,
   "metadata": {},
   "outputs": [
    {
     "data": {
      "text/html": [
       "<div>\n",
       "<style>\n",
       "    .dataframe thead tr:only-child th {\n",
       "        text-align: right;\n",
       "    }\n",
       "\n",
       "    .dataframe thead th {\n",
       "        text-align: left;\n",
       "    }\n",
       "\n",
       "    .dataframe tbody tr th {\n",
       "        vertical-align: top;\n",
       "    }\n",
       "</style>\n",
       "<table border=\"1\" class=\"dataframe\">\n",
       "  <thead>\n",
       "    <tr style=\"text-align: right;\">\n",
       "      <th></th>\n",
       "      <th>BIKELANELENGTH</th>\n",
       "      <th>BIKELANE_YEAR</th>\n",
       "      <th>FACILITY</th>\n",
       "      <th>FACILITYID</th>\n",
       "      <th>GAP</th>\n",
       "      <th>GAP_NOTES</th>\n",
       "      <th>NEED_SYMBOL</th>\n",
       "      <th>NEED_SYM_1</th>\n",
       "      <th>NOTES</th>\n",
       "      <th>OBJECTID</th>\n",
       "      <th>PLANSREADY</th>\n",
       "      <th>PROPOSEDCYCLETRACK</th>\n",
       "      <th>REPAINT_LINE</th>\n",
       "      <th>SOURCEID</th>\n",
       "      <th>STREETSEGID</th>\n",
       "      <th>Shape_Length</th>\n",
       "      <th>TRAVELDIRECTION</th>\n",
       "      <th>YEAR_INSTALLED</th>\n",
       "      <th>SHAPE</th>\n",
       "    </tr>\n",
       "  </thead>\n",
       "  <tbody>\n",
       "    <tr>\n",
       "      <th>0</th>\n",
       "      <td>0.009455</td>\n",
       "      <td>0</td>\n",
       "      <td>Existing Bike Lane</td>\n",
       "      <td>SEGID- 9854</td>\n",
       "      <td></td>\n",
       "      <td></td>\n",
       "      <td>None</td>\n",
       "      <td>None</td>\n",
       "      <td></td>\n",
       "      <td>1</td>\n",
       "      <td></td>\n",
       "      <td></td>\n",
       "      <td>None</td>\n",
       "      <td>15135550</td>\n",
       "      <td>9854</td>\n",
       "      <td>15.216846</td>\n",
       "      <td></td>\n",
       "      <td>2008</td>\n",
       "      <td>{'paths': [[[-8573273.977615476, 4715455.45970...</td>\n",
       "    </tr>\n",
       "    <tr>\n",
       "      <th>1</th>\n",
       "      <td>0.076754</td>\n",
       "      <td>0</td>\n",
       "      <td>Existing Bike Lane</td>\n",
       "      <td>SEGID- 10198</td>\n",
       "      <td></td>\n",
       "      <td></td>\n",
       "      <td>None</td>\n",
       "      <td>None</td>\n",
       "      <td>COG 95, 1975 plan, public input</td>\n",
       "      <td>2</td>\n",
       "      <td></td>\n",
       "      <td></td>\n",
       "      <td>None</td>\n",
       "      <td>15135555</td>\n",
       "      <td>10198</td>\n",
       "      <td>123.524976</td>\n",
       "      <td></td>\n",
       "      <td>2008</td>\n",
       "      <td>{'paths': [[[-8573264.662602307, 4715472.71048...</td>\n",
       "    </tr>\n",
       "    <tr>\n",
       "      <th>2</th>\n",
       "      <td>0.058610</td>\n",
       "      <td>0</td>\n",
       "      <td>Existing Bike Lane</td>\n",
       "      <td>SEGID- 9167</td>\n",
       "      <td></td>\n",
       "      <td></td>\n",
       "      <td>None</td>\n",
       "      <td>None</td>\n",
       "      <td>COG 95, 1975 plan, public input</td>\n",
       "      <td>3</td>\n",
       "      <td></td>\n",
       "      <td></td>\n",
       "      <td>None</td>\n",
       "      <td>15135560</td>\n",
       "      <td>9167</td>\n",
       "      <td>94.322895</td>\n",
       "      <td></td>\n",
       "      <td>2008</td>\n",
       "      <td>{'paths': [[[-8573183.827335583, 4715609.70743...</td>\n",
       "    </tr>\n",
       "    <tr>\n",
       "      <th>3</th>\n",
       "      <td>0.026891</td>\n",
       "      <td>0</td>\n",
       "      <td>Existing Bike Lane</td>\n",
       "      <td>SEGID- 12337</td>\n",
       "      <td></td>\n",
       "      <td></td>\n",
       "      <td>None</td>\n",
       "      <td>None</td>\n",
       "      <td>COG 95, 1975 plan, public input</td>\n",
       "      <td>4</td>\n",
       "      <td></td>\n",
       "      <td></td>\n",
       "      <td>None</td>\n",
       "      <td>15135565</td>\n",
       "      <td>12337</td>\n",
       "      <td>43.276471</td>\n",
       "      <td></td>\n",
       "      <td>2008</td>\n",
       "      <td>{'paths': [[[-8573122.896706875, 4715714.84043...</td>\n",
       "    </tr>\n",
       "    <tr>\n",
       "      <th>4</th>\n",
       "      <td>0.172385</td>\n",
       "      <td>0</td>\n",
       "      <td>Existing Bike Lane</td>\n",
       "      <td>SEGID- 10611</td>\n",
       "      <td></td>\n",
       "      <td></td>\n",
       "      <td>None</td>\n",
       "      <td>None</td>\n",
       "      <td>COG 95, 1975 plan, public input</td>\n",
       "      <td>5</td>\n",
       "      <td></td>\n",
       "      <td></td>\n",
       "      <td>None</td>\n",
       "      <td>15135580</td>\n",
       "      <td>10611</td>\n",
       "      <td>277.425702</td>\n",
       "      <td></td>\n",
       "      <td>2008</td>\n",
       "      <td>{'paths': [[[-8572973.134739578, 4715973.04009...</td>\n",
       "    </tr>\n",
       "  </tbody>\n",
       "</table>\n",
       "</div>"
      ],
      "text/plain": [
       "   BIKELANELENGTH  BIKELANE_YEAR            FACILITY    FACILITYID GAP  \\\n",
       "0        0.009455              0  Existing Bike Lane   SEGID- 9854       \n",
       "1        0.076754              0  Existing Bike Lane  SEGID- 10198       \n",
       "2        0.058610              0  Existing Bike Lane   SEGID- 9167       \n",
       "3        0.026891              0  Existing Bike Lane  SEGID- 12337       \n",
       "4        0.172385              0  Existing Bike Lane  SEGID- 10611       \n",
       "\n",
       "  GAP_NOTES NEED_SYMBOL NEED_SYM_1                            NOTES  OBJECTID  \\\n",
       "0                  None       None                                          1   \n",
       "1                  None       None  COG 95, 1975 plan, public input         2   \n",
       "2                  None       None  COG 95, 1975 plan, public input         3   \n",
       "3                  None       None  COG 95, 1975 plan, public input         4   \n",
       "4                  None       None  COG 95, 1975 plan, public input         5   \n",
       "\n",
       "  PLANSREADY PROPOSEDCYCLETRACK REPAINT_LINE  SOURCEID  STREETSEGID  \\\n",
       "0                                       None  15135550         9854   \n",
       "1                                       None  15135555        10198   \n",
       "2                                       None  15135560         9167   \n",
       "3                                       None  15135565        12337   \n",
       "4                                       None  15135580        10611   \n",
       "\n",
       "   Shape_Length TRAVELDIRECTION  YEAR_INSTALLED  \\\n",
       "0     15.216846                            2008   \n",
       "1    123.524976                            2008   \n",
       "2     94.322895                            2008   \n",
       "3     43.276471                            2008   \n",
       "4    277.425702                            2008   \n",
       "\n",
       "                                               SHAPE  \n",
       "0  {'paths': [[[-8573273.977615476, 4715455.45970...  \n",
       "1  {'paths': [[[-8573264.662602307, 4715472.71048...  \n",
       "2  {'paths': [[[-8573183.827335583, 4715609.70743...  \n",
       "3  {'paths': [[[-8573122.896706875, 4715714.84043...  \n",
       "4  {'paths': [[[-8572973.134739578, 4715973.04009...  "
      ]
     },
     "execution_count": 7,
     "metadata": {},
     "output_type": "execute_result"
    }
   ],
   "source": [
    "#store as dataframe\n",
    "data = all_features.df\n",
    "\n",
    "#View first 5 rows\n",
    "data.head()"
   ]
  },
  {
   "cell_type": "markdown",
   "metadata": {},
   "source": [
    "Since this is a spatial dataset (contains geometry that can be plotted on a map), we will convert it to a geodataframe to view its details."
   ]
  },
  {
   "cell_type": "code",
   "execution_count": 8,
   "metadata": {},
   "outputs": [
    {
     "name": "stdout",
     "output_type": "stream",
     "text": [
      "<class 'geopandas.geodataframe.GeoDataFrame'>\n",
      "RangeIndex: 1370 entries, 0 to 1369\n",
      "Data columns (total 19 columns):\n",
      "BIKELANELENGTH        1370 non-null float64\n",
      "BIKELANE_YEAR         1370 non-null int64\n",
      "FACILITY              1370 non-null object\n",
      "FACILITYID            1370 non-null object\n",
      "GAP                   1370 non-null object\n",
      "GAP_NOTES             1370 non-null object\n",
      "NEED_SYMBOL           0 non-null object\n",
      "NEED_SYM_1            0 non-null object\n",
      "NOTES                 1370 non-null object\n",
      "OBJECTID              1370 non-null int64\n",
      "PLANSREADY            1370 non-null object\n",
      "PROPOSEDCYCLETRACK    1370 non-null object\n",
      "REPAINT_LINE          0 non-null object\n",
      "SOURCEID              1370 non-null object\n",
      "STREETSEGID           1370 non-null int64\n",
      "Shape_Length          1370 non-null float64\n",
      "TRAVELDIRECTION       1370 non-null object\n",
      "YEAR_INSTALLED        1370 non-null int64\n",
      "SHAPE                 1370 non-null object\n",
      "dtypes: float64(2), int64(4), object(13)\n",
      "memory usage: 203.4+ KB\n"
     ]
    }
   ],
   "source": [
    "data_gdf = gpd.GeoDataFrame(data)\n",
    "data_gdf.info()"
   ]
  },
  {
   "cell_type": "markdown",
   "metadata": {},
   "source": [
    "#### The result above shows that this dataset has 1370 rows and 19 columns, of which 3 columns (NEED_SYMBOL, NEED_SYM_1, REPAINT_LINE) have no data. We can also find the datatype of each column from this result."
   ]
  },
  {
   "cell_type": "markdown",
   "metadata": {},
   "source": [
    "## Step 3.2: Basic exploratory analysis"
   ]
  },
  {
   "cell_type": "markdown",
   "metadata": {},
   "source": [
    "Let's start by computing the total distance of bike lanes in DC"
   ]
  },
  {
   "cell_type": "code",
   "execution_count": 9,
   "metadata": {},
   "outputs": [
    {
     "data": {
      "text/plain": [
       "96.47902169999992"
      ]
     },
     "execution_count": 9,
     "metadata": {},
     "output_type": "execute_result"
    }
   ],
   "source": [
    "np.sum(data['BIKELANELENGTH'])"
   ]
  },
  {
   "cell_type": "markdown",
   "metadata": {},
   "source": [
    "#### We just found out the total coverage of bike lanes in DC, which is approximately 96.48 decimal miles.\n",
    "\n",
    "\n",
    "* Similarly we could also use __`np.mean(array_name)`__ and __`np.median(array_name)`__ to compute those values."
   ]
  },
  {
   "cell_type": "markdown",
   "metadata": {},
   "source": [
    "We will now find the types of bike lanes stored in the column __'FACILITY'__ and visualize the number of bike lanes based on type."
   ]
  },
  {
   "cell_type": "code",
   "execution_count": 10,
   "metadata": {},
   "outputs": [
    {
     "data": {
      "text/plain": [
       "array(['Existing Bike Lane', 'Shared Lane', 'Climbing Lane', 'Cycle Track',\n",
       "       'Contraflow Bike Lane', 'Bus/Bike Lane', ' '], dtype=object)"
      ]
     },
     "execution_count": 10,
     "metadata": {},
     "output_type": "execute_result"
    }
   ],
   "source": [
    "#Gives unique values in a dataframe column\n",
    "data['FACILITY'].unique()"
   ]
  },
  {
   "cell_type": "markdown",
   "metadata": {},
   "source": [
    "Let's now find the number of bike lanes of each unique type (frequency) and store it in the variable __counts__"
   ]
  },
  {
   "cell_type": "code",
   "execution_count": 11,
   "metadata": {},
   "outputs": [],
   "source": [
    "counts = data['FACILITY'].value_counts()"
   ]
  },
  {
   "cell_type": "code",
   "execution_count": 12,
   "metadata": {
    "scrolled": true
   },
   "outputs": [
    {
     "name": "stdout",
     "output_type": "stream",
     "text": [
      "Existing Bike Lane      908\n",
      "Shared Lane             258\n",
      "Cycle Track              88\n",
      "Climbing Lane            62\n",
      "Contraflow Bike Lane     45\n",
      "                          5\n",
      "Bus/Bike Lane             4\n",
      "Name: FACILITY, dtype: int64\n"
     ]
    }
   ],
   "source": [
    "print(counts)"
   ]
  },
  {
   "cell_type": "markdown",
   "metadata": {},
   "source": [
    "We will now visualize __counts__ as a bar chart"
   ]
  },
  {
   "cell_type": "code",
   "execution_count": 13,
   "metadata": {},
   "outputs": [
    {
     "data": {
      "text/plain": [
       "<matplotlib.text.Text at 0x2519a77c6a0>"
      ]
     },
     "execution_count": 13,
     "metadata": {},
     "output_type": "execute_result"
    },
    {
     "data": {
      "image/png": "[encoded data removed]",
      "text/plain": [
       "<matplotlib.figure.Figure at 0x2519a8ae1d0>"
      ]
     },
     "metadata": {},
     "output_type": "display_data"
    }
   ],
   "source": [
    "#Generates bar graph\n",
    "ax = counts.plot(kind='bar', figsize=(10, 10), legend=True, fontsize=12)\n",
    "\n",
    "#X axis text and display style of categories\n",
    "ax.set_xlabel(\"Facility\", fontsize=12)\n",
    "plt.xticks(rotation=45)\n",
    "\n",
    "#Y axis text\n",
    "ax.set_ylabel(\"Count\", fontsize=12)\n",
    "\n",
    "#Title\n",
    "ax.set_title(\"Types of Bike Lane\", fontsize=20)"
   ]
  },
  {
   "cell_type": "markdown",
   "metadata": {},
   "source": [
    "## Step 4: Query the data for specific results"
   ]
  },
  {
   "cell_type": "markdown",
   "metadata": {},
   "source": [
    "We now try to query the dataset based on certain filters using the __where__ clause qithin the query. \n",
    "\n",
    "In this example, we check for _bikes installed in the last 5 years_.\n",
    "\n",
    "__NOTE:__ These filters can only be applied to NUMERICAL data fields"
   ]
  },
  {
   "cell_type": "code",
   "execution_count": 14,
   "metadata": {},
   "outputs": [
    {
     "name": "stdout",
     "output_type": "stream",
     "text": [
      "Number of bike lanes installed in the last 5 years (2012-2016): \n"
     ]
    },
    {
     "data": {
      "text/plain": [
       "566"
      ]
     },
     "execution_count": 14,
     "metadata": {},
     "output_type": "execute_result"
    }
   ],
   "source": [
    "query_result = bike_layer.query(where=\"YEAR_INSTALLED>2011\")\n",
    "print('Number of bike lanes installed in the last 5 years (2012-2016): ')\n",
    "len(query_result.features)"
   ]
  },
  {
   "cell_type": "markdown",
   "metadata": {},
   "source": [
    "These results can also be stored as a Pandas DataFrame for analysis."
   ]
  },
  {
   "cell_type": "code",
   "execution_count": 15,
   "metadata": {
    "collapsed": true
   },
   "outputs": [],
   "source": [
    "#store as dataframe\n",
    "data_5yrs = query_result.df"
   ]
  },
  {
   "cell_type": "markdown",
   "metadata": {},
   "source": [
    "To get the number of bikes installed each year, we perform a __values_counts()__ on this dataframe over the __`YEAR_INSTALLED`__ field"
   ]
  },
  {
   "cell_type": "code",
   "execution_count": 16,
   "metadata": {},
   "outputs": [
    {
     "data": {
      "text/plain": [
       "2012    162\n",
       "2014    160\n",
       "2015     86\n",
       "2013     82\n",
       "2016     76\n",
       "Name: YEAR_INSTALLED, dtype: int64"
      ]
     },
     "execution_count": 16,
     "metadata": {},
     "output_type": "execute_result"
    }
   ],
   "source": [
    "data_5yrs['YEAR_INSTALLED'].value_counts()"
   ]
  },
  {
   "cell_type": "markdown",
   "metadata": {},
   "source": [
    "## Step 5: Customize map results"
   ]
  },
  {
   "cell_type": "markdown",
   "metadata": {},
   "source": [
    "Let's start by finding the various unique values in the column __'YEAR_INSTALLED'__"
   ]
  },
  {
   "cell_type": "code",
   "execution_count": 17,
   "metadata": {},
   "outputs": [
    {
     "data": {
      "text/plain": [
       "array([2008, 2005, 1980, 2007, 2010, 2013, 2014, 2002, 2011, 2009, 2004,\n",
       "       2012, 2006, 2003, 2015, 2016,    0, 2001], dtype=int64)"
      ]
     },
     "execution_count": 17,
     "metadata": {},
     "output_type": "execute_result"
    }
   ],
   "source": [
    "data['YEAR_INSTALLED'].unique()"
   ]
  },
  {
   "cell_type": "markdown",
   "metadata": {},
   "source": [
    "For the following map, we have used the same location and zoom level.\n",
    "\n",
    "The only change is the __choice of basemap__ used. The other available basemaps are:"
   ]
  },
  {
   "cell_type": "code",
   "execution_count": 18,
   "metadata": {},
   "outputs": [
    {
     "data": {
      "text/plain": [
       "['streets',\n",
       " 'satellite',\n",
       " 'hybrid',\n",
       " 'topo',\n",
       " 'gray',\n",
       " 'dark-gray',\n",
       " 'oceans',\n",
       " 'national-geographic',\n",
       " 'terrain',\n",
       " 'osm']"
      ]
     },
     "execution_count": 18,
     "metadata": {},
     "output_type": "execute_result"
    }
   ],
   "source": [
    "map1.basemaps"
   ]
  },
  {
   "cell_type": "code",
   "execution_count": 19,
   "metadata": {},
   "outputs": [],
   "source": [
    "map2 = gis.map('Washington, DC', 13)\n",
    "#setting a basemap to the map\n",
    "map2.basemap = 'gray'"
   ]
  },
  {
   "cell_type": "markdown",
   "metadata": {},
   "source": [
    "Here we use the __ClassedColorRenderer__ in order to render different colors on the map, based on the values in the __field_name__. \n",
    "\n",
    "__NOTE:__ The column provided as \"field_name\" can only be of NUMERICAL data type."
   ]
  },
  {
   "cell_type": "code",
   "execution_count": 20,
   "metadata": {},
   "outputs": [
    {
     "data": {
      "application/vnd.jupyter.widget-view+json": {
       "model_id": "70f26430e5a141f7822f624ec467bdd1"
      }
     },
     "metadata": {},
     "output_type": "display_data"
    }
   ],
   "source": [
    "map2.add_layer({\"type\":\"FeatureLayer\",\n",
    "                \"url\":\"https://maps2.dcgis.dc.gov/dcgis/rest/services/DCGIS_DATA/Transportation_WebMercator/MapServer/2\",\n",
    "                \"renderer\":\"ClassedColorRenderer\", \"field_name\":\"YEAR_INSTALLED\"\n",
    "               })\n",
    "map2"
   ]
  },
  {
   "cell_type": "markdown",
   "metadata": {},
   "source": [
    "![map2](https://raw.githubusercontent.com/ManushiM/Esri_Tutorials/master/tutorial1_hub-pythonAPI/map2.PNG)"
   ]
  },
  {
   "cell_type": "markdown",
   "metadata": {},
   "source": [
    "As per the map above, the darker the bike lanes the newer the construction. The lighter bike lanes signify an older year of installation."
   ]
  },
  {
   "cell_type": "markdown",
   "metadata": {},
   "source": [
    "## Next Steps:\n",
    "\n",
    "> Examples of other features that could be added to this map are: \n",
    "\n",
    "> 1. The street layer for DC, to estimate what proportion of streets in DC are bike lanes.\n",
    "\n",
    "> 2. Bike trails of DC to follow routes connected by these bike lanes.\n",
    "\n",
    "> 3. Demographics data to see if the bike lanes are appropriately connecting the most populous regions"
   ]
  },
  {
   "cell_type": "markdown",
   "metadata": {},
   "source": [
    "To see other analyses examples of using the ArcGIS API for Python, follow [this](https://github.com/Esri/arcgis-python-api/tree/master/samples/04_gis_analysts_data_scientists) link to the API's Github."
   ]
  },
  {
   "cell_type": "code",
   "execution_count": null,
   "metadata": {
    "collapsed": true
   },
   "outputs": [],
   "source": []
  }
 ],
 "metadata": {
  "kernelspec": {
   "display_name": "Python 3",
   "language": "python",
   "name": "python3"
  },
  "language_info": {
   "codemirror_mode": {
    "name": "ipython",
    "version": 3
   },
   "file_extension": ".py",
   "mimetype": "text/x-python",
   "name": "python",
   "nbconvert_exporter": "python",
   "pygments_lexer": "ipython3",
   "version": "3.6.1"
  }
 },
 "nbformat": 4,
 "nbformat_minor": 2
}
