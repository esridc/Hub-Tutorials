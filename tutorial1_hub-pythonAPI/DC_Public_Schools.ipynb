{
 "cells": [
  {
   "cell_type": "code",
   "execution_count": 1,
   "metadata": {},
   "outputs": [],
   "source": [
    "from arcgis.features import *\n",
    "import arcgis"
   ]
  },
  {
   "cell_type": "code",
   "execution_count": 2,
   "metadata": {},
   "outputs": [
    {
     "data": {
      "text/html": [
       "<div>\n",
       "<style>\n",
       "    .dataframe thead tr:only-child th {\n",
       "        text-align: right;\n",
       "    }\n",
       "\n",
       "    .dataframe thead th {\n",
       "        text-align: left;\n",
       "    }\n",
       "\n",
       "    .dataframe tbody tr th {\n",
       "        vertical-align: top;\n",
       "    }\n",
       "</style>\n",
       "<table border=\"1\" class=\"dataframe\">\n",
       "  <thead>\n",
       "    <tr style=\"text-align: right;\">\n",
       "      <th></th>\n",
       "      <th>ADDRESS</th>\n",
       "      <th>BLDG_NUM</th>\n",
       "      <th>CAPACITY</th>\n",
       "      <th>CAPITALGAINS</th>\n",
       "      <th>FACUSE</th>\n",
       "      <th>GIS_ID</th>\n",
       "      <th>GRADES</th>\n",
       "      <th>LATITUDE</th>\n",
       "      <th>LEA_ID</th>\n",
       "      <th>LEA_NAME</th>\n",
       "      <th>...</th>\n",
       "      <th>SSL</th>\n",
       "      <th>STATUS</th>\n",
       "      <th>TOTAL_STUD</th>\n",
       "      <th>UN_CE</th>\n",
       "      <th>WEB_URL</th>\n",
       "      <th>XCOORD</th>\n",
       "      <th>YCOORD</th>\n",
       "      <th>YEAR_BUILT</th>\n",
       "      <th>ZIPCODE</th>\n",
       "      <th>SHAPE</th>\n",
       "    </tr>\n",
       "  </thead>\n",
       "  <tbody>\n",
       "    <tr>\n",
       "      <th>0</th>\n",
       "      <td>1400 BRUCE PLACE SE</td>\n",
       "      <td>416.0</td>\n",
       "      <td>NaN</td>\n",
       "      <td>N</td>\n",
       "      <td>Middle School</td>\n",
       "      <td>dcps_416</td>\n",
       "      <td>6th-8th</td>\n",
       "      <td>38.851337</td>\n",
       "      <td>1</td>\n",
       "      <td>District of Columbia Public Schools</td>\n",
       "      <td>...</td>\n",
       "      <td></td>\n",
       "      <td>Active</td>\n",
       "      <td>252.0</td>\n",
       "      <td>None</td>\n",
       "      <td>http://profiles.dcps.dc.gov/Johnson+Middle+School</td>\n",
       "      <td>401414.57</td>\n",
       "      <td>131503.42</td>\n",
       "      <td>1969.0</td>\n",
       "      <td>20020</td>\n",
       "      <td>{'x': -8569786.945840795, 'y': 4700400.240281109}</td>\n",
       "    </tr>\n",
       "    <tr>\n",
       "      <th>1</th>\n",
       "      <td>1503 10TH STREET NW</td>\n",
       "      <td>309.0</td>\n",
       "      <td>428.0</td>\n",
       "      <td>N</td>\n",
       "      <td>Elementary School</td>\n",
       "      <td>dcps_309</td>\n",
       "      <td>PK3-5th</td>\n",
       "      <td>38.910619</td>\n",
       "      <td>1</td>\n",
       "      <td>District of Columbia Public Schools</td>\n",
       "      <td>...</td>\n",
       "      <td></td>\n",
       "      <td>Active</td>\n",
       "      <td>341.0</td>\n",
       "      <td>None</td>\n",
       "      <td>http://seatondc.org/</td>\n",
       "      <td>397841.92</td>\n",
       "      <td>138084.32</td>\n",
       "      <td>1969.0</td>\n",
       "      <td>20001</td>\n",
       "      <td>{'x': -8574370.949081799, 'y': 4708877.609095476}</td>\n",
       "    </tr>\n",
       "    <tr>\n",
       "      <th>2</th>\n",
       "      <td>4301 13TH STREET NW</td>\n",
       "      <td>459.0</td>\n",
       "      <td>NaN</td>\n",
       "      <td>N</td>\n",
       "      <td>Youth Engagement</td>\n",
       "      <td>dcps_913</td>\n",
       "      <td>9th-12th</td>\n",
       "      <td>38.943029</td>\n",
       "      <td>1</td>\n",
       "      <td>District of Columbia Public Schools</td>\n",
       "      <td>...</td>\n",
       "      <td></td>\n",
       "      <td>Active</td>\n",
       "      <td>668.0</td>\n",
       "      <td>7</td>\n",
       "      <td>http://www.rooseveltstay.org/</td>\n",
       "      <td>397468.88</td>\n",
       "      <td>141682.30</td>\n",
       "      <td>NaN</td>\n",
       "      <td>20011</td>\n",
       "      <td>{'x': -8574851.562455568, 'y': 4713515.825209171}</td>\n",
       "    </tr>\n",
       "    <tr>\n",
       "      <th>3</th>\n",
       "      <td>650 ANACOSTIA AVENUE NE</td>\n",
       "      <td>325.0</td>\n",
       "      <td>636.0</td>\n",
       "      <td>N</td>\n",
       "      <td>Elementary School</td>\n",
       "      <td>dcps_325</td>\n",
       "      <td>PK3-5th</td>\n",
       "      <td>38.901279</td>\n",
       "      <td>1</td>\n",
       "      <td>District of Columbia Public Schools</td>\n",
       "      <td>...</td>\n",
       "      <td></td>\n",
       "      <td>Active</td>\n",
       "      <td>409.0</td>\n",
       "      <td>None</td>\n",
       "      <td>http://www.nevalthomas.org/</td>\n",
       "      <td>404154.01</td>\n",
       "      <td>137048.33</td>\n",
       "      <td>1946.0</td>\n",
       "      <td>20019</td>\n",
       "      <td>{'x': -8566270.053998448, 'y': 4707541.547762988}</td>\n",
       "    </tr>\n",
       "    <tr>\n",
       "      <th>4</th>\n",
       "      <td>219 50TH STREET SE</td>\n",
       "      <td>288.0</td>\n",
       "      <td>460.0</td>\n",
       "      <td>N</td>\n",
       "      <td>Elementary School</td>\n",
       "      <td>dcps_288</td>\n",
       "      <td>PK3-5th</td>\n",
       "      <td>38.885954</td>\n",
       "      <td>1</td>\n",
       "      <td>District of Columbia Public Schools</td>\n",
       "      <td>...</td>\n",
       "      <td></td>\n",
       "      <td>Active</td>\n",
       "      <td>391.0</td>\n",
       "      <td>None</td>\n",
       "      <td>http://profiles.dcps.dc.gov/Nalle+Elementary+S...</td>\n",
       "      <td>406004.16</td>\n",
       "      <td>135348.37</td>\n",
       "      <td>1950.0</td>\n",
       "      <td>20019</td>\n",
       "      <td>{'x': -8563897.34436059, 'y': 4705349.728299234}</td>\n",
       "    </tr>\n",
       "  </tbody>\n",
       "</table>\n",
       "<p>5 rows × 34 columns</p>\n",
       "</div>"
      ],
      "text/plain": [
       "                   ADDRESS  BLDG_NUM  CAPACITY CAPITALGAINS  \\\n",
       "0      1400 BRUCE PLACE SE     416.0       NaN            N   \n",
       "1      1503 10TH STREET NW     309.0     428.0            N   \n",
       "2      4301 13TH STREET NW     459.0       NaN            N   \n",
       "3  650 ANACOSTIA AVENUE NE     325.0     636.0            N   \n",
       "4       219 50TH STREET SE     288.0     460.0            N   \n",
       "\n",
       "              FACUSE    GIS_ID    GRADES   LATITUDE  LEA_ID  \\\n",
       "0      Middle School  dcps_416   6th-8th  38.851337       1   \n",
       "1  Elementary School  dcps_309   PK3-5th  38.910619       1   \n",
       "2   Youth Engagement  dcps_913  9th-12th  38.943029       1   \n",
       "3  Elementary School  dcps_325   PK3-5th  38.901279       1   \n",
       "4  Elementary School  dcps_288   PK3-5th  38.885954       1   \n",
       "\n",
       "                              LEA_NAME  \\\n",
       "0  District of Columbia Public Schools   \n",
       "1  District of Columbia Public Schools   \n",
       "2  District of Columbia Public Schools   \n",
       "3  District of Columbia Public Schools   \n",
       "4  District of Columbia Public Schools   \n",
       "\n",
       "                         ...                         SSL  STATUS  TOTAL_STUD  \\\n",
       "0                        ...                              Active       252.0   \n",
       "1                        ...                              Active       341.0   \n",
       "2                        ...                              Active       668.0   \n",
       "3                        ...                              Active       409.0   \n",
       "4                        ...                              Active       391.0   \n",
       "\n",
       "  UN_CE                                            WEB_URL     XCOORD  \\\n",
       "0  None  http://profiles.dcps.dc.gov/Johnson+Middle+School  401414.57   \n",
       "1  None                               http://seatondc.org/  397841.92   \n",
       "2     7                      http://www.rooseveltstay.org/  397468.88   \n",
       "3  None                        http://www.nevalthomas.org/  404154.01   \n",
       "4  None  http://profiles.dcps.dc.gov/Nalle+Elementary+S...  406004.16   \n",
       "\n",
       "      YCOORD YEAR_BUILT  ZIPCODE  \\\n",
       "0  131503.42     1969.0    20020   \n",
       "1  138084.32     1969.0    20001   \n",
       "2  141682.30        NaN    20011   \n",
       "3  137048.33     1946.0    20019   \n",
       "4  135348.37     1950.0    20019   \n",
       "\n",
       "                                               SHAPE  \n",
       "0  {'x': -8569786.945840795, 'y': 4700400.240281109}  \n",
       "1  {'x': -8574370.949081799, 'y': 4708877.609095476}  \n",
       "2  {'x': -8574851.562455568, 'y': 4713515.825209171}  \n",
       "3  {'x': -8566270.053998448, 'y': 4707541.547762988}  \n",
       "4   {'x': -8563897.34436059, 'y': 4705349.728299234}  \n",
       "\n",
       "[5 rows x 34 columns]"
      ]
     },
     "execution_count": 2,
     "metadata": {},
     "output_type": "execute_result"
    }
   ],
   "source": [
    "lyr_url = 'https://maps2.dcgis.dc.gov/dcgis/rest/services/DCGIS_DATA/Education_WebMercator/MapServer/5'\n",
    "schools_layer = FeatureLayer(lyr_url)\n",
    "all_features = schools_layer.query()\n",
    "schools = all_features.df\n",
    "schools.head()"
   ]
  },
  {
   "cell_type": "markdown",
   "metadata": {},
   "source": [
    "### Total number of schools in DC"
   ]
  },
  {
   "cell_type": "code",
   "execution_count": 3,
   "metadata": {},
   "outputs": [
    {
     "name": "stdout",
     "output_type": "stream",
     "text": [
      "Total number of schools\n",
      "122\n"
     ]
    }
   ],
   "source": [
    "print('Total number of schools')\n",
    "print(schools.shape[0])"
   ]
  },
  {
   "cell_type": "code",
   "execution_count": 4,
   "metadata": {},
   "outputs": [],
   "source": [
    "neighborhood_layer = 'https://maps2.dcgis.dc.gov/dcgis/rest/services/DCGIS_DATA/Administrative_Other_Boundaries_WebMercator/MapServer/17'"
   ]
  },
  {
   "cell_type": "code",
   "execution_count": 10,
   "metadata": {},
   "outputs": [
    {
     "name": "stdout",
     "output_type": "stream",
     "text": [
      "Enter password: ········\n"
     ]
    }
   ],
   "source": [
    "#Connecting to the GIS\n",
    "from arcgis.gis import GIS\n",
    "gis = GIS('http://dcdev.maps.arcgis.com/', 'mmajumdar_dcdev')"
   ]
  },
  {
   "cell_type": "markdown",
   "metadata": {},
   "source": [
    "### Number of schools in a neighborhood"
   ]
  },
  {
   "cell_type": "code",
   "execution_count": 11,
   "metadata": {},
   "outputs": [],
   "source": [
    "joined = arcgis.features.analysis.join_features(neighborhood_layer, lyr_url, spatial_relationship='Intersects', output_name='schools_in_neighborhood')\n",
    "joined.share(everyone=True)\n",
    "joined_url = str(joined.url)+'/0/'\n",
    "joined_layer = FeatureLayer(joined_url)\n",
    "joined_features = joined_layer.query()\n",
    "joined_df = joined_features.df"
   ]
  },
  {
   "cell_type": "code",
   "execution_count": 16,
   "metadata": {},
   "outputs": [
    {
     "data": {
      "text/plain": [
       "Index(['ADDRESS', 'BLDG_NUM', 'CAPACITY', 'CAPITALGAINS', 'FACUSE', 'GIS_ID',\n",
       "       'GRADES', 'Join_Count', 'LATITUDE', 'LEA_ID', 'LEA_NAME', 'LEVEL_',\n",
       "       'LONGITUDE', 'MAR_ID', 'NAME', 'NAME_1', 'NBH_NAMES', 'OBJECTID',\n",
       "       'PHONE', 'PK3', 'PK4', 'POPULATION_PLAN', 'SCHOOL_ID', 'SCHOOL_NAM',\n",
       "       'SCHOOL_YEA', 'SCH_PROG', 'SQUARE_FOOTAGE', 'SSL', 'STATUS',\n",
       "       'TOTAL_STUD', 'TYPE', 'UN_CE', 'WEB_URL', 'WEB_URL_1', 'XCOORD',\n",
       "       'YCOORD', 'YEAR_BUILT', 'ZIPCODE', 'SHAPE'],\n",
       "      dtype='object')"
      ]
     },
     "execution_count": 16,
     "metadata": {},
     "output_type": "execute_result"
    }
   ],
   "source": [
    "joined_df.columns"
   ]
  },
  {
   "cell_type": "code",
   "execution_count": 27,
   "metadata": {},
   "outputs": [
    {
     "data": {
      "text/html": [
       "<div>\n",
       "<style>\n",
       "    .dataframe thead tr:only-child th {\n",
       "        text-align: right;\n",
       "    }\n",
       "\n",
       "    .dataframe thead th {\n",
       "        text-align: left;\n",
       "    }\n",
       "\n",
       "    .dataframe tbody tr th {\n",
       "        vertical-align: top;\n",
       "    }\n",
       "</style>\n",
       "<table border=\"1\" class=\"dataframe\">\n",
       "  <thead>\n",
       "    <tr style=\"text-align: right;\">\n",
       "      <th></th>\n",
       "      <th>NBH_NAMES</th>\n",
       "      <th>Join_Count</th>\n",
       "    </tr>\n",
       "  </thead>\n",
       "  <tbody>\n",
       "    <tr>\n",
       "      <th>9</th>\n",
       "      <td>Shaw, Logan Circle</td>\n",
       "      <td>2</td>\n",
       "    </tr>\n",
       "  </tbody>\n",
       "</table>\n",
       "</div>"
      ],
      "text/plain": [
       "            NBH_NAMES  Join_Count\n",
       "9  Shaw, Logan Circle           2"
      ]
     },
     "execution_count": 27,
     "metadata": {},
     "output_type": "execute_result"
    }
   ],
   "source": [
    "temp = joined_df[['NBH_NAMES', 'Join_Count']]\n",
    "temp[temp['NBH_NAMES']=='Shaw, Logan Circle']"
   ]
  },
  {
   "cell_type": "markdown",
   "metadata": {},
   "source": [
    "### Relevant details of a particular school"
   ]
  },
  {
   "cell_type": "code",
   "execution_count": 22,
   "metadata": {},
   "outputs": [
    {
     "data": {
      "text/html": [
       "<div>\n",
       "<style>\n",
       "    .dataframe thead tr:only-child th {\n",
       "        text-align: right;\n",
       "    }\n",
       "\n",
       "    .dataframe thead th {\n",
       "        text-align: left;\n",
       "    }\n",
       "\n",
       "    .dataframe tbody tr th {\n",
       "        vertical-align: top;\n",
       "    }\n",
       "</style>\n",
       "<table border=\"1\" class=\"dataframe\">\n",
       "  <thead>\n",
       "    <tr style=\"text-align: right;\">\n",
       "      <th></th>\n",
       "      <th>NAME</th>\n",
       "      <th>ADDRESS</th>\n",
       "      <th>PHONE</th>\n",
       "      <th>WEB_URL</th>\n",
       "      <th>FACUSE</th>\n",
       "      <th>GRADES</th>\n",
       "      <th>TOTAL_STUD</th>\n",
       "      <th>CAPACITY</th>\n",
       "      <th>YEAR_BUILT</th>\n",
       "    </tr>\n",
       "  </thead>\n",
       "  <tbody>\n",
       "    <tr>\n",
       "      <th>121</th>\n",
       "      <td>Excel Academy</td>\n",
       "      <td>2501 MARTIN LUTHER KING JR AVENUE SE</td>\n",
       "      <td>202-373-0097</td>\n",
       "      <td>http://www.excelpcs.org</td>\n",
       "      <td>Education Campus</td>\n",
       "      <td>PK3-8th</td>\n",
       "      <td>NaN</td>\n",
       "      <td>NaN</td>\n",
       "      <td>NaN</td>\n",
       "    </tr>\n",
       "  </tbody>\n",
       "</table>\n",
       "</div>"
      ],
      "text/plain": [
       "              NAME                               ADDRESS         PHONE  \\\n",
       "121  Excel Academy  2501 MARTIN LUTHER KING JR AVENUE SE  202-373-0097   \n",
       "\n",
       "                     WEB_URL            FACUSE   GRADES  TOTAL_STUD  CAPACITY  \\\n",
       "121  http://www.excelpcs.org  Education Campus  PK3-8th         NaN       NaN   \n",
       "\n",
       "     YEAR_BUILT  \n",
       "121         NaN  "
      ]
     },
     "execution_count": 22,
     "metadata": {},
     "output_type": "execute_result"
    }
   ],
   "source": [
    "temp = schools[['NAME', 'ADDRESS', 'PHONE', 'WEB_URL', 'FACUSE', 'GRADES', 'TOTAL_STUD', 'CAPACITY', 'YEAR_BUILT']]\n",
    "temp[temp['NAME']=='Excel Academy']"
   ]
  },
  {
   "cell_type": "markdown",
   "metadata": {},
   "source": [
    "### Mean number of students in schools in DC"
   ]
  },
  {
   "cell_type": "code",
   "execution_count": 28,
   "metadata": {},
   "outputs": [
    {
     "data": {
      "text/plain": [
       "437.8290598290598"
      ]
     },
     "execution_count": 28,
     "metadata": {},
     "output_type": "execute_result"
    }
   ],
   "source": [
    "schools['TOTAL_STUD'].mean()"
   ]
  },
  {
   "cell_type": "markdown",
   "metadata": {},
   "source": [
    "### Total number of enrolled students in DC"
   ]
  },
  {
   "cell_type": "code",
   "execution_count": 29,
   "metadata": {},
   "outputs": [
    {
     "data": {
      "text/plain": [
       "51226.0"
      ]
     },
     "execution_count": 29,
     "metadata": {},
     "output_type": "execute_result"
    }
   ],
   "source": [
    "schools['TOTAL_STUD'].sum()"
   ]
  },
  {
   "cell_type": "markdown",
   "metadata": {},
   "source": [
    "### School with min and max students"
   ]
  },
  {
   "cell_type": "code",
   "execution_count": 32,
   "metadata": {},
   "outputs": [
    {
     "data": {
      "text/plain": [
       "NAME          Youth Services Center\n",
       "FACUSE             Youth Engagement\n",
       "TOTAL_STUD                     1750\n",
       "dtype: object"
      ]
     },
     "execution_count": 32,
     "metadata": {},
     "output_type": "execute_result"
    }
   ],
   "source": [
    "temp = schools[['NAME', 'FACUSE', 'TOTAL_STUD']]\n",
    "temp.max()"
   ]
  },
  {
   "cell_type": "code",
   "execution_count": 33,
   "metadata": {},
   "outputs": [
    {
     "data": {
      "text/plain": [
       "NAME          Aiton Elementary School\n",
       "FACUSE                    Arts Center\n",
       "TOTAL_STUD                          5\n",
       "dtype: object"
      ]
     },
     "execution_count": 33,
     "metadata": {},
     "output_type": "execute_result"
    }
   ],
   "source": [
    "temp.min()"
   ]
  },
  {
   "cell_type": "markdown",
   "metadata": {},
   "source": [
    "### Bar chart for school type and counts"
   ]
  },
  {
   "cell_type": "code",
   "execution_count": 36,
   "metadata": {},
   "outputs": [],
   "source": [
    "import matplotlib.pyplot as plt\n",
    "import seaborn as sns\n",
    "\n",
    "sns.set(color_codes=True)\n",
    "%matplotlib inline"
   ]
  },
  {
   "cell_type": "code",
   "execution_count": 34,
   "metadata": {},
   "outputs": [
    {
     "name": "stdout",
     "output_type": "stream",
     "text": [
      "Elementary School                72\n",
      "Middle School                    16\n",
      "High School                      10\n",
      "Youth Engagement                  7\n",
      "Education Campus                  7\n",
      "High School/Specialized           5\n",
      "Elementary School/Specialized     2\n",
      "Arts Center                       2\n",
      "Special Education                 1\n",
      "Name: FACUSE, dtype: int64\n"
     ]
    }
   ],
   "source": [
    "#Frequency calculation of each crime type\n",
    "counts = schools['FACUSE'].value_counts()\n",
    "print(counts)"
   ]
  },
  {
   "cell_type": "code",
   "execution_count": 37,
   "metadata": {},
   "outputs": [
    {
     "data": {
      "text/plain": [
       "Text(0.5,1,'Count of schools in DC based on type')"
      ]
     },
     "execution_count": 37,
     "metadata": {},
     "output_type": "execute_result"
    },
    {
     "data": {
      "image/png": "[encoded data removed]",
      "text/plain": [
       "<matplotlib.figure.Figure at 0x1e2584fd3c8>"
      ]
     },
     "metadata": {},
     "output_type": "display_data"
    }
   ],
   "source": [
    "#Generates bar graph\n",
    "ax = counts.plot(kind='barh', figsize=(10, 10), legend=True, fontsize=12, color='red')\n",
    "\n",
    "#X axis text and display style of categories\n",
    "ax.set_xlabel(\"Count\", fontsize=12)\n",
    "#plt.xticks(rotation=45)\n",
    "\n",
    "#Y axis text\n",
    "ax.set_ylabel(\"School Type\", fontsize=12)\n",
    "\n",
    "#Title\n",
    "ax.set_title(\"Count of schools in DC based on type\", fontsize=20)"
   ]
  },
  {
   "cell_type": "markdown",
   "metadata": {},
   "source": [
    "### Scatter plot for capacity of school v/s neighborhood population"
   ]
  },
  {
   "cell_type": "code",
   "execution_count": 38,
   "metadata": {},
   "outputs": [],
   "source": [
    "enriched_neighborhood = arcgis.features.enrich_data.enrich_layer(neighborhood_layer, analysis_variables=['TOTPOP_CY'], output_name=\"Enriched_Neighborhoods_Pop\")"
   ]
  },
  {
   "cell_type": "code",
   "execution_count": 39,
   "metadata": {},
   "outputs": [],
   "source": [
    "enriched_neighborhood.share(everyone=True)\n",
    "enriched_url = str(enriched_neighborhood.url)+'/0/'\n",
    "enriched_layer = FeatureLayer(enriched_url)\n",
    "enriched_features = enriched_layer.query()\n",
    "enriched_df = enriched_features.df"
   ]
  },
  {
   "cell_type": "code",
   "execution_count": 42,
   "metadata": {},
   "outputs": [],
   "source": [
    "joined_reverse = arcgis.features.analysis.join_features(lyr_url, enriched_url, spatial_relationship='Intersects', output_name='neighborhood_in_schools')\n",
    "joined_reverse.share(everyone=True)\n",
    "joined_reverse_url = str(joined_reverse.url)+'/0/'\n",
    "joined_layer = FeatureLayer(joined_reverse_url)\n",
    "joined_features = joined_layer.query()\n",
    "joined_reverse_df = joined_features.df"
   ]
  },
  {
   "cell_type": "code",
   "execution_count": 43,
   "metadata": {},
   "outputs": [
    {
     "data": {
      "text/plain": [
       "Index(['ADDRESS', 'BLDG_NUM', 'CAPACITY', 'CAPITALGAINS', 'ENRICH_FID',\n",
       "       'FACUSE', 'GIS_ID', 'GRADES', 'HasData', 'ID', 'Join_Count', 'LATITUDE',\n",
       "       'LEA_ID', 'LEA_NAME', 'LEVEL_', 'LONGITUDE', 'MAR_ID', 'NAME', 'NAME_1',\n",
       "       'NBH_NAMES', 'OBJECTID', 'PHONE', 'PK3', 'PK4', 'POPULATION_PLAN',\n",
       "       'SCHOOL_ID', 'SCHOOL_NAM', 'SCHOOL_YEA', 'SCH_PROG', 'SQUARE_FOOTAGE',\n",
       "       'SSL', 'STATUS', 'TOTAL_STUD', 'TOTPOP_CY', 'TYPE', 'UN_CE', 'WEB_URL',\n",
       "       'WEB_URL_1', 'XCOORD', 'YCOORD', 'YEAR_BUILT', 'ZIPCODE',\n",
       "       'aggregationMethod', 'apportionmentConfidence',\n",
       "       'populationToPolygonSizeRating', 'sourceCountry', 'SHAPE'],\n",
       "      dtype='object')"
      ]
     },
     "execution_count": 43,
     "metadata": {},
     "output_type": "execute_result"
    }
   ],
   "source": [
    "joined_reverse_df.columns"
   ]
  },
  {
   "cell_type": "code",
   "execution_count": 52,
   "metadata": {},
   "outputs": [
    {
     "data": {
      "image/png": "[encoded data removed]",
      "text/plain": [
       "<matplotlib.figure.Figure at 0x1e25903a278>"
      ]
     },
     "metadata": {},
     "output_type": "display_data"
    }
   ],
   "source": [
    "plt.figure(figsize=(8,8))\n",
    "plt.scatter(joined_reverse_df['CAPACITY'], joined_reverse_df['TOTPOP_CY'], s=joined_reverse_df['TOTAL_STUD'], c='blue', alpha=0.6)\n",
    "\n",
    "#X axis text and display style of categories\n",
    "plt.xlabel(\"Capacity of School\", fontsize=14)\n",
    "#plt.xticks(rotation=45)\n",
    "\n",
    "#Y axis text\n",
    "plt.ylabel(\"Neighborhood Population\", fontsize=14)\n",
    "\n",
    "#Title\n",
    "plt.title(\"Capacity of a school v/s Neighborhood population with size of bubble representing number of students\", fontsize=20)\n",
    "plt.show()"
   ]
  },
  {
   "cell_type": "markdown",
   "metadata": {},
   "source": [
    "#### Actual plot should allow hovering with school name and number_of_students as tooltip text"
   ]
  },
  {
   "cell_type": "code",
   "execution_count": null,
   "metadata": {},
   "outputs": [],
   "source": []
  }
 ],
 "metadata": {
  "kernelspec": {
   "display_name": "Python 3",
   "language": "python",
   "name": "python3"
  },
  "language_info": {
   "codemirror_mode": {
    "name": "ipython",
    "version": 3
   },
   "file_extension": ".py",
   "mimetype": "text/x-python",
   "name": "python",
   "nbconvert_exporter": "python",
   "pygments_lexer": "ipython3",
   "version": "3.6.4"
  }
 },
 "nbformat": 4,
 "nbformat_minor": 2
}
